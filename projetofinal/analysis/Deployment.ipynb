{
 "cells": [
  {
   "cell_type": "code",
   "execution_count": 4,
   "id": "369ae867-95e1-4902-867a-2e43168faedb",
   "metadata": {},
   "outputs": [
    {
     "name": "stdout",
     "output_type": "stream",
     "text": [
      "/Users/enderson.santos/projetofinal\n"
     ]
    },
    {
     "name": "stderr",
     "output_type": "stream",
     "text": [
      "/Users/enderson.santos/.pyenv/versions/3.12.1/lib/python3.12/site-packages/IPython/core/magics/osm.py:417: UserWarning: using dhist requires you to install the `pickleshare` library.\n",
      "  self.shell.db['dhist'] = compress_dhist(dhist)[-100:]\n"
     ]
    }
   ],
   "source": [
    "%cd ..\n",
    "current_jupyter_path : str = '/Users/enderson.santos/'"
   ]
  },
  {
   "cell_type": "code",
   "execution_count": 10,
   "id": "f8c923ea-a2f8-43b9-9fea-539de6049b60",
   "metadata": {},
   "outputs": [],
   "source": [
    "from preprocessing import read_pickle\n",
    "from projetofinal.train_tools import return_embeedings\n",
    "\n",
    "from flask import Flask"
   ]
  },
  {
   "cell_type": "markdown",
   "id": "c2a65c69-0729-461e-beda-8c2c50fc5fb1",
   "metadata": {},
   "source": [
    "# Using Model"
   ]
  },
  {
   "cell_type": "code",
   "execution_count": 7,
   "id": "dffd96aa-f31b-4f86-bf8c-02ce3536319a",
   "metadata": {},
   "outputs": [],
   "source": [
    "(\n",
    "    inverted_mapping_ter,\n",
    "    inverted_mapping_sec,\n",
    "    word2vec_model,\n",
    "    clf_sec,\n",
    "    clf_ter,\n",
    ") = read_pickle('projetofinal/models/xg_boost.pkl')"
   ]
  },
  {
   "cell_type": "code",
   "execution_count": 8,
   "id": "b84362f2-1672-4602-a651-8f9db4bb6f18",
   "metadata": {},
   "outputs": [],
   "source": [
    "str_pred = return_embeedings('carlos',\n",
    "word2vec_model,\n",
    "clf_ter,\n",
    "clf_sec,\n",
    "inverted_mapping_ter,\n",
    "inverted_mapping_sec,\n",
    "'xg_boost')"
   ]
  },
  {
   "cell_type": "code",
   "execution_count": 9,
   "id": "b2320d86-57b2-4e2f-a94c-1a7c1d8d274e",
   "metadata": {},
   "outputs": [
    {
     "data": {
      "text/plain": [
       "('PRT', 'S11', 0.43499386, 0.69522655)"
      ]
     },
     "execution_count": 9,
     "metadata": {},
     "output_type": "execute_result"
    }
   ],
   "source": [
    "str_pred"
   ]
  },
  {
   "cell_type": "markdown",
   "id": "e6a301f5-1334-4146-862e-88d4160a1996",
   "metadata": {},
   "source": [
    "# Flask"
   ]
  },
  {
   "cell_type": "code",
   "execution_count": 13,
   "id": "08046d83-afca-4537-9c7b-ca101dea7ad2",
   "metadata": {},
   "outputs": [],
   "source": [
    "import requests "
   ]
  },
  {
   "cell_type": "code",
   "execution_count": 14,
   "id": "d45dc467-d3c4-49c6-9ce3-fb607bfe0386",
   "metadata": {},
   "outputs": [],
   "source": [
    "url = 'http://localhost:9696/predict'"
   ]
  },
  {
   "cell_type": "code",
   "execution_count": 15,
   "id": "8797f2a9-46d7-4fa1-a629-e961dcd39612",
   "metadata": {},
   "outputs": [],
   "source": [
    "string = 'Carlos'"
   ]
  },
  {
   "cell_type": "code",
   "execution_count": 21,
   "id": "d9dbff4c-b3f9-4d08-8564-8a60d5c57d9a",
   "metadata": {},
   "outputs": [
    {
     "data": {
      "text/plain": [
       "{'Setor': 'S11', 'Territory': 'PRT'}"
      ]
     },
     "execution_count": 21,
     "metadata": {},
     "output_type": "execute_result"
    }
   ],
   "source": [
    "requests.post(url, string).json()"
   ]
  },
  {
   "cell_type": "code",
   "execution_count": null,
   "id": "a5ba4a63-cdcc-4da5-a3b6-39fa98ec4cee",
   "metadata": {},
   "outputs": [],
   "source": []
  }
 ],
 "metadata": {
  "kernelspec": {
   "display_name": "Python 3 (ipykernel)",
   "language": "python",
   "name": "python3"
  },
  "language_info": {
   "codemirror_mode": {
    "name": "ipython",
    "version": 3
   },
   "file_extension": ".py",
   "mimetype": "text/x-python",
   "name": "python",
   "nbconvert_exporter": "python",
   "pygments_lexer": "ipython3",
   "version": "3.12.1"
  }
 },
 "nbformat": 4,
 "nbformat_minor": 5
}
