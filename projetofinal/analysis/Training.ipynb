{
 "cells": [
  {
   "cell_type": "markdown",
   "id": "b8743fc0",
   "metadata": {},
   "source": [
    "# Objective\n",
    "- O objetivo é treinar um modelo utilizando a descrição do produto para prever o setor e o território\n",
    "- Vamos utilizar Word2Vec para trasformar a descrição em vetores (embeddings)\n",
    "- Vamos utilizar um modelo XG boost para treinar"
   ]
  },
  {
   "cell_type": "markdown",
   "id": "700da44f",
   "metadata": {},
   "source": [
    "# Data\n",
    "- Dados fornecidos pelo banco de Portugal"
   ]
  },
  {
   "cell_type": "markdown",
   "id": "ee13ff9d",
   "metadata": {},
   "source": [
    "# Imports"
   ]
  },
  {
   "cell_type": "code",
   "execution_count": 1,
   "id": "37332c4f",
   "metadata": {},
   "outputs": [],
   "source": [
    "import pandas as pd\n",
    "import numpy as np\n",
    "from sklearn.model_selection import train_test_split, GridSearchCV\n",
    "from sklearn.preprocessing import LabelEncoder, OneHotEncoder\n",
    "from feature_engine.encoding import RareLabelEncoder\n",
    "from gensim.utils import simple_preprocess\n",
    "from gensim.models import Word2Vec\n",
    "from xgboost import XGBClassifier\n",
    "from sklearn.metrics import accuracy_score\n",
    "import gradio as gr\n",
    "import pickle"
   ]
  },
  {
   "cell_type": "markdown",
   "id": "77176345",
   "metadata": {},
   "source": [
    "# Reading Data"
   ]
  },
  {
   "cell_type": "code",
   "execution_count": 2,
   "id": "994d32f7",
   "metadata": {},
   "outputs": [],
   "source": [
    "df = pd.read_excel('../../data/01.Dataset FI_06032024.xlsx', sheet_name=2)"
   ]
  },
  {
   "cell_type": "markdown",
   "id": "a5378a51",
   "metadata": {},
   "source": [
    "# Small Preprocessing"
   ]
  },
  {
   "cell_type": "markdown",
   "id": "7c6f131a",
   "metadata": {},
   "source": [
    "Mapeando o código ao nome da descrição"
   ]
  },
  {
   "cell_type": "code",
   "execution_count": 3,
   "id": "3e63ca66",
   "metadata": {},
   "outputs": [],
   "source": [
    "MAP_TipoInformacao = {\"A\": \"ativo\", \"P\": \"passivo\"}\n",
    "MAP_TipoInstrumento = {\"F21\": \"Numerário\", \"F22\": \"Depósitos transferíveis\", \"F29\": \"Outros depósitos\", \"F3_P\": \"Títulos de dívida\", \"F4\": \"Empréstimos\", \"F511\": \"Ações cotadas\", \"F512\": \"Ações não cotadas\", \"F519\": \"Outras participações\", \"F521\": \"Unidades de Participação emitidas por FMM\", \"F522\": \"Unidades de Participação emitidas por FI, excluindo FMM\", \"F71\": \"Derivados financeiros\"}\n",
    "MAP_MaturidadeOriginal = {\"01\": \"A vista\", \"10\": \"Ate 1 ano\", \"06\": \"De 1 a 2 anos\", \"07\": \"De 2 a 5 anos\", \"08\": \"A mais de 5 anos\", \"_Z\": \"Não aplicável\"}"
   ]
  },
  {
   "cell_type": "code",
   "execution_count": 4,
   "id": "353a4a51",
   "metadata": {},
   "outputs": [],
   "source": [
    "df.TipoInformacao = df.TipoInformacao.map(MAP_TipoInformacao)\n",
    "df.TipoInstrumento = df.TipoInstrumento.map(MAP_TipoInstrumento)\n",
    "df.MaturidadeOriginal = df.MaturidadeOriginal.map(MAP_MaturidadeOriginal)"
   ]
  },
  {
   "cell_type": "code",
   "execution_count": 5,
   "id": "04219182",
   "metadata": {},
   "outputs": [],
   "source": [
    "df.drop([\"CodEntidadeRef\", \"CodEntidadeCon\"], axis=1, inplace=True)"
   ]
  },
  {
   "cell_type": "code",
   "execution_count": 6,
   "id": "c2350e7d",
   "metadata": {},
   "outputs": [
    {
     "data": {
      "text/html": [
       "<div>\n",
       "<style scoped>\n",
       "    .dataframe tbody tr th:only-of-type {\n",
       "        vertical-align: middle;\n",
       "    }\n",
       "\n",
       "    .dataframe tbody tr th {\n",
       "        vertical-align: top;\n",
       "    }\n",
       "\n",
       "    .dataframe thead th {\n",
       "        text-align: right;\n",
       "    }\n",
       "</style>\n",
       "<table border=\"1\" class=\"dataframe\">\n",
       "  <thead>\n",
       "    <tr style=\"text-align: right;\">\n",
       "      <th></th>\n",
       "      <th>TipoInformacao</th>\n",
       "      <th>TipoInstrumento</th>\n",
       "      <th>DescricaoInstrumento</th>\n",
       "      <th>MaturidadeOriginal</th>\n",
       "      <th>SetorInstitucionalCon</th>\n",
       "      <th>TerritorioCon</th>\n",
       "    </tr>\n",
       "  </thead>\n",
       "  <tbody>\n",
       "    <tr>\n",
       "      <th>0</th>\n",
       "      <td>ativo</td>\n",
       "      <td>Depósitos transferíveis</td>\n",
       "      <td>BST Futuros  2.90%</td>\n",
       "      <td>A vista</td>\n",
       "      <td>S122</td>\n",
       "      <td>PRT</td>\n",
       "    </tr>\n",
       "    <tr>\n",
       "      <th>1</th>\n",
       "      <td>ativo</td>\n",
       "      <td>Depósitos transferíveis</td>\n",
       "      <td>BPI EUR 0.00%</td>\n",
       "      <td>A vista</td>\n",
       "      <td>S122</td>\n",
       "      <td>PRT</td>\n",
       "    </tr>\n",
       "    <tr>\n",
       "      <th>2</th>\n",
       "      <td>ativo</td>\n",
       "      <td>Depósitos transferíveis</td>\n",
       "      <td>BST Futuros  2.65%</td>\n",
       "      <td>A vista</td>\n",
       "      <td>S122</td>\n",
       "      <td>PRT</td>\n",
       "    </tr>\n",
       "  </tbody>\n",
       "</table>\n",
       "</div>"
      ],
      "text/plain": [
       "  TipoInformacao          TipoInstrumento DescricaoInstrumento  \\\n",
       "0          ativo  Depósitos transferíveis   BST Futuros  2.90%   \n",
       "1          ativo  Depósitos transferíveis        BPI EUR 0.00%   \n",
       "2          ativo  Depósitos transferíveis   BST Futuros  2.65%   \n",
       "\n",
       "  MaturidadeOriginal SetorInstitucionalCon TerritorioCon  \n",
       "0            A vista                  S122           PRT  \n",
       "1            A vista                  S122           PRT  \n",
       "2            A vista                  S122           PRT  "
      ]
     },
     "execution_count": 6,
     "metadata": {},
     "output_type": "execute_result"
    }
   ],
   "source": [
    "df.head(3)"
   ]
  },
  {
   "cell_type": "markdown",
   "id": "a63ddf79",
   "metadata": {},
   "source": [
    "# Feature Engineering"
   ]
  },
  {
   "cell_type": "code",
   "execution_count": 7,
   "id": "626ff88e",
   "metadata": {},
   "outputs": [],
   "source": [
    "df_clean = df.copy()"
   ]
  },
  {
   "cell_type": "markdown",
   "id": "80af5cbe",
   "metadata": {},
   "source": [
    "### Encoding Rare Labels"
   ]
  },
  {
   "cell_type": "markdown",
   "id": "a5ae80d6",
   "metadata": {},
   "source": [
    "### Label Enconder"
   ]
  },
  {
   "cell_type": "markdown",
   "id": "2a612e86",
   "metadata": {},
   "source": [
    "Criando funções para fazer o enconding dos targets"
   ]
  },
  {
   "cell_type": "code",
   "execution_count": 8,
   "id": "bfa01a10",
   "metadata": {},
   "outputs": [],
   "source": [
    "def encode_target(label, category_mapping):\n",
    "  # Check if label is unseen (not in the dictionary)\n",
    "  if label not in category_mapping:\n",
    "    # Assign next available integer as seen in training data\n",
    "    new_value = len(category_mapping)\n",
    "    category_mapping[label] = new_value\n",
    "  \n",
    "  return category_mapping[label]"
   ]
  },
  {
   "cell_type": "code",
   "execution_count": 9,
   "id": "d70f9d9c",
   "metadata": {},
   "outputs": [],
   "source": [
    "def map_numbers_to_categories(numbers, category_mapping):\n",
    "    \"\"\"Maps numbers back to their corresponding category names using a provided mapping dictionary.\n",
    "\n",
    "    Args:\n",
    "        numbers: A list or array containing the numerical representations of categories.\n",
    "        category_mapping: A dictionary mapping category names (keys) to their numerical representations (values).\n",
    "\n",
    "    Returns:\n",
    "        A list containing the corresponding category names for the input numbers.\n",
    "    \"\"\"\n",
    "\n",
    "    category_names = [category_mapping.get(number, None) for number in numbers]\n",
    "    return category_names"
   ]
  },
  {
   "cell_type": "code",
   "execution_count": 10,
   "id": "8ed702c5",
   "metadata": {},
   "outputs": [],
   "source": [
    "def return_map(df_clean):\n",
    "\n",
    "    territory_map = {}\n",
    "    sector_map = {}\n",
    "\n",
    "    # Iterate through each row (assuming TerritorioCon and encoded_label_territorio are in the same order)\n",
    "    for territorio, encoded_label in zip(df_clean[\"TerritorioCon\"], df_clean[\"encoded_label_territorio\"]):\n",
    "      # Add the mapping to the dictionary if the TerritorioCon is not already present\n",
    "      if territorio not in territory_map:\n",
    "        territory_map[territorio] = encoded_label\n",
    "    \n",
    "    for sector, encoded_label_sector in zip(df_clean[\"SetorInstitucionalCon\"], df_clean[\"encoded_label_setor\"]):\n",
    "      # Add the mapping to the dictionary if the TerritorioCon is not already present\n",
    "      if sector not in sector_map:\n",
    "        sector_map[sector] = encoded_label_sector\n",
    "\n",
    "    return territory_map, sector_map"
   ]
  },
  {
   "cell_type": "markdown",
   "id": "9b721dd9",
   "metadata": {},
   "source": [
    "Aplicando funções para mapear os targets a códigos pra podermos treinar o modelo"
   ]
  },
  {
   "cell_type": "code",
   "execution_count": 11,
   "id": "68aa6e66",
   "metadata": {},
   "outputs": [],
   "source": [
    "# Get unique categories from 'TerritorioCon' column\n",
    "unique_categories_ter = df_clean['TerritorioCon'].unique()\n",
    "category_mapping_ter = dict(zip(unique_categories_ter, range(len(unique_categories_ter))))\n",
    "inverted_mapping_ter = {value: key for key, value in category_mapping_ter.items()}\n",
    "\n",
    "unique_categories_sec = df_clean[\"SetorInstitucionalCon\"].unique()\n",
    "category_mapping_sec = dict(zip(unique_categories_sec, range(len(unique_categories_sec))))\n",
    "inverted_mapping_sec = {value: key for key, value in category_mapping_sec.items()}\n",
    "\n",
    "df_clean[\"encoded_label_territorio\"] = df_clean[\"TerritorioCon\"].apply(encode_target, args=[category_mapping_ter])\n",
    "df_clean[\"encoded_label_setor\"] = df_clean['SetorInstitucionalCon'].apply(encode_target, args=[category_mapping_sec])"
   ]
  },
  {
   "cell_type": "code",
   "execution_count": 12,
   "id": "f62bf0c2",
   "metadata": {},
   "outputs": [
    {
     "data": {
      "text/html": [
       "<div>\n",
       "<style scoped>\n",
       "    .dataframe tbody tr th:only-of-type {\n",
       "        vertical-align: middle;\n",
       "    }\n",
       "\n",
       "    .dataframe tbody tr th {\n",
       "        vertical-align: top;\n",
       "    }\n",
       "\n",
       "    .dataframe thead th {\n",
       "        text-align: right;\n",
       "    }\n",
       "</style>\n",
       "<table border=\"1\" class=\"dataframe\">\n",
       "  <thead>\n",
       "    <tr style=\"text-align: right;\">\n",
       "      <th></th>\n",
       "      <th>TipoInformacao</th>\n",
       "      <th>TipoInstrumento</th>\n",
       "      <th>DescricaoInstrumento</th>\n",
       "      <th>MaturidadeOriginal</th>\n",
       "      <th>SetorInstitucionalCon</th>\n",
       "      <th>TerritorioCon</th>\n",
       "      <th>encoded_label_territorio</th>\n",
       "      <th>encoded_label_setor</th>\n",
       "    </tr>\n",
       "  </thead>\n",
       "  <tbody>\n",
       "    <tr>\n",
       "      <th>0</th>\n",
       "      <td>ativo</td>\n",
       "      <td>Depósitos transferíveis</td>\n",
       "      <td>BST Futuros  2.90%</td>\n",
       "      <td>A vista</td>\n",
       "      <td>S122</td>\n",
       "      <td>PRT</td>\n",
       "      <td>0</td>\n",
       "      <td>0</td>\n",
       "    </tr>\n",
       "    <tr>\n",
       "      <th>1</th>\n",
       "      <td>ativo</td>\n",
       "      <td>Depósitos transferíveis</td>\n",
       "      <td>BPI EUR 0.00%</td>\n",
       "      <td>A vista</td>\n",
       "      <td>S122</td>\n",
       "      <td>PRT</td>\n",
       "      <td>0</td>\n",
       "      <td>0</td>\n",
       "    </tr>\n",
       "    <tr>\n",
       "      <th>2</th>\n",
       "      <td>ativo</td>\n",
       "      <td>Depósitos transferíveis</td>\n",
       "      <td>BST Futuros  2.65%</td>\n",
       "      <td>A vista</td>\n",
       "      <td>S122</td>\n",
       "      <td>PRT</td>\n",
       "      <td>0</td>\n",
       "      <td>0</td>\n",
       "    </tr>\n",
       "  </tbody>\n",
       "</table>\n",
       "</div>"
      ],
      "text/plain": [
       "  TipoInformacao          TipoInstrumento DescricaoInstrumento  \\\n",
       "0          ativo  Depósitos transferíveis   BST Futuros  2.90%   \n",
       "1          ativo  Depósitos transferíveis        BPI EUR 0.00%   \n",
       "2          ativo  Depósitos transferíveis   BST Futuros  2.65%   \n",
       "\n",
       "  MaturidadeOriginal SetorInstitucionalCon TerritorioCon  \\\n",
       "0            A vista                  S122           PRT   \n",
       "1            A vista                  S122           PRT   \n",
       "2            A vista                  S122           PRT   \n",
       "\n",
       "   encoded_label_territorio  encoded_label_setor  \n",
       "0                         0                    0  \n",
       "1                         0                    0  \n",
       "2                         0                    0  "
      ]
     },
     "execution_count": 12,
     "metadata": {},
     "output_type": "execute_result"
    }
   ],
   "source": [
    "df_clean.head(3)"
   ]
  },
  {
   "cell_type": "markdown",
   "id": "8be72c00",
   "metadata": {},
   "source": [
    "### Processing Description Column"
   ]
  },
  {
   "cell_type": "markdown",
   "id": "cd9399de",
   "metadata": {},
   "source": [
    "Vamos agora:\n",
    "1. Utilizar a função simple_preprocess para aplicarmos tecnicas de Text Mining para limpar a descrição\n",
    "2. Treinando o modelo Word2Vec para processar coluna com a descrição para vetores (Embeddings)"
   ]
  },
  {
   "cell_type": "code",
   "execution_count": 13,
   "id": "38a5aca5",
   "metadata": {},
   "outputs": [],
   "source": [
    "df_clean['tokenized_Descricao_text'] = df_clean['DescricaoInstrumento'].apply(lambda x: simple_preprocess(x))\n",
    "word2vec_model = Word2Vec(sentences=df_clean['tokenized_Descricao_text'], vector_size=100, window=5, min_count=1, workers=4)"
   ]
  },
  {
   "cell_type": "code",
   "execution_count": 32,
   "id": "126af7e3",
   "metadata": {},
   "outputs": [
    {
     "data": {
      "text/html": [
       "<div>\n",
       "<style scoped>\n",
       "    .dataframe tbody tr th:only-of-type {\n",
       "        vertical-align: middle;\n",
       "    }\n",
       "\n",
       "    .dataframe tbody tr th {\n",
       "        vertical-align: top;\n",
       "    }\n",
       "\n",
       "    .dataframe thead th {\n",
       "        text-align: right;\n",
       "    }\n",
       "</style>\n",
       "<table border=\"1\" class=\"dataframe\">\n",
       "  <thead>\n",
       "    <tr style=\"text-align: right;\">\n",
       "      <th></th>\n",
       "      <th>CodEntidadeRef</th>\n",
       "      <th>TipoInformacao</th>\n",
       "      <th>TipoInstrumento</th>\n",
       "      <th>DescricaoInstrumento</th>\n",
       "      <th>MaturidadeOriginal</th>\n",
       "      <th>CodEntidadeCon</th>\n",
       "      <th>SetorInstitucionalCon</th>\n",
       "      <th>TerritorioCon</th>\n",
       "      <th>encoded_label_territorio</th>\n",
       "      <th>encoded_label_setor</th>\n",
       "      <th>tokenized_Descricao_text</th>\n",
       "      <th>avg_embedding</th>\n",
       "    </tr>\n",
       "  </thead>\n",
       "  <tbody>\n",
       "    <tr>\n",
       "      <th>0</th>\n",
       "      <td>0011</td>\n",
       "      <td>A</td>\n",
       "      <td>F22</td>\n",
       "      <td>BST Futuros  2.90%</td>\n",
       "      <td>01</td>\n",
       "      <td>549300URJH9VSI58CS32</td>\n",
       "      <td>S122</td>\n",
       "      <td>PRT</td>\n",
       "      <td>0</td>\n",
       "      <td>0</td>\n",
       "      <td>[bst, futuros]</td>\n",
       "      <td>[0.21059188, 0.2076537, 0.30291024, 0.10989760...</td>\n",
       "    </tr>\n",
       "    <tr>\n",
       "      <th>1</th>\n",
       "      <td>0011</td>\n",
       "      <td>A</td>\n",
       "      <td>F22</td>\n",
       "      <td>BPI EUR 0.00%</td>\n",
       "      <td>01</td>\n",
       "      <td>3DM5DPGI3W6OU6GJ4N92</td>\n",
       "      <td>S122</td>\n",
       "      <td>PRT</td>\n",
       "      <td>0</td>\n",
       "      <td>0</td>\n",
       "      <td>[bpi, eur]</td>\n",
       "      <td>[-0.38029993, 0.52245504, 0.15558448, -0.08544...</td>\n",
       "    </tr>\n",
       "    <tr>\n",
       "      <th>2</th>\n",
       "      <td>0011</td>\n",
       "      <td>A</td>\n",
       "      <td>F22</td>\n",
       "      <td>BST Futuros  2.65%</td>\n",
       "      <td>01</td>\n",
       "      <td>549300URJH9VSI58CS32</td>\n",
       "      <td>S122</td>\n",
       "      <td>PRT</td>\n",
       "      <td>0</td>\n",
       "      <td>0</td>\n",
       "      <td>[bst, futuros]</td>\n",
       "      <td>[0.21059188, 0.2076537, 0.30291024, 0.10989760...</td>\n",
       "    </tr>\n",
       "    <tr>\n",
       "      <th>3</th>\n",
       "      <td>0011</td>\n",
       "      <td>A</td>\n",
       "      <td>F22</td>\n",
       "      <td>BST EUR 3.15%</td>\n",
       "      <td>01</td>\n",
       "      <td>549300URJH9VSI58CS32</td>\n",
       "      <td>S122</td>\n",
       "      <td>PRT</td>\n",
       "      <td>0</td>\n",
       "      <td>0</td>\n",
       "      <td>[bst, eur]</td>\n",
       "      <td>[-0.02573803, 0.35369152, 0.38839126, 0.130108...</td>\n",
       "    </tr>\n",
       "    <tr>\n",
       "      <th>4</th>\n",
       "      <td>0011</td>\n",
       "      <td>A</td>\n",
       "      <td>F22</td>\n",
       "      <td>BST EUR 2.65%</td>\n",
       "      <td>01</td>\n",
       "      <td>549300URJH9VSI58CS32</td>\n",
       "      <td>S122</td>\n",
       "      <td>PRT</td>\n",
       "      <td>0</td>\n",
       "      <td>0</td>\n",
       "      <td>[bst, eur]</td>\n",
       "      <td>[-0.02573803, 0.35369152, 0.38839126, 0.130108...</td>\n",
       "    </tr>\n",
       "    <tr>\n",
       "      <th>...</th>\n",
       "      <td>...</td>\n",
       "      <td>...</td>\n",
       "      <td>...</td>\n",
       "      <td>...</td>\n",
       "      <td>...</td>\n",
       "      <td>...</td>\n",
       "      <td>...</td>\n",
       "      <td>...</td>\n",
       "      <td>...</td>\n",
       "      <td>...</td>\n",
       "      <td>...</td>\n",
       "      <td>...</td>\n",
       "    </tr>\n",
       "    <tr>\n",
       "      <th>42402</th>\n",
       "      <td>2039</td>\n",
       "      <td>P</td>\n",
       "      <td>F4</td>\n",
       "      <td>Empréstimo Vic Management 0,01%</td>\n",
       "      <td>_Z</td>\n",
       "      <td>514925507</td>\n",
       "      <td>S11</td>\n",
       "      <td>PRT</td>\n",
       "      <td>0</td>\n",
       "      <td>2</td>\n",
       "      <td>[empréstimo, vic, management]</td>\n",
       "      <td>[0.0036637771, 0.18185794, -0.028314546, -0.03...</td>\n",
       "    </tr>\n",
       "    <tr>\n",
       "      <th>42403</th>\n",
       "      <td>2040</td>\n",
       "      <td>P</td>\n",
       "      <td>F3_P</td>\n",
       "      <td>Outros Passivos</td>\n",
       "      <td>07</td>\n",
       "      <td>549300OZ46BRLZ8Y6F65</td>\n",
       "      <td>S122</td>\n",
       "      <td>BEL</td>\n",
       "      <td>10</td>\n",
       "      <td>0</td>\n",
       "      <td>[outros, passivos]</td>\n",
       "      <td>[0.0076383865, 0.025745993, -0.015578038, -0.0...</td>\n",
       "    </tr>\n",
       "    <tr>\n",
       "      <th>42404</th>\n",
       "      <td>2040</td>\n",
       "      <td>P</td>\n",
       "      <td>F4</td>\n",
       "      <td>Empréstimo Vic One Pest Sup 0,01%</td>\n",
       "      <td>_Z</td>\n",
       "      <td>514925507</td>\n",
       "      <td>S11</td>\n",
       "      <td>PRT</td>\n",
       "      <td>0</td>\n",
       "      <td>2</td>\n",
       "      <td>[empréstimo, vic, one, pest, sup]</td>\n",
       "      <td>[0.015979785, 0.13606855, -0.028846968, -0.023...</td>\n",
       "    </tr>\n",
       "    <tr>\n",
       "      <th>42405</th>\n",
       "      <td>2040</td>\n",
       "      <td>P</td>\n",
       "      <td>F4</td>\n",
       "      <td>Empréstimo Vic Management 0,01%</td>\n",
       "      <td>_Z</td>\n",
       "      <td>514925507</td>\n",
       "      <td>S11</td>\n",
       "      <td>PRT</td>\n",
       "      <td>0</td>\n",
       "      <td>2</td>\n",
       "      <td>[empréstimo, vic, management]</td>\n",
       "      <td>[0.0036637771, 0.18185794, -0.028314546, -0.03...</td>\n",
       "    </tr>\n",
       "    <tr>\n",
       "      <th>42406</th>\n",
       "      <td>2040</td>\n",
       "      <td>P</td>\n",
       "      <td>F4</td>\n",
       "      <td>Empréstimo Vic One 0,01%</td>\n",
       "      <td>_Z</td>\n",
       "      <td>514925507</td>\n",
       "      <td>S11</td>\n",
       "      <td>PRT</td>\n",
       "      <td>0</td>\n",
       "      <td>2</td>\n",
       "      <td>[empréstimo, vic, one]</td>\n",
       "      <td>[0.007004705, 0.17321096, -0.029539982, -0.031...</td>\n",
       "    </tr>\n",
       "  </tbody>\n",
       "</table>\n",
       "<p>42407 rows × 12 columns</p>\n",
       "</div>"
      ],
      "text/plain": [
       "      CodEntidadeRef TipoInformacao TipoInstrumento  \\\n",
       "0               0011              A             F22   \n",
       "1               0011              A             F22   \n",
       "2               0011              A             F22   \n",
       "3               0011              A             F22   \n",
       "4               0011              A             F22   \n",
       "...              ...            ...             ...   \n",
       "42402           2039              P              F4   \n",
       "42403           2040              P            F3_P   \n",
       "42404           2040              P              F4   \n",
       "42405           2040              P              F4   \n",
       "42406           2040              P              F4   \n",
       "\n",
       "                    DescricaoInstrumento MaturidadeOriginal  \\\n",
       "0                     BST Futuros  2.90%                 01   \n",
       "1                          BPI EUR 0.00%                 01   \n",
       "2                     BST Futuros  2.65%                 01   \n",
       "3                          BST EUR 3.15%                 01   \n",
       "4                          BST EUR 2.65%                 01   \n",
       "...                                  ...                ...   \n",
       "42402    Empréstimo Vic Management 0,01%                 _Z   \n",
       "42403                    Outros Passivos                 07   \n",
       "42404  Empréstimo Vic One Pest Sup 0,01%                 _Z   \n",
       "42405    Empréstimo Vic Management 0,01%                 _Z   \n",
       "42406           Empréstimo Vic One 0,01%                 _Z   \n",
       "\n",
       "             CodEntidadeCon SetorInstitucionalCon TerritorioCon  \\\n",
       "0      549300URJH9VSI58CS32                  S122           PRT   \n",
       "1      3DM5DPGI3W6OU6GJ4N92                  S122           PRT   \n",
       "2      549300URJH9VSI58CS32                  S122           PRT   \n",
       "3      549300URJH9VSI58CS32                  S122           PRT   \n",
       "4      549300URJH9VSI58CS32                  S122           PRT   \n",
       "...                     ...                   ...           ...   \n",
       "42402             514925507                   S11           PRT   \n",
       "42403  549300OZ46BRLZ8Y6F65                  S122           BEL   \n",
       "42404             514925507                   S11           PRT   \n",
       "42405             514925507                   S11           PRT   \n",
       "42406             514925507                   S11           PRT   \n",
       "\n",
       "       encoded_label_territorio  encoded_label_setor  \\\n",
       "0                             0                    0   \n",
       "1                             0                    0   \n",
       "2                             0                    0   \n",
       "3                             0                    0   \n",
       "4                             0                    0   \n",
       "...                         ...                  ...   \n",
       "42402                         0                    2   \n",
       "42403                        10                    0   \n",
       "42404                         0                    2   \n",
       "42405                         0                    2   \n",
       "42406                         0                    2   \n",
       "\n",
       "                tokenized_Descricao_text  \\\n",
       "0                         [bst, futuros]   \n",
       "1                             [bpi, eur]   \n",
       "2                         [bst, futuros]   \n",
       "3                             [bst, eur]   \n",
       "4                             [bst, eur]   \n",
       "...                                  ...   \n",
       "42402      [empréstimo, vic, management]   \n",
       "42403                 [outros, passivos]   \n",
       "42404  [empréstimo, vic, one, pest, sup]   \n",
       "42405      [empréstimo, vic, management]   \n",
       "42406             [empréstimo, vic, one]   \n",
       "\n",
       "                                           avg_embedding  \n",
       "0      [0.21059188, 0.2076537, 0.30291024, 0.10989760...  \n",
       "1      [-0.38029993, 0.52245504, 0.15558448, -0.08544...  \n",
       "2      [0.21059188, 0.2076537, 0.30291024, 0.10989760...  \n",
       "3      [-0.02573803, 0.35369152, 0.38839126, 0.130108...  \n",
       "4      [-0.02573803, 0.35369152, 0.38839126, 0.130108...  \n",
       "...                                                  ...  \n",
       "42402  [0.0036637771, 0.18185794, -0.028314546, -0.03...  \n",
       "42403  [0.0076383865, 0.025745993, -0.015578038, -0.0...  \n",
       "42404  [0.015979785, 0.13606855, -0.028846968, -0.023...  \n",
       "42405  [0.0036637771, 0.18185794, -0.028314546, -0.03...  \n",
       "42406  [0.007004705, 0.17321096, -0.029539982, -0.031...  \n",
       "\n",
       "[42407 rows x 12 columns]"
      ]
     },
     "execution_count": 32,
     "metadata": {},
     "output_type": "execute_result"
    }
   ],
   "source": [
    "df_clean"
   ]
  },
  {
   "cell_type": "code",
   "execution_count": 14,
   "id": "78151db6",
   "metadata": {},
   "outputs": [],
   "source": [
    "def compute_avg_embedding(tokens, unknown_embedding=[0]*word2vec_model.vector_size):\n",
    "    embeddings = [word2vec_model.wv[token] for token in tokens if token in word2vec_model.wv]\n",
    "    if embeddings:  # Embeddings found\n",
    "        return np.array(embeddings).mean(axis=0)  # Return average embedding as a NumPy array\n",
    "    else:  # No embeddings found\n",
    "        return np.array(unknown_embedding)"
   ]
  },
  {
   "cell_type": "code",
   "execution_count": 15,
   "id": "1b5f5ece",
   "metadata": {},
   "outputs": [],
   "source": [
    "df_clean['avg_embedding'] = df_clean['tokenized_Descricao_text'].apply(compute_avg_embedding)\n",
    "X = df_clean['avg_embedding'].apply(pd.Series).to_numpy()\n",
    "y1 = df_clean['encoded_label_territorio']\n",
    "y2 = df_clean['encoded_label_setor']\n",
    "embed_data = pd.DataFrame(X)"
   ]
  },
  {
   "cell_type": "code",
   "execution_count": 16,
   "id": "53f94fd6",
   "metadata": {},
   "outputs": [
    {
     "data": {
      "text/html": [
       "<div>\n",
       "<style scoped>\n",
       "    .dataframe tbody tr th:only-of-type {\n",
       "        vertical-align: middle;\n",
       "    }\n",
       "\n",
       "    .dataframe tbody tr th {\n",
       "        vertical-align: top;\n",
       "    }\n",
       "\n",
       "    .dataframe thead th {\n",
       "        text-align: right;\n",
       "    }\n",
       "</style>\n",
       "<table border=\"1\" class=\"dataframe\">\n",
       "  <thead>\n",
       "    <tr style=\"text-align: right;\">\n",
       "      <th></th>\n",
       "      <th>TipoInformacao</th>\n",
       "      <th>TipoInstrumento</th>\n",
       "      <th>DescricaoInstrumento</th>\n",
       "      <th>MaturidadeOriginal</th>\n",
       "      <th>SetorInstitucionalCon</th>\n",
       "      <th>TerritorioCon</th>\n",
       "      <th>encoded_label_territorio</th>\n",
       "      <th>encoded_label_setor</th>\n",
       "      <th>tokenized_Descricao_text</th>\n",
       "      <th>avg_embedding</th>\n",
       "    </tr>\n",
       "  </thead>\n",
       "  <tbody>\n",
       "    <tr>\n",
       "      <th>0</th>\n",
       "      <td>ativo</td>\n",
       "      <td>Depósitos transferíveis</td>\n",
       "      <td>BST Futuros  2.90%</td>\n",
       "      <td>A vista</td>\n",
       "      <td>S122</td>\n",
       "      <td>PRT</td>\n",
       "      <td>0</td>\n",
       "      <td>0</td>\n",
       "      <td>[bst, futuros]</td>\n",
       "      <td>[0.15903172, 0.20167862, 0.22889061, 0.1097056...</td>\n",
       "    </tr>\n",
       "    <tr>\n",
       "      <th>1</th>\n",
       "      <td>ativo</td>\n",
       "      <td>Depósitos transferíveis</td>\n",
       "      <td>BPI EUR 0.00%</td>\n",
       "      <td>A vista</td>\n",
       "      <td>S122</td>\n",
       "      <td>PRT</td>\n",
       "      <td>0</td>\n",
       "      <td>0</td>\n",
       "      <td>[bpi, eur]</td>\n",
       "      <td>[-0.38728598, 0.5166282, 0.10863434, -0.060329...</td>\n",
       "    </tr>\n",
       "    <tr>\n",
       "      <th>2</th>\n",
       "      <td>ativo</td>\n",
       "      <td>Depósitos transferíveis</td>\n",
       "      <td>BST Futuros  2.65%</td>\n",
       "      <td>A vista</td>\n",
       "      <td>S122</td>\n",
       "      <td>PRT</td>\n",
       "      <td>0</td>\n",
       "      <td>0</td>\n",
       "      <td>[bst, futuros]</td>\n",
       "      <td>[0.15903172, 0.20167862, 0.22889061, 0.1097056...</td>\n",
       "    </tr>\n",
       "  </tbody>\n",
       "</table>\n",
       "</div>"
      ],
      "text/plain": [
       "  TipoInformacao          TipoInstrumento DescricaoInstrumento  \\\n",
       "0          ativo  Depósitos transferíveis   BST Futuros  2.90%   \n",
       "1          ativo  Depósitos transferíveis        BPI EUR 0.00%   \n",
       "2          ativo  Depósitos transferíveis   BST Futuros  2.65%   \n",
       "\n",
       "  MaturidadeOriginal SetorInstitucionalCon TerritorioCon  \\\n",
       "0            A vista                  S122           PRT   \n",
       "1            A vista                  S122           PRT   \n",
       "2            A vista                  S122           PRT   \n",
       "\n",
       "   encoded_label_territorio  encoded_label_setor tokenized_Descricao_text  \\\n",
       "0                         0                    0           [bst, futuros]   \n",
       "1                         0                    0               [bpi, eur]   \n",
       "2                         0                    0           [bst, futuros]   \n",
       "\n",
       "                                       avg_embedding  \n",
       "0  [0.15903172, 0.20167862, 0.22889061, 0.1097056...  \n",
       "1  [-0.38728598, 0.5166282, 0.10863434, -0.060329...  \n",
       "2  [0.15903172, 0.20167862, 0.22889061, 0.1097056...  "
      ]
     },
     "execution_count": 16,
     "metadata": {},
     "output_type": "execute_result"
    }
   ],
   "source": [
    "df_clean.head(3)"
   ]
  },
  {
   "cell_type": "markdown",
   "id": "cd3f972f",
   "metadata": {},
   "source": [
    "### Train Test Split"
   ]
  },
  {
   "cell_type": "markdown",
   "id": "f3cbdf99",
   "metadata": {},
   "source": [
    "Separando os dados em treino e test. Vamos ter dois targets. Um para o setor e outro para o território"
   ]
  },
  {
   "cell_type": "code",
   "execution_count": 17,
   "id": "408efd82",
   "metadata": {},
   "outputs": [],
   "source": [
    "# Stratified split with 'TerritorioCon' as the stratification factor\n",
    "#df_train, df_test = train_test_split(embed_data, test_size=0.2, random_state=42)\n",
    "X_train_1, X_test_1, y_train_1, y_test_1 = train_test_split(X, y1, test_size=0.2, random_state=42)\n",
    "X_train_2, X_test_2, y_train_2, y_test_2 = train_test_split(X, y2, test_size=0.2, random_state=42)"
   ]
  },
  {
   "cell_type": "markdown",
   "id": "64a59811",
   "metadata": {},
   "source": [
    "# Train "
   ]
  },
  {
   "cell_type": "markdown",
   "id": "8b4f7ebf",
   "metadata": {},
   "source": [
    "## Train the Model Territorio"
   ]
  },
  {
   "cell_type": "code",
   "execution_count": 176,
   "id": "5374b995",
   "metadata": {},
   "outputs": [
    {
     "name": "stderr",
     "output_type": "stream",
     "text": [
      "/Users/enderson.santos/anaconda3/lib/python3.10/site-packages/xgboost/sklearn.py:835: UserWarning: `early_stopping_rounds` in `fit` method is deprecated for better compatibility with scikit-learn, use `early_stopping_rounds` in constructor or`set_params` instead.\n",
      "  warnings.warn(\n"
     ]
    },
    {
     "name": "stdout",
     "output_type": "stream",
     "text": [
      "[0]\tvalidation_0-mlogloss:1.95872\n",
      "[1]\tvalidation_0-mlogloss:1.69960\n",
      "[2]\tvalidation_0-mlogloss:1.53251\n",
      "[3]\tvalidation_0-mlogloss:1.40903\n",
      "[4]\tvalidation_0-mlogloss:1.30923\n",
      "[5]\tvalidation_0-mlogloss:1.23234\n",
      "[6]\tvalidation_0-mlogloss:1.16907\n",
      "[7]\tvalidation_0-mlogloss:1.11301\n",
      "[8]\tvalidation_0-mlogloss:1.06741\n",
      "[9]\tvalidation_0-mlogloss:1.02906\n",
      "[10]\tvalidation_0-mlogloss:0.99700\n",
      "[11]\tvalidation_0-mlogloss:0.96837\n",
      "[12]\tvalidation_0-mlogloss:0.94057\n",
      "[13]\tvalidation_0-mlogloss:0.91318\n",
      "[14]\tvalidation_0-mlogloss:0.89197\n",
      "[15]\tvalidation_0-mlogloss:0.86888\n",
      "[16]\tvalidation_0-mlogloss:0.84728\n",
      "[17]\tvalidation_0-mlogloss:0.82957\n",
      "[18]\tvalidation_0-mlogloss:0.81352\n",
      "[19]\tvalidation_0-mlogloss:0.79674\n",
      "[20]\tvalidation_0-mlogloss:0.77963\n",
      "[21]\tvalidation_0-mlogloss:0.76749\n",
      "[22]\tvalidation_0-mlogloss:0.75250\n",
      "[23]\tvalidation_0-mlogloss:0.73997\n",
      "[24]\tvalidation_0-mlogloss:0.72740\n",
      "[25]\tvalidation_0-mlogloss:0.71641\n",
      "[26]\tvalidation_0-mlogloss:0.70456\n",
      "[27]\tvalidation_0-mlogloss:0.69234\n",
      "[28]\tvalidation_0-mlogloss:0.68157\n",
      "[29]\tvalidation_0-mlogloss:0.67005\n",
      "[30]\tvalidation_0-mlogloss:0.66075\n",
      "[31]\tvalidation_0-mlogloss:0.65216\n",
      "[32]\tvalidation_0-mlogloss:0.64160\n",
      "[33]\tvalidation_0-mlogloss:0.63413\n",
      "[34]\tvalidation_0-mlogloss:0.62499\n",
      "[35]\tvalidation_0-mlogloss:0.61418\n",
      "[36]\tvalidation_0-mlogloss:0.60559\n",
      "[37]\tvalidation_0-mlogloss:0.59706\n",
      "[38]\tvalidation_0-mlogloss:0.59010\n",
      "[39]\tvalidation_0-mlogloss:0.58211\n",
      "[40]\tvalidation_0-mlogloss:0.57381\n",
      "[41]\tvalidation_0-mlogloss:0.56648\n",
      "[42]\tvalidation_0-mlogloss:0.55864\n",
      "[43]\tvalidation_0-mlogloss:0.55380\n",
      "[44]\tvalidation_0-mlogloss:0.54685\n",
      "[45]\tvalidation_0-mlogloss:0.54073\n",
      "[46]\tvalidation_0-mlogloss:0.53460\n",
      "[47]\tvalidation_0-mlogloss:0.52986\n",
      "[48]\tvalidation_0-mlogloss:0.52434\n",
      "[49]\tvalidation_0-mlogloss:0.51988\n",
      "[50]\tvalidation_0-mlogloss:0.51433\n",
      "[51]\tvalidation_0-mlogloss:0.50988\n",
      "[52]\tvalidation_0-mlogloss:0.50468\n",
      "[53]\tvalidation_0-mlogloss:0.50090\n",
      "[54]\tvalidation_0-mlogloss:0.49641\n",
      "[55]\tvalidation_0-mlogloss:0.49144\n",
      "[56]\tvalidation_0-mlogloss:0.48696\n",
      "[57]\tvalidation_0-mlogloss:0.48309\n",
      "[58]\tvalidation_0-mlogloss:0.47933\n",
      "[59]\tvalidation_0-mlogloss:0.47476\n",
      "[60]\tvalidation_0-mlogloss:0.47003\n",
      "[61]\tvalidation_0-mlogloss:0.46569\n",
      "[62]\tvalidation_0-mlogloss:0.46171\n",
      "[63]\tvalidation_0-mlogloss:0.45876\n",
      "[64]\tvalidation_0-mlogloss:0.45393\n",
      "[65]\tvalidation_0-mlogloss:0.45077\n",
      "[66]\tvalidation_0-mlogloss:0.44812\n",
      "[67]\tvalidation_0-mlogloss:0.44393\n",
      "[68]\tvalidation_0-mlogloss:0.44123\n",
      "[69]\tvalidation_0-mlogloss:0.43859\n",
      "[70]\tvalidation_0-mlogloss:0.43481\n",
      "[71]\tvalidation_0-mlogloss:0.43258\n",
      "[72]\tvalidation_0-mlogloss:0.42949\n",
      "[73]\tvalidation_0-mlogloss:0.42665\n",
      "[74]\tvalidation_0-mlogloss:0.42348\n",
      "[75]\tvalidation_0-mlogloss:0.42072\n",
      "[76]\tvalidation_0-mlogloss:0.41738\n",
      "[77]\tvalidation_0-mlogloss:0.41512\n",
      "[78]\tvalidation_0-mlogloss:0.41237\n",
      "[79]\tvalidation_0-mlogloss:0.40916\n",
      "[80]\tvalidation_0-mlogloss:0.40642\n",
      "[81]\tvalidation_0-mlogloss:0.40366\n",
      "[82]\tvalidation_0-mlogloss:0.40143\n",
      "[83]\tvalidation_0-mlogloss:0.39988\n",
      "[84]\tvalidation_0-mlogloss:0.39733\n",
      "[85]\tvalidation_0-mlogloss:0.39474\n",
      "[86]\tvalidation_0-mlogloss:0.39193\n",
      "[87]\tvalidation_0-mlogloss:0.38950\n",
      "[88]\tvalidation_0-mlogloss:0.38720\n",
      "[89]\tvalidation_0-mlogloss:0.38578\n",
      "[90]\tvalidation_0-mlogloss:0.38312\n",
      "[91]\tvalidation_0-mlogloss:0.38107\n",
      "[92]\tvalidation_0-mlogloss:0.37944\n",
      "[93]\tvalidation_0-mlogloss:0.37758\n",
      "[94]\tvalidation_0-mlogloss:0.37603\n",
      "[95]\tvalidation_0-mlogloss:0.37397\n",
      "[96]\tvalidation_0-mlogloss:0.37205\n",
      "[97]\tvalidation_0-mlogloss:0.37028\n",
      "[98]\tvalidation_0-mlogloss:0.36784\n",
      "[99]\tvalidation_0-mlogloss:0.36527\n"
     ]
    },
    {
     "data": {
      "text/html": [
       "<style>#sk-container-id-3 {color: black;background-color: white;}#sk-container-id-3 pre{padding: 0;}#sk-container-id-3 div.sk-toggleable {background-color: white;}#sk-container-id-3 label.sk-toggleable__label {cursor: pointer;display: block;width: 100%;margin-bottom: 0;padding: 0.3em;box-sizing: border-box;text-align: center;}#sk-container-id-3 label.sk-toggleable__label-arrow:before {content: \"▸\";float: left;margin-right: 0.25em;color: #696969;}#sk-container-id-3 label.sk-toggleable__label-arrow:hover:before {color: black;}#sk-container-id-3 div.sk-estimator:hover label.sk-toggleable__label-arrow:before {color: black;}#sk-container-id-3 div.sk-toggleable__content {max-height: 0;max-width: 0;overflow: hidden;text-align: left;background-color: #f0f8ff;}#sk-container-id-3 div.sk-toggleable__content pre {margin: 0.2em;color: black;border-radius: 0.25em;background-color: #f0f8ff;}#sk-container-id-3 input.sk-toggleable__control:checked~div.sk-toggleable__content {max-height: 200px;max-width: 100%;overflow: auto;}#sk-container-id-3 input.sk-toggleable__control:checked~label.sk-toggleable__label-arrow:before {content: \"▾\";}#sk-container-id-3 div.sk-estimator input.sk-toggleable__control:checked~label.sk-toggleable__label {background-color: #d4ebff;}#sk-container-id-3 div.sk-label input.sk-toggleable__control:checked~label.sk-toggleable__label {background-color: #d4ebff;}#sk-container-id-3 input.sk-hidden--visually {border: 0;clip: rect(1px 1px 1px 1px);clip: rect(1px, 1px, 1px, 1px);height: 1px;margin: -1px;overflow: hidden;padding: 0;position: absolute;width: 1px;}#sk-container-id-3 div.sk-estimator {font-family: monospace;background-color: #f0f8ff;border: 1px dotted black;border-radius: 0.25em;box-sizing: border-box;margin-bottom: 0.5em;}#sk-container-id-3 div.sk-estimator:hover {background-color: #d4ebff;}#sk-container-id-3 div.sk-parallel-item::after {content: \"\";width: 100%;border-bottom: 1px solid gray;flex-grow: 1;}#sk-container-id-3 div.sk-label:hover label.sk-toggleable__label {background-color: #d4ebff;}#sk-container-id-3 div.sk-serial::before {content: \"\";position: absolute;border-left: 1px solid gray;box-sizing: border-box;top: 0;bottom: 0;left: 50%;z-index: 0;}#sk-container-id-3 div.sk-serial {display: flex;flex-direction: column;align-items: center;background-color: white;padding-right: 0.2em;padding-left: 0.2em;position: relative;}#sk-container-id-3 div.sk-item {position: relative;z-index: 1;}#sk-container-id-3 div.sk-parallel {display: flex;align-items: stretch;justify-content: center;background-color: white;position: relative;}#sk-container-id-3 div.sk-item::before, #sk-container-id-3 div.sk-parallel-item::before {content: \"\";position: absolute;border-left: 1px solid gray;box-sizing: border-box;top: 0;bottom: 0;left: 50%;z-index: -1;}#sk-container-id-3 div.sk-parallel-item {display: flex;flex-direction: column;z-index: 1;position: relative;background-color: white;}#sk-container-id-3 div.sk-parallel-item:first-child::after {align-self: flex-end;width: 50%;}#sk-container-id-3 div.sk-parallel-item:last-child::after {align-self: flex-start;width: 50%;}#sk-container-id-3 div.sk-parallel-item:only-child::after {width: 0;}#sk-container-id-3 div.sk-dashed-wrapped {border: 1px dashed gray;margin: 0 0.4em 0.5em 0.4em;box-sizing: border-box;padding-bottom: 0.4em;background-color: white;}#sk-container-id-3 div.sk-label label {font-family: monospace;font-weight: bold;display: inline-block;line-height: 1.2em;}#sk-container-id-3 div.sk-label-container {text-align: center;}#sk-container-id-3 div.sk-container {/* jupyter's `normalize.less` sets `[hidden] { display: none; }` but bootstrap.min.css set `[hidden] { display: none !important; }` so we also need the `!important` here to be able to override the default hidden behavior on the sphinx rendered scikit-learn.org. See: https://github.com/scikit-learn/scikit-learn/issues/21755 */display: inline-block !important;position: relative;}#sk-container-id-3 div.sk-text-repr-fallback {display: none;}</style><div id=\"sk-container-id-3\" class=\"sk-top-container\"><div class=\"sk-text-repr-fallback\"><pre>XGBClassifier(base_score=None, booster=None, callbacks=None,\n",
       "              colsample_bylevel=None, colsample_bynode=None,\n",
       "              colsample_bytree=None, early_stopping_rounds=None,\n",
       "              enable_categorical=False, eval_metric=None, feature_types=None,\n",
       "              gamma=None, gpu_id=None, grow_policy=None, importance_type=None,\n",
       "              interaction_constraints=None, learning_rate=None, max_bin=None,\n",
       "              max_cat_threshold=None, max_cat_to_onehot=None,\n",
       "              max_delta_step=None, max_depth=4, max_leaves=None,\n",
       "              min_child_weight=None, missing=nan, monotone_constraints=None,\n",
       "              n_estimators=100, n_jobs=None, num_parallel_tree=None,\n",
       "              objective=&#x27;multi:softprob&#x27;, predictor=None, ...)</pre><b>In a Jupyter environment, please rerun this cell to show the HTML representation or trust the notebook. <br />On GitHub, the HTML representation is unable to render, please try loading this page with nbviewer.org.</b></div><div class=\"sk-container\" hidden><div class=\"sk-item\"><div class=\"sk-estimator sk-toggleable\"><input class=\"sk-toggleable__control sk-hidden--visually\" id=\"sk-estimator-id-3\" type=\"checkbox\" checked><label for=\"sk-estimator-id-3\" class=\"sk-toggleable__label sk-toggleable__label-arrow\">XGBClassifier</label><div class=\"sk-toggleable__content\"><pre>XGBClassifier(base_score=None, booster=None, callbacks=None,\n",
       "              colsample_bylevel=None, colsample_bynode=None,\n",
       "              colsample_bytree=None, early_stopping_rounds=None,\n",
       "              enable_categorical=False, eval_metric=None, feature_types=None,\n",
       "              gamma=None, gpu_id=None, grow_policy=None, importance_type=None,\n",
       "              interaction_constraints=None, learning_rate=None, max_bin=None,\n",
       "              max_cat_threshold=None, max_cat_to_onehot=None,\n",
       "              max_delta_step=None, max_depth=4, max_leaves=None,\n",
       "              min_child_weight=None, missing=nan, monotone_constraints=None,\n",
       "              n_estimators=100, n_jobs=None, num_parallel_tree=None,\n",
       "              objective=&#x27;multi:softprob&#x27;, predictor=None, ...)</pre></div></div></div></div></div>"
      ],
      "text/plain": [
       "XGBClassifier(base_score=None, booster=None, callbacks=None,\n",
       "              colsample_bylevel=None, colsample_bynode=None,\n",
       "              colsample_bytree=None, early_stopping_rounds=None,\n",
       "              enable_categorical=False, eval_metric=None, feature_types=None,\n",
       "              gamma=None, gpu_id=None, grow_policy=None, importance_type=None,\n",
       "              interaction_constraints=None, learning_rate=None, max_bin=None,\n",
       "              max_cat_threshold=None, max_cat_to_onehot=None,\n",
       "              max_delta_step=None, max_depth=4, max_leaves=None,\n",
       "              min_child_weight=None, missing=nan, monotone_constraints=None,\n",
       "              n_estimators=100, n_jobs=None, num_parallel_tree=None,\n",
       "              objective='multi:softprob', predictor=None, ...)"
      ]
     },
     "execution_count": 176,
     "metadata": {},
     "output_type": "execute_result"
    }
   ],
   "source": [
    "clf_ter = XGBClassifier(random_state=42, max_depth=4)\n",
    "clf_ter.fit(X_train_1, y_train_1, early_stopping_rounds=10, \n",
    "        eval_set=[(X_test_1, y_test_1)])"
   ]
  },
  {
   "cell_type": "markdown",
   "id": "e6feda97",
   "metadata": {},
   "source": [
    "## Evaluate "
   ]
  },
  {
   "cell_type": "code",
   "execution_count": 178,
   "id": "cf2fe7a9",
   "metadata": {},
   "outputs": [],
   "source": [
    "y_pred_test = clf_ter.predict(X_test_1)\n",
    "y_pred_train = clf_ter.predict(X_train_1)"
   ]
  },
  {
   "cell_type": "code",
   "execution_count": 179,
   "id": "819a96c2",
   "metadata": {},
   "outputs": [],
   "source": [
    "pred_test_str = map_numbers_to_categories(y_pred_test, inverted_mapping_ter)\n",
    "pred_train_str = map_numbers_to_categories(y_pred_train, inverted_mapping_ter)"
   ]
  },
  {
   "cell_type": "code",
   "execution_count": 180,
   "id": "351a39bc",
   "metadata": {},
   "outputs": [
    {
     "name": "stdout",
     "output_type": "stream",
     "text": [
      "Accuracy Test: 0.9145248762084414\n",
      "Accuracy Train: 0.9526308032424465\n"
     ]
    }
   ],
   "source": [
    "# Evaluate accuracy\n",
    "accuracy_test = accuracy_score(y_test_1.to_list(), y_pred_test)\n",
    "accuracy_train = accuracy_score(y_train_1.to_list(), y_pred_train)\n",
    "print(\"Accuracy Test:\", accuracy_test)\n",
    "print(\"Accuracy Train:\", accuracy_train)"
   ]
  },
  {
   "cell_type": "markdown",
   "id": "353b222f",
   "metadata": {},
   "source": [
    "## Train Model Sector"
   ]
  },
  {
   "cell_type": "code",
   "execution_count": 181,
   "id": "0b5c89e0",
   "metadata": {},
   "outputs": [
    {
     "name": "stderr",
     "output_type": "stream",
     "text": [
      "/Users/enderson.santos/anaconda3/lib/python3.10/site-packages/xgboost/sklearn.py:835: UserWarning: `early_stopping_rounds` in `fit` method is deprecated for better compatibility with scikit-learn, use `early_stopping_rounds` in constructor or`set_params` instead.\n",
      "  warnings.warn(\n"
     ]
    },
    {
     "name": "stdout",
     "output_type": "stream",
     "text": [
      "[0]\tvalidation_0-mlogloss:1.50263\n",
      "[1]\tvalidation_0-mlogloss:1.23458\n",
      "[2]\tvalidation_0-mlogloss:1.05783\n",
      "[3]\tvalidation_0-mlogloss:0.93583\n",
      "[4]\tvalidation_0-mlogloss:0.84430\n",
      "[5]\tvalidation_0-mlogloss:0.77642\n",
      "[6]\tvalidation_0-mlogloss:0.71586\n",
      "[7]\tvalidation_0-mlogloss:0.67003\n",
      "[8]\tvalidation_0-mlogloss:0.63406\n",
      "[9]\tvalidation_0-mlogloss:0.60550\n",
      "[10]\tvalidation_0-mlogloss:0.58064\n",
      "[11]\tvalidation_0-mlogloss:0.55888\n",
      "[12]\tvalidation_0-mlogloss:0.53581\n",
      "[13]\tvalidation_0-mlogloss:0.51696\n",
      "[14]\tvalidation_0-mlogloss:0.50353\n",
      "[15]\tvalidation_0-mlogloss:0.48938\n",
      "[16]\tvalidation_0-mlogloss:0.47473\n",
      "[17]\tvalidation_0-mlogloss:0.46345\n",
      "[18]\tvalidation_0-mlogloss:0.45012\n",
      "[19]\tvalidation_0-mlogloss:0.44078\n",
      "[20]\tvalidation_0-mlogloss:0.43278\n",
      "[21]\tvalidation_0-mlogloss:0.42497\n",
      "[22]\tvalidation_0-mlogloss:0.41673\n",
      "[23]\tvalidation_0-mlogloss:0.40798\n",
      "[24]\tvalidation_0-mlogloss:0.40134\n",
      "[25]\tvalidation_0-mlogloss:0.39490\n",
      "[26]\tvalidation_0-mlogloss:0.38824\n",
      "[27]\tvalidation_0-mlogloss:0.38157\n",
      "[28]\tvalidation_0-mlogloss:0.37592\n",
      "[29]\tvalidation_0-mlogloss:0.36942\n",
      "[30]\tvalidation_0-mlogloss:0.36368\n",
      "[31]\tvalidation_0-mlogloss:0.35915\n",
      "[32]\tvalidation_0-mlogloss:0.35484\n",
      "[33]\tvalidation_0-mlogloss:0.34975\n",
      "[34]\tvalidation_0-mlogloss:0.34491\n",
      "[35]\tvalidation_0-mlogloss:0.34188\n",
      "[36]\tvalidation_0-mlogloss:0.33693\n",
      "[37]\tvalidation_0-mlogloss:0.33296\n",
      "[38]\tvalidation_0-mlogloss:0.32821\n",
      "[39]\tvalidation_0-mlogloss:0.32451\n",
      "[40]\tvalidation_0-mlogloss:0.32174\n",
      "[41]\tvalidation_0-mlogloss:0.31827\n",
      "[42]\tvalidation_0-mlogloss:0.31584\n",
      "[43]\tvalidation_0-mlogloss:0.31327\n",
      "[44]\tvalidation_0-mlogloss:0.30964\n",
      "[45]\tvalidation_0-mlogloss:0.30535\n",
      "[46]\tvalidation_0-mlogloss:0.30292\n",
      "[47]\tvalidation_0-mlogloss:0.29992\n",
      "[48]\tvalidation_0-mlogloss:0.29681\n",
      "[49]\tvalidation_0-mlogloss:0.29484\n",
      "[50]\tvalidation_0-mlogloss:0.29095\n",
      "[51]\tvalidation_0-mlogloss:0.28933\n",
      "[52]\tvalidation_0-mlogloss:0.28751\n",
      "[53]\tvalidation_0-mlogloss:0.28505\n",
      "[54]\tvalidation_0-mlogloss:0.28331\n",
      "[55]\tvalidation_0-mlogloss:0.28154\n",
      "[56]\tvalidation_0-mlogloss:0.27916\n",
      "[57]\tvalidation_0-mlogloss:0.27682\n",
      "[58]\tvalidation_0-mlogloss:0.27517\n",
      "[59]\tvalidation_0-mlogloss:0.27355\n",
      "[60]\tvalidation_0-mlogloss:0.27260\n",
      "[61]\tvalidation_0-mlogloss:0.27157\n",
      "[62]\tvalidation_0-mlogloss:0.27061\n",
      "[63]\tvalidation_0-mlogloss:0.26955\n",
      "[64]\tvalidation_0-mlogloss:0.26750\n",
      "[65]\tvalidation_0-mlogloss:0.26542\n",
      "[66]\tvalidation_0-mlogloss:0.26344\n",
      "[67]\tvalidation_0-mlogloss:0.26201\n",
      "[68]\tvalidation_0-mlogloss:0.26074\n",
      "[69]\tvalidation_0-mlogloss:0.25973\n",
      "[70]\tvalidation_0-mlogloss:0.25905\n",
      "[71]\tvalidation_0-mlogloss:0.25799\n",
      "[72]\tvalidation_0-mlogloss:0.25658\n",
      "[73]\tvalidation_0-mlogloss:0.25508\n",
      "[74]\tvalidation_0-mlogloss:0.25378\n",
      "[75]\tvalidation_0-mlogloss:0.25266\n",
      "[76]\tvalidation_0-mlogloss:0.25181\n",
      "[77]\tvalidation_0-mlogloss:0.25103\n",
      "[78]\tvalidation_0-mlogloss:0.25033\n",
      "[79]\tvalidation_0-mlogloss:0.24950\n",
      "[80]\tvalidation_0-mlogloss:0.24890\n",
      "[81]\tvalidation_0-mlogloss:0.24793\n",
      "[82]\tvalidation_0-mlogloss:0.24751\n",
      "[83]\tvalidation_0-mlogloss:0.24657\n",
      "[84]\tvalidation_0-mlogloss:0.24617\n",
      "[85]\tvalidation_0-mlogloss:0.24572\n",
      "[86]\tvalidation_0-mlogloss:0.24554\n",
      "[87]\tvalidation_0-mlogloss:0.24506\n",
      "[88]\tvalidation_0-mlogloss:0.24436\n",
      "[89]\tvalidation_0-mlogloss:0.24380\n",
      "[90]\tvalidation_0-mlogloss:0.24340\n",
      "[91]\tvalidation_0-mlogloss:0.24296\n",
      "[92]\tvalidation_0-mlogloss:0.24265\n",
      "[93]\tvalidation_0-mlogloss:0.24209\n",
      "[94]\tvalidation_0-mlogloss:0.24153\n",
      "[95]\tvalidation_0-mlogloss:0.24124\n",
      "[96]\tvalidation_0-mlogloss:0.24094\n",
      "[97]\tvalidation_0-mlogloss:0.24051\n",
      "[98]\tvalidation_0-mlogloss:0.24044\n",
      "[99]\tvalidation_0-mlogloss:0.23990\n"
     ]
    },
    {
     "data": {
      "text/html": [
       "<style>#sk-container-id-4 {color: black;background-color: white;}#sk-container-id-4 pre{padding: 0;}#sk-container-id-4 div.sk-toggleable {background-color: white;}#sk-container-id-4 label.sk-toggleable__label {cursor: pointer;display: block;width: 100%;margin-bottom: 0;padding: 0.3em;box-sizing: border-box;text-align: center;}#sk-container-id-4 label.sk-toggleable__label-arrow:before {content: \"▸\";float: left;margin-right: 0.25em;color: #696969;}#sk-container-id-4 label.sk-toggleable__label-arrow:hover:before {color: black;}#sk-container-id-4 div.sk-estimator:hover label.sk-toggleable__label-arrow:before {color: black;}#sk-container-id-4 div.sk-toggleable__content {max-height: 0;max-width: 0;overflow: hidden;text-align: left;background-color: #f0f8ff;}#sk-container-id-4 div.sk-toggleable__content pre {margin: 0.2em;color: black;border-radius: 0.25em;background-color: #f0f8ff;}#sk-container-id-4 input.sk-toggleable__control:checked~div.sk-toggleable__content {max-height: 200px;max-width: 100%;overflow: auto;}#sk-container-id-4 input.sk-toggleable__control:checked~label.sk-toggleable__label-arrow:before {content: \"▾\";}#sk-container-id-4 div.sk-estimator input.sk-toggleable__control:checked~label.sk-toggleable__label {background-color: #d4ebff;}#sk-container-id-4 div.sk-label input.sk-toggleable__control:checked~label.sk-toggleable__label {background-color: #d4ebff;}#sk-container-id-4 input.sk-hidden--visually {border: 0;clip: rect(1px 1px 1px 1px);clip: rect(1px, 1px, 1px, 1px);height: 1px;margin: -1px;overflow: hidden;padding: 0;position: absolute;width: 1px;}#sk-container-id-4 div.sk-estimator {font-family: monospace;background-color: #f0f8ff;border: 1px dotted black;border-radius: 0.25em;box-sizing: border-box;margin-bottom: 0.5em;}#sk-container-id-4 div.sk-estimator:hover {background-color: #d4ebff;}#sk-container-id-4 div.sk-parallel-item::after {content: \"\";width: 100%;border-bottom: 1px solid gray;flex-grow: 1;}#sk-container-id-4 div.sk-label:hover label.sk-toggleable__label {background-color: #d4ebff;}#sk-container-id-4 div.sk-serial::before {content: \"\";position: absolute;border-left: 1px solid gray;box-sizing: border-box;top: 0;bottom: 0;left: 50%;z-index: 0;}#sk-container-id-4 div.sk-serial {display: flex;flex-direction: column;align-items: center;background-color: white;padding-right: 0.2em;padding-left: 0.2em;position: relative;}#sk-container-id-4 div.sk-item {position: relative;z-index: 1;}#sk-container-id-4 div.sk-parallel {display: flex;align-items: stretch;justify-content: center;background-color: white;position: relative;}#sk-container-id-4 div.sk-item::before, #sk-container-id-4 div.sk-parallel-item::before {content: \"\";position: absolute;border-left: 1px solid gray;box-sizing: border-box;top: 0;bottom: 0;left: 50%;z-index: -1;}#sk-container-id-4 div.sk-parallel-item {display: flex;flex-direction: column;z-index: 1;position: relative;background-color: white;}#sk-container-id-4 div.sk-parallel-item:first-child::after {align-self: flex-end;width: 50%;}#sk-container-id-4 div.sk-parallel-item:last-child::after {align-self: flex-start;width: 50%;}#sk-container-id-4 div.sk-parallel-item:only-child::after {width: 0;}#sk-container-id-4 div.sk-dashed-wrapped {border: 1px dashed gray;margin: 0 0.4em 0.5em 0.4em;box-sizing: border-box;padding-bottom: 0.4em;background-color: white;}#sk-container-id-4 div.sk-label label {font-family: monospace;font-weight: bold;display: inline-block;line-height: 1.2em;}#sk-container-id-4 div.sk-label-container {text-align: center;}#sk-container-id-4 div.sk-container {/* jupyter's `normalize.less` sets `[hidden] { display: none; }` but bootstrap.min.css set `[hidden] { display: none !important; }` so we also need the `!important` here to be able to override the default hidden behavior on the sphinx rendered scikit-learn.org. See: https://github.com/scikit-learn/scikit-learn/issues/21755 */display: inline-block !important;position: relative;}#sk-container-id-4 div.sk-text-repr-fallback {display: none;}</style><div id=\"sk-container-id-4\" class=\"sk-top-container\"><div class=\"sk-text-repr-fallback\"><pre>XGBClassifier(base_score=None, booster=None, callbacks=None,\n",
       "              colsample_bylevel=None, colsample_bynode=None,\n",
       "              colsample_bytree=None, early_stopping_rounds=None,\n",
       "              enable_categorical=False, eval_metric=None, feature_types=None,\n",
       "              gamma=None, gpu_id=None, grow_policy=None, importance_type=None,\n",
       "              interaction_constraints=None, learning_rate=None, max_bin=None,\n",
       "              max_cat_threshold=None, max_cat_to_onehot=None,\n",
       "              max_delta_step=None, max_depth=None, max_leaves=None,\n",
       "              min_child_weight=None, missing=nan, monotone_constraints=None,\n",
       "              n_estimators=100, n_jobs=None, num_parallel_tree=None,\n",
       "              objective=&#x27;multi:softprob&#x27;, predictor=None, ...)</pre><b>In a Jupyter environment, please rerun this cell to show the HTML representation or trust the notebook. <br />On GitHub, the HTML representation is unable to render, please try loading this page with nbviewer.org.</b></div><div class=\"sk-container\" hidden><div class=\"sk-item\"><div class=\"sk-estimator sk-toggleable\"><input class=\"sk-toggleable__control sk-hidden--visually\" id=\"sk-estimator-id-4\" type=\"checkbox\" checked><label for=\"sk-estimator-id-4\" class=\"sk-toggleable__label sk-toggleable__label-arrow\">XGBClassifier</label><div class=\"sk-toggleable__content\"><pre>XGBClassifier(base_score=None, booster=None, callbacks=None,\n",
       "              colsample_bylevel=None, colsample_bynode=None,\n",
       "              colsample_bytree=None, early_stopping_rounds=None,\n",
       "              enable_categorical=False, eval_metric=None, feature_types=None,\n",
       "              gamma=None, gpu_id=None, grow_policy=None, importance_type=None,\n",
       "              interaction_constraints=None, learning_rate=None, max_bin=None,\n",
       "              max_cat_threshold=None, max_cat_to_onehot=None,\n",
       "              max_delta_step=None, max_depth=None, max_leaves=None,\n",
       "              min_child_weight=None, missing=nan, monotone_constraints=None,\n",
       "              n_estimators=100, n_jobs=None, num_parallel_tree=None,\n",
       "              objective=&#x27;multi:softprob&#x27;, predictor=None, ...)</pre></div></div></div></div></div>"
      ],
      "text/plain": [
       "XGBClassifier(base_score=None, booster=None, callbacks=None,\n",
       "              colsample_bylevel=None, colsample_bynode=None,\n",
       "              colsample_bytree=None, early_stopping_rounds=None,\n",
       "              enable_categorical=False, eval_metric=None, feature_types=None,\n",
       "              gamma=None, gpu_id=None, grow_policy=None, importance_type=None,\n",
       "              interaction_constraints=None, learning_rate=None, max_bin=None,\n",
       "              max_cat_threshold=None, max_cat_to_onehot=None,\n",
       "              max_delta_step=None, max_depth=None, max_leaves=None,\n",
       "              min_child_weight=None, missing=nan, monotone_constraints=None,\n",
       "              n_estimators=100, n_jobs=None, num_parallel_tree=None,\n",
       "              objective='multi:softprob', predictor=None, ...)"
      ]
     },
     "execution_count": 181,
     "metadata": {},
     "output_type": "execute_result"
    }
   ],
   "source": [
    "clf_sec = XGBClassifier(random_state=42)\n",
    "clf_sec.fit(X_train_2, y_train_2, early_stopping_rounds=10, \n",
    "        eval_set=[(X_test_2, y_test_2)])"
   ]
  },
  {
   "cell_type": "code",
   "execution_count": 182,
   "id": "9f5bd825",
   "metadata": {},
   "outputs": [],
   "source": [
    "y_pred_test = clf_sec.predict(X_test_2)\n",
    "y_pred_train = clf_sec.predict(X_train_2)"
   ]
  },
  {
   "cell_type": "code",
   "execution_count": 183,
   "id": "c12ffa19",
   "metadata": {},
   "outputs": [],
   "source": [
    "pred_test_str = map_numbers_to_categories(y_pred_test, inverted_mapping_sec)\n",
    "pred_train_str = map_numbers_to_categories(y_pred_train, inverted_mapping_sec)"
   ]
  },
  {
   "cell_type": "code",
   "execution_count": 184,
   "id": "8c33b1fa",
   "metadata": {},
   "outputs": [
    {
     "name": "stdout",
     "output_type": "stream",
     "text": [
      "Accuracy Test: 0.9278472058476774\n",
      "Accuracy Train: 0.9620928518791452\n"
     ]
    }
   ],
   "source": [
    "# Evaluate accuracy\n",
    "accuracy_test = accuracy_score(y_test_2.to_list(), y_pred_test)\n",
    "accuracy_train = accuracy_score(y_train_2.to_list(), y_pred_train)\n",
    "print(\"Accuracy Test:\", accuracy_test)\n",
    "print(\"Accuracy Train:\", accuracy_train)"
   ]
  },
  {
   "cell_type": "markdown",
   "id": "dcd2ef02",
   "metadata": {},
   "source": [
    "# Training with the whole data"
   ]
  },
  {
   "cell_type": "markdown",
   "id": "5d71f6e0",
   "metadata": {},
   "source": [
    "Vamos treinar agora o modelo com os dados todos. São exatamente os mesmos passos aplicados aos dados todos"
   ]
  },
  {
   "cell_type": "code",
   "execution_count": 18,
   "id": "3bf09bec",
   "metadata": {},
   "outputs": [],
   "source": [
    "df = pd.read_excel('../../data/01.Dataset FI_06032024.xlsx', sheet_name=2)"
   ]
  },
  {
   "cell_type": "code",
   "execution_count": 19,
   "id": "83501138",
   "metadata": {},
   "outputs": [],
   "source": [
    "df_clean = df.copy(\"../data_missing/sampled_indices.csv\")"
   ]
  },
  {
   "cell_type": "code",
   "execution_count": 20,
   "id": "47ba4f5b",
   "metadata": {},
   "outputs": [],
   "source": [
    "data_eval = df_clean.sample(1000, random_state=42)\n",
    "not_sampled_mask = ~df_clean.index.isin(data_eval)  # Create a boolean mask for non-sampled rows\n",
    "df_clean = df_clean[not_sampled_mask]\n",
    "\n",
    "\n",
    "data_pred = df_clean.sample(1000, random_state=42)\n",
    "not_sampled_mask = ~df_clean.index.isin(data_pred)\n",
    "df_clean = df_clean[not_sampled_mask]"
   ]
  },
  {
   "cell_type": "code",
   "execution_count": 21,
   "id": "4f3e2d79",
   "metadata": {},
   "outputs": [],
   "source": [
    "df_clean.to_csv(\"../data_train/data_train.csv\")\n",
    "data_eval.to_csv(\"../data_train/data_eval.csv\")\n",
    "data_pred.to_csv(\"../data_missing/data_pred.csv\")"
   ]
  },
  {
   "cell_type": "code",
   "execution_count": 22,
   "id": "4aade01d",
   "metadata": {},
   "outputs": [],
   "source": [
    "# Get unique categories from 'TerritorioCon' column\n",
    "unique_categories_ter = df_clean['TerritorioCon'].unique()\n",
    "category_mapping_ter = dict(zip(unique_categories_ter, range(len(unique_categories_ter))))\n",
    "inverted_mapping_ter = {value: key for key, value in category_mapping_ter.items()}\n",
    "\n",
    "unique_categories_sec = df_clean[\"SetorInstitucionalCon\"].unique()\n",
    "category_mapping_sec = dict(zip(unique_categories_sec, range(len(unique_categories_sec))))\n",
    "inverted_mapping_sec = {value: key for key, value in category_mapping_sec.items()}\n",
    "\n",
    "df_clean[\"encoded_label_territorio\"] = df_clean[\"TerritorioCon\"].apply(encode_target, args=[category_mapping_ter])\n",
    "df_clean[\"encoded_label_setor\"] = df_clean['SetorInstitucionalCon'].apply(encode_target, args=[category_mapping_sec])"
   ]
  },
  {
   "cell_type": "code",
   "execution_count": 23,
   "id": "417dc947",
   "metadata": {},
   "outputs": [],
   "source": [
    "df_clean['tokenized_Descricao_text'] = df_clean['DescricaoInstrumento'].apply(lambda x: simple_preprocess(x))\n",
    "word2vec_model = Word2Vec(sentences=df_clean['tokenized_Descricao_text'], vector_size=100, window=5, min_count=1, workers=4)"
   ]
  },
  {
   "cell_type": "code",
   "execution_count": 24,
   "id": "c0423919",
   "metadata": {},
   "outputs": [],
   "source": [
    "df_clean['tokenized_Descricao_text'] = df_clean['DescricaoInstrumento'].apply(lambda x: simple_preprocess(x))\n",
    "word2vec_model = Word2Vec(sentences=df_clean['tokenized_Descricao_text'], vector_size=100, window=5, min_count=1, workers=4)\n",
    "\n",
    "df_clean['avg_embedding'] = df_clean['tokenized_Descricao_text'].apply(compute_avg_embedding)\n",
    "X = df_clean['avg_embedding'].apply(pd.Series).to_numpy()\n",
    "y1 = df_clean['encoded_label_territorio']\n",
    "y2 = df_clean['encoded_label_setor']\n",
    "embed_data = pd.DataFrame(X)"
   ]
  },
  {
   "cell_type": "code",
   "execution_count": 25,
   "id": "faeaa100",
   "metadata": {},
   "outputs": [],
   "source": [
    "X_train_1, X_test_1, y_train_1, y_test_1 = train_test_split(X, y1, test_size=0.2, random_state=42)\n",
    "X_train_2, X_test_2, y_train_2, y_test_2 = train_test_split(X, y2, test_size=0.2, random_state=42)"
   ]
  },
  {
   "cell_type": "code",
   "execution_count": 26,
   "id": "422967b3",
   "metadata": {},
   "outputs": [
    {
     "data": {
      "text/html": [
       "<style>#sk-container-id-1 {color: black;background-color: white;}#sk-container-id-1 pre{padding: 0;}#sk-container-id-1 div.sk-toggleable {background-color: white;}#sk-container-id-1 label.sk-toggleable__label {cursor: pointer;display: block;width: 100%;margin-bottom: 0;padding: 0.3em;box-sizing: border-box;text-align: center;}#sk-container-id-1 label.sk-toggleable__label-arrow:before {content: \"▸\";float: left;margin-right: 0.25em;color: #696969;}#sk-container-id-1 label.sk-toggleable__label-arrow:hover:before {color: black;}#sk-container-id-1 div.sk-estimator:hover label.sk-toggleable__label-arrow:before {color: black;}#sk-container-id-1 div.sk-toggleable__content {max-height: 0;max-width: 0;overflow: hidden;text-align: left;background-color: #f0f8ff;}#sk-container-id-1 div.sk-toggleable__content pre {margin: 0.2em;color: black;border-radius: 0.25em;background-color: #f0f8ff;}#sk-container-id-1 input.sk-toggleable__control:checked~div.sk-toggleable__content {max-height: 200px;max-width: 100%;overflow: auto;}#sk-container-id-1 input.sk-toggleable__control:checked~label.sk-toggleable__label-arrow:before {content: \"▾\";}#sk-container-id-1 div.sk-estimator input.sk-toggleable__control:checked~label.sk-toggleable__label {background-color: #d4ebff;}#sk-container-id-1 div.sk-label input.sk-toggleable__control:checked~label.sk-toggleable__label {background-color: #d4ebff;}#sk-container-id-1 input.sk-hidden--visually {border: 0;clip: rect(1px 1px 1px 1px);clip: rect(1px, 1px, 1px, 1px);height: 1px;margin: -1px;overflow: hidden;padding: 0;position: absolute;width: 1px;}#sk-container-id-1 div.sk-estimator {font-family: monospace;background-color: #f0f8ff;border: 1px dotted black;border-radius: 0.25em;box-sizing: border-box;margin-bottom: 0.5em;}#sk-container-id-1 div.sk-estimator:hover {background-color: #d4ebff;}#sk-container-id-1 div.sk-parallel-item::after {content: \"\";width: 100%;border-bottom: 1px solid gray;flex-grow: 1;}#sk-container-id-1 div.sk-label:hover label.sk-toggleable__label {background-color: #d4ebff;}#sk-container-id-1 div.sk-serial::before {content: \"\";position: absolute;border-left: 1px solid gray;box-sizing: border-box;top: 0;bottom: 0;left: 50%;z-index: 0;}#sk-container-id-1 div.sk-serial {display: flex;flex-direction: column;align-items: center;background-color: white;padding-right: 0.2em;padding-left: 0.2em;position: relative;}#sk-container-id-1 div.sk-item {position: relative;z-index: 1;}#sk-container-id-1 div.sk-parallel {display: flex;align-items: stretch;justify-content: center;background-color: white;position: relative;}#sk-container-id-1 div.sk-item::before, #sk-container-id-1 div.sk-parallel-item::before {content: \"\";position: absolute;border-left: 1px solid gray;box-sizing: border-box;top: 0;bottom: 0;left: 50%;z-index: -1;}#sk-container-id-1 div.sk-parallel-item {display: flex;flex-direction: column;z-index: 1;position: relative;background-color: white;}#sk-container-id-1 div.sk-parallel-item:first-child::after {align-self: flex-end;width: 50%;}#sk-container-id-1 div.sk-parallel-item:last-child::after {align-self: flex-start;width: 50%;}#sk-container-id-1 div.sk-parallel-item:only-child::after {width: 0;}#sk-container-id-1 div.sk-dashed-wrapped {border: 1px dashed gray;margin: 0 0.4em 0.5em 0.4em;box-sizing: border-box;padding-bottom: 0.4em;background-color: white;}#sk-container-id-1 div.sk-label label {font-family: monospace;font-weight: bold;display: inline-block;line-height: 1.2em;}#sk-container-id-1 div.sk-label-container {text-align: center;}#sk-container-id-1 div.sk-container {/* jupyter's `normalize.less` sets `[hidden] { display: none; }` but bootstrap.min.css set `[hidden] { display: none !important; }` so we also need the `!important` here to be able to override the default hidden behavior on the sphinx rendered scikit-learn.org. See: https://github.com/scikit-learn/scikit-learn/issues/21755 */display: inline-block !important;position: relative;}#sk-container-id-1 div.sk-text-repr-fallback {display: none;}</style><div id=\"sk-container-id-1\" class=\"sk-top-container\"><div class=\"sk-text-repr-fallback\"><pre>XGBClassifier(base_score=None, booster=None, callbacks=None,\n",
       "              colsample_bylevel=None, colsample_bynode=None,\n",
       "              colsample_bytree=None, early_stopping_rounds=None,\n",
       "              enable_categorical=False, eval_metric=None, feature_types=None,\n",
       "              gamma=None, gpu_id=None, grow_policy=None, importance_type=None,\n",
       "              interaction_constraints=None, learning_rate=None, max_bin=None,\n",
       "              max_cat_threshold=None, max_cat_to_onehot=None,\n",
       "              max_delta_step=None, max_depth=5, max_leaves=None,\n",
       "              min_child_weight=None, missing=nan, monotone_constraints=None,\n",
       "              n_estimators=100, n_jobs=None, num_parallel_tree=None,\n",
       "              objective=&#x27;multi:softprob&#x27;, predictor=None, ...)</pre><b>In a Jupyter environment, please rerun this cell to show the HTML representation or trust the notebook. <br />On GitHub, the HTML representation is unable to render, please try loading this page with nbviewer.org.</b></div><div class=\"sk-container\" hidden><div class=\"sk-item\"><div class=\"sk-estimator sk-toggleable\"><input class=\"sk-toggleable__control sk-hidden--visually\" id=\"sk-estimator-id-1\" type=\"checkbox\" checked><label for=\"sk-estimator-id-1\" class=\"sk-toggleable__label sk-toggleable__label-arrow\">XGBClassifier</label><div class=\"sk-toggleable__content\"><pre>XGBClassifier(base_score=None, booster=None, callbacks=None,\n",
       "              colsample_bylevel=None, colsample_bynode=None,\n",
       "              colsample_bytree=None, early_stopping_rounds=None,\n",
       "              enable_categorical=False, eval_metric=None, feature_types=None,\n",
       "              gamma=None, gpu_id=None, grow_policy=None, importance_type=None,\n",
       "              interaction_constraints=None, learning_rate=None, max_bin=None,\n",
       "              max_cat_threshold=None, max_cat_to_onehot=None,\n",
       "              max_delta_step=None, max_depth=5, max_leaves=None,\n",
       "              min_child_weight=None, missing=nan, monotone_constraints=None,\n",
       "              n_estimators=100, n_jobs=None, num_parallel_tree=None,\n",
       "              objective=&#x27;multi:softprob&#x27;, predictor=None, ...)</pre></div></div></div></div></div>"
      ],
      "text/plain": [
       "XGBClassifier(base_score=None, booster=None, callbacks=None,\n",
       "              colsample_bylevel=None, colsample_bynode=None,\n",
       "              colsample_bytree=None, early_stopping_rounds=None,\n",
       "              enable_categorical=False, eval_metric=None, feature_types=None,\n",
       "              gamma=None, gpu_id=None, grow_policy=None, importance_type=None,\n",
       "              interaction_constraints=None, learning_rate=None, max_bin=None,\n",
       "              max_cat_threshold=None, max_cat_to_onehot=None,\n",
       "              max_delta_step=None, max_depth=5, max_leaves=None,\n",
       "              min_child_weight=None, missing=nan, monotone_constraints=None,\n",
       "              n_estimators=100, n_jobs=None, num_parallel_tree=None,\n",
       "              objective='multi:softprob', predictor=None, ...)"
      ]
     },
     "execution_count": 26,
     "metadata": {},
     "output_type": "execute_result"
    }
   ],
   "source": [
    "clf_ter = XGBClassifier(random_state=42, max_depth=5)\n",
    "clf_ter.fit(X, y1)"
   ]
  },
  {
   "cell_type": "code",
   "execution_count": 27,
   "id": "90f7199d",
   "metadata": {},
   "outputs": [
    {
     "data": {
      "text/html": [
       "<style>#sk-container-id-2 {color: black;background-color: white;}#sk-container-id-2 pre{padding: 0;}#sk-container-id-2 div.sk-toggleable {background-color: white;}#sk-container-id-2 label.sk-toggleable__label {cursor: pointer;display: block;width: 100%;margin-bottom: 0;padding: 0.3em;box-sizing: border-box;text-align: center;}#sk-container-id-2 label.sk-toggleable__label-arrow:before {content: \"▸\";float: left;margin-right: 0.25em;color: #696969;}#sk-container-id-2 label.sk-toggleable__label-arrow:hover:before {color: black;}#sk-container-id-2 div.sk-estimator:hover label.sk-toggleable__label-arrow:before {color: black;}#sk-container-id-2 div.sk-toggleable__content {max-height: 0;max-width: 0;overflow: hidden;text-align: left;background-color: #f0f8ff;}#sk-container-id-2 div.sk-toggleable__content pre {margin: 0.2em;color: black;border-radius: 0.25em;background-color: #f0f8ff;}#sk-container-id-2 input.sk-toggleable__control:checked~div.sk-toggleable__content {max-height: 200px;max-width: 100%;overflow: auto;}#sk-container-id-2 input.sk-toggleable__control:checked~label.sk-toggleable__label-arrow:before {content: \"▾\";}#sk-container-id-2 div.sk-estimator input.sk-toggleable__control:checked~label.sk-toggleable__label {background-color: #d4ebff;}#sk-container-id-2 div.sk-label input.sk-toggleable__control:checked~label.sk-toggleable__label {background-color: #d4ebff;}#sk-container-id-2 input.sk-hidden--visually {border: 0;clip: rect(1px 1px 1px 1px);clip: rect(1px, 1px, 1px, 1px);height: 1px;margin: -1px;overflow: hidden;padding: 0;position: absolute;width: 1px;}#sk-container-id-2 div.sk-estimator {font-family: monospace;background-color: #f0f8ff;border: 1px dotted black;border-radius: 0.25em;box-sizing: border-box;margin-bottom: 0.5em;}#sk-container-id-2 div.sk-estimator:hover {background-color: #d4ebff;}#sk-container-id-2 div.sk-parallel-item::after {content: \"\";width: 100%;border-bottom: 1px solid gray;flex-grow: 1;}#sk-container-id-2 div.sk-label:hover label.sk-toggleable__label {background-color: #d4ebff;}#sk-container-id-2 div.sk-serial::before {content: \"\";position: absolute;border-left: 1px solid gray;box-sizing: border-box;top: 0;bottom: 0;left: 50%;z-index: 0;}#sk-container-id-2 div.sk-serial {display: flex;flex-direction: column;align-items: center;background-color: white;padding-right: 0.2em;padding-left: 0.2em;position: relative;}#sk-container-id-2 div.sk-item {position: relative;z-index: 1;}#sk-container-id-2 div.sk-parallel {display: flex;align-items: stretch;justify-content: center;background-color: white;position: relative;}#sk-container-id-2 div.sk-item::before, #sk-container-id-2 div.sk-parallel-item::before {content: \"\";position: absolute;border-left: 1px solid gray;box-sizing: border-box;top: 0;bottom: 0;left: 50%;z-index: -1;}#sk-container-id-2 div.sk-parallel-item {display: flex;flex-direction: column;z-index: 1;position: relative;background-color: white;}#sk-container-id-2 div.sk-parallel-item:first-child::after {align-self: flex-end;width: 50%;}#sk-container-id-2 div.sk-parallel-item:last-child::after {align-self: flex-start;width: 50%;}#sk-container-id-2 div.sk-parallel-item:only-child::after {width: 0;}#sk-container-id-2 div.sk-dashed-wrapped {border: 1px dashed gray;margin: 0 0.4em 0.5em 0.4em;box-sizing: border-box;padding-bottom: 0.4em;background-color: white;}#sk-container-id-2 div.sk-label label {font-family: monospace;font-weight: bold;display: inline-block;line-height: 1.2em;}#sk-container-id-2 div.sk-label-container {text-align: center;}#sk-container-id-2 div.sk-container {/* jupyter's `normalize.less` sets `[hidden] { display: none; }` but bootstrap.min.css set `[hidden] { display: none !important; }` so we also need the `!important` here to be able to override the default hidden behavior on the sphinx rendered scikit-learn.org. See: https://github.com/scikit-learn/scikit-learn/issues/21755 */display: inline-block !important;position: relative;}#sk-container-id-2 div.sk-text-repr-fallback {display: none;}</style><div id=\"sk-container-id-2\" class=\"sk-top-container\"><div class=\"sk-text-repr-fallback\"><pre>XGBClassifier(base_score=None, booster=None, callbacks=None,\n",
       "              colsample_bylevel=None, colsample_bynode=None,\n",
       "              colsample_bytree=None, early_stopping_rounds=None,\n",
       "              enable_categorical=False, eval_metric=None, feature_types=None,\n",
       "              gamma=None, gpu_id=None, grow_policy=None, importance_type=None,\n",
       "              interaction_constraints=None, learning_rate=None, max_bin=None,\n",
       "              max_cat_threshold=None, max_cat_to_onehot=None,\n",
       "              max_delta_step=None, max_depth=5, max_leaves=None,\n",
       "              min_child_weight=None, missing=nan, monotone_constraints=None,\n",
       "              n_estimators=100, n_jobs=None, num_parallel_tree=None,\n",
       "              objective=&#x27;multi:softprob&#x27;, predictor=None, ...)</pre><b>In a Jupyter environment, please rerun this cell to show the HTML representation or trust the notebook. <br />On GitHub, the HTML representation is unable to render, please try loading this page with nbviewer.org.</b></div><div class=\"sk-container\" hidden><div class=\"sk-item\"><div class=\"sk-estimator sk-toggleable\"><input class=\"sk-toggleable__control sk-hidden--visually\" id=\"sk-estimator-id-2\" type=\"checkbox\" checked><label for=\"sk-estimator-id-2\" class=\"sk-toggleable__label sk-toggleable__label-arrow\">XGBClassifier</label><div class=\"sk-toggleable__content\"><pre>XGBClassifier(base_score=None, booster=None, callbacks=None,\n",
       "              colsample_bylevel=None, colsample_bynode=None,\n",
       "              colsample_bytree=None, early_stopping_rounds=None,\n",
       "              enable_categorical=False, eval_metric=None, feature_types=None,\n",
       "              gamma=None, gpu_id=None, grow_policy=None, importance_type=None,\n",
       "              interaction_constraints=None, learning_rate=None, max_bin=None,\n",
       "              max_cat_threshold=None, max_cat_to_onehot=None,\n",
       "              max_delta_step=None, max_depth=5, max_leaves=None,\n",
       "              min_child_weight=None, missing=nan, monotone_constraints=None,\n",
       "              n_estimators=100, n_jobs=None, num_parallel_tree=None,\n",
       "              objective=&#x27;multi:softprob&#x27;, predictor=None, ...)</pre></div></div></div></div></div>"
      ],
      "text/plain": [
       "XGBClassifier(base_score=None, booster=None, callbacks=None,\n",
       "              colsample_bylevel=None, colsample_bynode=None,\n",
       "              colsample_bytree=None, early_stopping_rounds=None,\n",
       "              enable_categorical=False, eval_metric=None, feature_types=None,\n",
       "              gamma=None, gpu_id=None, grow_policy=None, importance_type=None,\n",
       "              interaction_constraints=None, learning_rate=None, max_bin=None,\n",
       "              max_cat_threshold=None, max_cat_to_onehot=None,\n",
       "              max_delta_step=None, max_depth=5, max_leaves=None,\n",
       "              min_child_weight=None, missing=nan, monotone_constraints=None,\n",
       "              n_estimators=100, n_jobs=None, num_parallel_tree=None,\n",
       "              objective='multi:softprob', predictor=None, ...)"
      ]
     },
     "execution_count": 27,
     "metadata": {},
     "output_type": "execute_result"
    }
   ],
   "source": [
    "clf_sec = XGBClassifier(random_state=42, max_depth=5)\n",
    "clf_sec.fit(X, y2)"
   ]
  },
  {
   "cell_type": "markdown",
   "id": "2931db7c",
   "metadata": {},
   "source": [
    "Função que permite usar o modelo e retornar as previsões para novas entradas"
   ]
  },
  {
   "cell_type": "code",
   "execution_count": 28,
   "id": "28969268",
   "metadata": {},
   "outputs": [],
   "source": [
    "def return_embeedings(string, word2vec_model,simple_preprocess, clf_t, clf_s, inverted_mapping_t, inverted_mapping_s):\n",
    "    case = pd.DataFrame({'DescricaoInstrumento': [string]})\n",
    "    case['tokenized_Descricao_text'] = case['DescricaoInstrumento'].apply(lambda x: simple_preprocess(x))\n",
    "    case['avg_embedding'] = case['tokenized_Descricao_text'].apply(compute_avg_embedding)\n",
    "    \n",
    "    X = case['avg_embedding'].apply(pd.Series).to_numpy()\n",
    "    \n",
    "    prediction_t = clf_t.predict(X)\n",
    "    str_pred_t = map_numbers_to_categories(prediction_t, inverted_mapping_t)\n",
    "    \n",
    "    prediction_s = clf_s.predict(X)\n",
    "    str_pred_s = map_numbers_to_categories(prediction_s, inverted_mapping_s)\n",
    "    \n",
    "    return str_pred_t, str_pred_s"
   ]
  },
  {
   "cell_type": "code",
   "execution_count": 29,
   "id": "27411e13",
   "metadata": {},
   "outputs": [],
   "source": [
    "str_to_try = 'HEATHROW FUNDING LTD 1.50% 12/10/2027'\n",
    "str_pred_t, str_pred_s = return_embeedings(str_to_try, word2vec_model, simple_preprocess, clf_ter, clf_sec, inverted_mapping_ter, inverted_mapping_sec)"
   ]
  },
  {
   "cell_type": "code",
   "execution_count": 1,
   "id": "6521cf8c",
   "metadata": {},
   "outputs": [
    {
     "ename": "NameError",
     "evalue": "name 'sampled_indices' is not defined",
     "output_type": "error",
     "traceback": [
      "\u001b[1;31m---------------------------------------------------------------------------\u001b[0m",
      "\u001b[1;31mNameError\u001b[0m                                 Traceback (most recent call last)",
      "Cell \u001b[1;32mIn[1], line 4\u001b[0m\n\u001b[0;32m      1\u001b[0m all_str_ter \u001b[38;5;241m=\u001b[39m []\n\u001b[0;32m      2\u001b[0m all_str_sec \u001b[38;5;241m=\u001b[39m []\n\u001b[1;32m----> 4\u001b[0m \u001b[38;5;28;01mfor\u001b[39;00m i \u001b[38;5;129;01min\u001b[39;00m \u001b[38;5;28mrange\u001b[39m(\u001b[38;5;28mlen\u001b[39m(\u001b[43msampled_indices\u001b[49m)):\n\u001b[0;32m      6\u001b[0m     string \u001b[38;5;241m=\u001b[39m sampled_indices\u001b[38;5;241m.\u001b[39mDescricaoInstrumento\u001b[38;5;241m.\u001b[39miloc[i]\n\u001b[0;32m      7\u001b[0m     str_pred_t, str_pred_s \u001b[38;5;241m=\u001b[39m return_embeedings(string, word2vec_model, simple_preprocess, clf_ter, clf_sec, inverted_mapping_ter, inverted_mapping_sec)\n",
      "\u001b[1;31mNameError\u001b[0m: name 'sampled_indices' is not defined"
     ]
    }
   ],
   "source": [
    "all_str_ter = []\n",
    "all_str_sec = []\n",
    "\n",
    "for i in range(len(sampled_indices)):\n",
    "\n",
    "    string = sampled_indices.DescricaoInstrumento.iloc[i]\n",
    "    str_pred_t, str_pred_s = return_embeedings(string, word2vec_model, simple_preprocess, clf_ter, clf_sec, inverted_mapping_ter, inverted_mapping_sec)\n",
    "    \n",
    "    all_str_ter.append(str_pred_t[0])\n",
    "    all_str_sec.append(str_pred_s[0])\n",
    "    \n",
    "sampled_indices[\"sec_pred\"] = all_str_sec  \n",
    "sampled_indices[\"ter_pred\"] = all_str_ter"
   ]
  },
  {
   "cell_type": "markdown",
   "id": "dbbb27cc",
   "metadata": {},
   "source": [
    "## Gradio App"
   ]
  },
  {
   "cell_type": "markdown",
   "id": "8372267c",
   "metadata": {},
   "source": [
    "Criando um aplicativo gradio para demostrar o trabalho"
   ]
  },
  {
   "cell_type": "code",
   "execution_count": 31,
   "id": "d652da08",
   "metadata": {
    "scrolled": false
   },
   "outputs": [
    {
     "name": "stdout",
     "output_type": "stream",
     "text": [
      "Running on local URL:  http://127.0.0.1:7860\n",
      "\n",
      "To create a public link, set `share=True` in `launch()`.\n"
     ]
    },
    {
     "data": {
      "text/html": [
       "<div><iframe src=\"http://127.0.0.1:7860/\" width=\"100%\" height=\"500\" allow=\"autoplay; camera; microphone; clipboard-read; clipboard-write;\" frameborder=\"0\" allowfullscreen></iframe></div>"
      ],
      "text/plain": [
       "<IPython.core.display.HTML object>"
      ]
     },
     "metadata": {},
     "output_type": "display_data"
    },
    {
     "data": {
      "text/plain": []
     },
     "execution_count": 31,
     "metadata": {},
     "output_type": "execute_result"
    }
   ],
   "source": [
    "def return_embeedings_(string):\n",
    "    case = pd.DataFrame({'DescricaoInstrumento': [string]})\n",
    "    case['tokenized_Descricao_text'] = case['DescricaoInstrumento'].apply(lambda x: simple_preprocess(x))\n",
    "    case['avg_embedding'] = case['tokenized_Descricao_text'].apply(compute_avg_embedding)\n",
    "\n",
    "    X = case['avg_embedding'].apply(pd.Series).to_numpy()\n",
    "\n",
    "    try:\n",
    "        prediction_t = clf_ter.predict(X)\n",
    "        str_pred_t = map_numbers_to_categories(prediction_t, inverted_mapping_ter)\n",
    "\n",
    "        prediction_s = clf_sec.predict(X)\n",
    "        str_pred_s = map_numbers_to_categories(prediction_s, inverted_mapping_sec)\n",
    "\n",
    "        return str(str_pred_t[0]), str(str_pred_s[0])\n",
    "           \n",
    "    except Exception as e:\n",
    "        return \"An error occurred: \" + str(e)\n",
    "\n",
    "    \n",
    "examples = [\n",
    "    [\"HEATHROW FUNDING LTD 1.50% 12/10/2027\"],\n",
    "    [\"FORTUM 1.625% A:27/02/2026\"],\n",
    "    [\"BAC FLOAT 25/4/24\"],\n",
    "    [\"DP DP 4M 0% 16/12/21CGD 0.00% 2020-12-16\"],\n",
    "]\n",
    "\n",
    "# Create the Gradio app\n",
    "iface = gr.Interface(\n",
    "    # Argument 1: function (Required)\n",
    "    fn=return_embeedings_,  # The function you want to expose as an interface\n",
    "\n",
    "    # Argument 2: input components (Required)\n",
    "    inputs=[gr.Textbox(lines=5, placeholder=\"Enter a text description\")],  # Defines user input\n",
    "\n",
    "    # Argument 3: examples (Optional)\n",
    "    examples=examples,  # List of example text descriptions (or tuples with predictions)\n",
    "\n",
    "    # Argument 4: output components (Required)\n",
    "    outputs=[\n",
    "        gr.Textbox(label=\"Prediction Territory\"),\n",
    "        gr.Textbox(label=\"Prediction Sector\"),\n",
    "    ],  # Defines how to display the output\n",
    ")\n",
    "\n",
    "# Launch the app\n",
    "iface.launch()"
   ]
  },
  {
   "cell_type": "markdown",
   "id": "e001a6e3",
   "metadata": {},
   "source": [
    "## Saving and reading models"
   ]
  },
  {
   "cell_type": "code",
   "execution_count": 236,
   "id": "3487b312",
   "metadata": {},
   "outputs": [],
   "source": [
    "with open('model_data.pkl', 'wb') as f:\n",
    "    pickle.dump(inverted_mapping_ter, f)\n",
    "    pickle.dump(inverted_mapping_sec, f)\n",
    "    pickle.dump(word2vec_model, f)\n",
    "    pickle.dump(clf_sec, f)\n",
    "    pickle.dump(clf_ter, f)"
   ]
  },
  {
   "cell_type": "code",
   "execution_count": 238,
   "id": "5fed197e",
   "metadata": {},
   "outputs": [],
   "source": [
    "with open('model_data.pkl', 'rb') as f:\n",
    "    # Load the data objects in the same order they were saved\n",
    "    inverted_mapping_ter = pickle.load(f)\n",
    "    inverted_mapping_sec = pickle.load(f)\n",
    "    word2vec_model = pickle.load(f)\n",
    "    clf_sec = pickle.load(f)\n",
    "    clf_ter = pickle.load(f)"
   ]
  }
 ],
 "metadata": {
  "kernelspec": {
   "display_name": "Python 3 (ipykernel)",
   "language": "python",
   "name": "python3"
  },
  "language_info": {
   "codemirror_mode": {
    "name": "ipython",
    "version": 3
   },
   "file_extension": ".py",
   "mimetype": "text/x-python",
   "name": "python",
   "nbconvert_exporter": "python",
   "pygments_lexer": "ipython3",
   "version": "3.11.5"
  }
 },
 "nbformat": 4,
 "nbformat_minor": 5
}
