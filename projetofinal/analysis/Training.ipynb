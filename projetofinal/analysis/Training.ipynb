{
 "cells": [
  {
   "cell_type": "markdown",
   "id": "b8743fc0",
   "metadata": {},
   "source": [
    "# Objective\n",
    "- O objetivo é treinar um modelo utilizando a descrição do produto para prever o setor e o território\n",
    "- Vamos utilizar Word2Vec para trasformar a descrição em vetores (embeddings)\n",
    "- Vamos utilizar um modelo XG boost para treinar"
   ]
  },
  {
   "cell_type": "markdown",
   "id": "700da44f",
   "metadata": {},
   "source": [
    "# Data\n",
    "- Dados fornecidos pelo banco de Portugal"
   ]
  },
  {
   "cell_type": "markdown",
   "id": "ee13ff9d",
   "metadata": {},
   "source": [
    "# Imports"
   ]
  },
  {
   "cell_type": "code",
   "execution_count": 32,
   "id": "37332c4f",
   "metadata": {},
   "outputs": [],
   "source": [
    "import pandas as pd\n",
    "import numpy as np\n",
    "from sklearn.model_selection import train_test_split, GridSearchCV\n",
    "from sklearn.preprocessing import LabelEncoder, OneHotEncoder\n",
    "from feature_engine.encoding import RareLabelEncoder\n",
    "from gensim.utils import simple_preprocess\n",
    "from gensim.models import Word2Vec\n",
    "from xgboost import XGBClassifier\n",
    "from sklearn.metrics import accuracy_score, classification_report, roc_curve, auc\n",
    "import gradio as gr\n",
    "import pickle"
   ]
  },
  {
   "cell_type": "markdown",
   "id": "77176345",
   "metadata": {},
   "source": [
    "# Reading Data"
   ]
  },
  {
   "cell_type": "code",
   "execution_count": 33,
   "id": "994d32f7",
   "metadata": {},
   "outputs": [],
   "source": [
    "df = pd.read_excel('../../data/01.Dataset FI_06032024.xlsx', sheet_name=2)"
   ]
  },
  {
   "cell_type": "markdown",
   "id": "a5378a51",
   "metadata": {},
   "source": [
    "# Small Preprocessing"
   ]
  },
  {
   "cell_type": "markdown",
   "id": "7c6f131a",
   "metadata": {},
   "source": [
    "Mapeando o código ao nome da descrição"
   ]
  },
  {
   "cell_type": "code",
   "execution_count": 34,
   "id": "3e63ca66",
   "metadata": {},
   "outputs": [],
   "source": [
    "MAP_TipoInformacao = {\"A\": \"ativo\", \"P\": \"passivo\"}\n",
    "MAP_TipoInstrumento = {\"F21\": \"Numerário\", \"F22\": \"Depósitos transferíveis\", \"F29\": \"Outros depósitos\", \"F3_P\": \"Títulos de dívida\", \"F4\": \"Empréstimos\", \"F511\": \"Ações cotadas\", \"F512\": \"Ações não cotadas\", \"F519\": \"Outras participações\", \"F521\": \"Unidades de Participação emitidas por FMM\", \"F522\": \"Unidades de Participação emitidas por FI, excluindo FMM\", \"F71\": \"Derivados financeiros\"}\n",
    "MAP_MaturidadeOriginal = {\"01\": \"A vista\", \"10\": \"Ate 1 ano\", \"06\": \"De 1 a 2 anos\", \"07\": \"De 2 a 5 anos\", \"08\": \"A mais de 5 anos\", \"_Z\": \"Não aplicável\"}"
   ]
  },
  {
   "cell_type": "code",
   "execution_count": 35,
   "id": "353a4a51",
   "metadata": {},
   "outputs": [],
   "source": [
    "df.TipoInformacao = df.TipoInformacao.map(MAP_TipoInformacao)\n",
    "df.TipoInstrumento = df.TipoInstrumento.map(MAP_TipoInstrumento)\n",
    "df.MaturidadeOriginal = df.MaturidadeOriginal.map(MAP_MaturidadeOriginal)"
   ]
  },
  {
   "cell_type": "code",
   "execution_count": 36,
   "id": "04219182",
   "metadata": {},
   "outputs": [],
   "source": [
    "df.drop([\"CodEntidadeRef\", \"CodEntidadeCon\"], axis=1, inplace=True)"
   ]
  },
  {
   "cell_type": "code",
   "execution_count": 37,
   "id": "c2350e7d",
   "metadata": {},
   "outputs": [
    {
     "data": {
      "text/html": [
       "<div>\n",
       "<style scoped>\n",
       "    .dataframe tbody tr th:only-of-type {\n",
       "        vertical-align: middle;\n",
       "    }\n",
       "\n",
       "    .dataframe tbody tr th {\n",
       "        vertical-align: top;\n",
       "    }\n",
       "\n",
       "    .dataframe thead th {\n",
       "        text-align: right;\n",
       "    }\n",
       "</style>\n",
       "<table border=\"1\" class=\"dataframe\">\n",
       "  <thead>\n",
       "    <tr style=\"text-align: right;\">\n",
       "      <th></th>\n",
       "      <th>TipoInformacao</th>\n",
       "      <th>TipoInstrumento</th>\n",
       "      <th>DescricaoInstrumento</th>\n",
       "      <th>MaturidadeOriginal</th>\n",
       "      <th>SetorInstitucionalCon</th>\n",
       "      <th>TerritorioCon</th>\n",
       "    </tr>\n",
       "  </thead>\n",
       "  <tbody>\n",
       "    <tr>\n",
       "      <th>0</th>\n",
       "      <td>ativo</td>\n",
       "      <td>Depósitos transferíveis</td>\n",
       "      <td>BST Futuros  2.90%</td>\n",
       "      <td>A vista</td>\n",
       "      <td>S122</td>\n",
       "      <td>PRT</td>\n",
       "    </tr>\n",
       "    <tr>\n",
       "      <th>1</th>\n",
       "      <td>ativo</td>\n",
       "      <td>Depósitos transferíveis</td>\n",
       "      <td>BPI EUR 0.00%</td>\n",
       "      <td>A vista</td>\n",
       "      <td>S122</td>\n",
       "      <td>PRT</td>\n",
       "    </tr>\n",
       "    <tr>\n",
       "      <th>2</th>\n",
       "      <td>ativo</td>\n",
       "      <td>Depósitos transferíveis</td>\n",
       "      <td>BST Futuros  2.65%</td>\n",
       "      <td>A vista</td>\n",
       "      <td>S122</td>\n",
       "      <td>PRT</td>\n",
       "    </tr>\n",
       "  </tbody>\n",
       "</table>\n",
       "</div>"
      ],
      "text/plain": [
       "  TipoInformacao          TipoInstrumento DescricaoInstrumento  \\\n",
       "0          ativo  Depósitos transferíveis   BST Futuros  2.90%   \n",
       "1          ativo  Depósitos transferíveis        BPI EUR 0.00%   \n",
       "2          ativo  Depósitos transferíveis   BST Futuros  2.65%   \n",
       "\n",
       "  MaturidadeOriginal SetorInstitucionalCon TerritorioCon  \n",
       "0            A vista                  S122           PRT  \n",
       "1            A vista                  S122           PRT  \n",
       "2            A vista                  S122           PRT  "
      ]
     },
     "execution_count": 37,
     "metadata": {},
     "output_type": "execute_result"
    }
   ],
   "source": [
    "df.head(3)"
   ]
  },
  {
   "cell_type": "markdown",
   "id": "a63ddf79",
   "metadata": {},
   "source": [
    "# Feature Engineering"
   ]
  },
  {
   "cell_type": "code",
   "execution_count": 38,
   "id": "626ff88e",
   "metadata": {},
   "outputs": [],
   "source": [
    "df_clean = df.copy()"
   ]
  },
  {
   "cell_type": "markdown",
   "id": "80af5cbe",
   "metadata": {},
   "source": [
    "### Encoding Rare Labels"
   ]
  },
  {
   "cell_type": "markdown",
   "id": "a5ae80d6",
   "metadata": {},
   "source": [
    "### Label Enconder"
   ]
  },
  {
   "cell_type": "markdown",
   "id": "2a612e86",
   "metadata": {},
   "source": [
    "Criando funções para fazer o enconding dos targets"
   ]
  },
  {
   "cell_type": "code",
   "execution_count": 39,
   "id": "bfa01a10",
   "metadata": {},
   "outputs": [],
   "source": [
    "def encode_target(label, category_mapping):\n",
    "  # Check if label is unseen (not in the dictionary)\n",
    "  if label not in category_mapping:\n",
    "    # Assign next available integer as seen in training data\n",
    "    new_value = len(category_mapping)\n",
    "    category_mapping[label] = new_value\n",
    "  \n",
    "  return category_mapping[label]"
   ]
  },
  {
   "cell_type": "code",
   "execution_count": 40,
   "id": "d70f9d9c",
   "metadata": {},
   "outputs": [],
   "source": [
    "def map_numbers_to_categories(numbers, category_mapping):\n",
    "    \"\"\"Maps numbers back to their corresponding category names using a provided mapping dictionary.\n",
    "\n",
    "    Args:\n",
    "        numbers: A list or array containing the numerical representations of categories.\n",
    "        category_mapping: A dictionary mapping category names (keys) to their numerical representations (values).\n",
    "\n",
    "    Returns:\n",
    "        A list containing the corresponding category names for the input numbers.\n",
    "    \"\"\"\n",
    "\n",
    "    category_names = [category_mapping.get(number, None) for number in numbers]\n",
    "    return category_names"
   ]
  },
  {
   "cell_type": "code",
   "execution_count": 41,
   "id": "8ed702c5",
   "metadata": {},
   "outputs": [],
   "source": [
    "def return_map(df_clean):\n",
    "\n",
    "    territory_map = {}\n",
    "    sector_map = {}\n",
    "\n",
    "    # Iterate through each row (assuming TerritorioCon and encoded_label_territorio are in the same order)\n",
    "    for territorio, encoded_label in zip(df_clean[\"TerritorioCon\"], df_clean[\"encoded_label_territorio\"]):\n",
    "      # Add the mapping to the dictionary if the TerritorioCon is not already present\n",
    "      if territorio not in territory_map:\n",
    "        territory_map[territorio] = encoded_label\n",
    "    \n",
    "    for sector, encoded_label_sector in zip(df_clean[\"SetorInstitucionalCon\"], df_clean[\"encoded_label_setor\"]):\n",
    "      # Add the mapping to the dictionary if the TerritorioCon is not already present\n",
    "      if sector not in sector_map:\n",
    "        sector_map[sector] = encoded_label_sector\n",
    "\n",
    "    return territory_map, sector_map"
   ]
  },
  {
   "cell_type": "markdown",
   "id": "9b721dd9",
   "metadata": {},
   "source": [
    "Aplicando funções para mapear os targets a códigos pra podermos treinar o modelo"
   ]
  },
  {
   "cell_type": "code",
   "execution_count": 42,
   "id": "68aa6e66",
   "metadata": {},
   "outputs": [],
   "source": [
    "# Get unique categories from 'TerritorioCon' column\n",
    "unique_categories_ter = df_clean['TerritorioCon'].unique()\n",
    "category_mapping_ter = dict(zip(unique_categories_ter, range(len(unique_categories_ter))))\n",
    "inverted_mapping_ter = {value: key for key, value in category_mapping_ter.items()}\n",
    "\n",
    "unique_categories_sec = df_clean[\"SetorInstitucionalCon\"].unique()\n",
    "category_mapping_sec = dict(zip(unique_categories_sec, range(len(unique_categories_sec))))\n",
    "inverted_mapping_sec = {value: key for key, value in category_mapping_sec.items()}\n",
    "\n",
    "df_clean[\"encoded_label_territorio\"] = df_clean[\"TerritorioCon\"].apply(encode_target, args=[category_mapping_ter])\n",
    "df_clean[\"encoded_label_setor\"] = df_clean['SetorInstitucionalCon'].apply(encode_target, args=[category_mapping_sec])"
   ]
  },
  {
   "cell_type": "code",
   "execution_count": 43,
   "id": "f62bf0c2",
   "metadata": {},
   "outputs": [
    {
     "data": {
      "text/html": [
       "<div>\n",
       "<style scoped>\n",
       "    .dataframe tbody tr th:only-of-type {\n",
       "        vertical-align: middle;\n",
       "    }\n",
       "\n",
       "    .dataframe tbody tr th {\n",
       "        vertical-align: top;\n",
       "    }\n",
       "\n",
       "    .dataframe thead th {\n",
       "        text-align: right;\n",
       "    }\n",
       "</style>\n",
       "<table border=\"1\" class=\"dataframe\">\n",
       "  <thead>\n",
       "    <tr style=\"text-align: right;\">\n",
       "      <th></th>\n",
       "      <th>TipoInformacao</th>\n",
       "      <th>TipoInstrumento</th>\n",
       "      <th>DescricaoInstrumento</th>\n",
       "      <th>MaturidadeOriginal</th>\n",
       "      <th>SetorInstitucionalCon</th>\n",
       "      <th>TerritorioCon</th>\n",
       "      <th>encoded_label_territorio</th>\n",
       "      <th>encoded_label_setor</th>\n",
       "    </tr>\n",
       "  </thead>\n",
       "  <tbody>\n",
       "    <tr>\n",
       "      <th>0</th>\n",
       "      <td>ativo</td>\n",
       "      <td>Depósitos transferíveis</td>\n",
       "      <td>BST Futuros  2.90%</td>\n",
       "      <td>A vista</td>\n",
       "      <td>S122</td>\n",
       "      <td>PRT</td>\n",
       "      <td>0</td>\n",
       "      <td>0</td>\n",
       "    </tr>\n",
       "    <tr>\n",
       "      <th>1</th>\n",
       "      <td>ativo</td>\n",
       "      <td>Depósitos transferíveis</td>\n",
       "      <td>BPI EUR 0.00%</td>\n",
       "      <td>A vista</td>\n",
       "      <td>S122</td>\n",
       "      <td>PRT</td>\n",
       "      <td>0</td>\n",
       "      <td>0</td>\n",
       "    </tr>\n",
       "    <tr>\n",
       "      <th>2</th>\n",
       "      <td>ativo</td>\n",
       "      <td>Depósitos transferíveis</td>\n",
       "      <td>BST Futuros  2.65%</td>\n",
       "      <td>A vista</td>\n",
       "      <td>S122</td>\n",
       "      <td>PRT</td>\n",
       "      <td>0</td>\n",
       "      <td>0</td>\n",
       "    </tr>\n",
       "  </tbody>\n",
       "</table>\n",
       "</div>"
      ],
      "text/plain": [
       "  TipoInformacao          TipoInstrumento DescricaoInstrumento  \\\n",
       "0          ativo  Depósitos transferíveis   BST Futuros  2.90%   \n",
       "1          ativo  Depósitos transferíveis        BPI EUR 0.00%   \n",
       "2          ativo  Depósitos transferíveis   BST Futuros  2.65%   \n",
       "\n",
       "  MaturidadeOriginal SetorInstitucionalCon TerritorioCon  \\\n",
       "0            A vista                  S122           PRT   \n",
       "1            A vista                  S122           PRT   \n",
       "2            A vista                  S122           PRT   \n",
       "\n",
       "   encoded_label_territorio  encoded_label_setor  \n",
       "0                         0                    0  \n",
       "1                         0                    0  \n",
       "2                         0                    0  "
      ]
     },
     "execution_count": 43,
     "metadata": {},
     "output_type": "execute_result"
    }
   ],
   "source": [
    "df_clean.head(3)"
   ]
  },
  {
   "cell_type": "markdown",
   "id": "8be72c00",
   "metadata": {},
   "source": [
    "### Processing Description Column"
   ]
  },
  {
   "cell_type": "markdown",
   "id": "cd9399de",
   "metadata": {},
   "source": [
    "Vamos agora:\n",
    "1. Utilizar a função simple_preprocess para aplicarmos tecnicas de Text Mining para limpar a descrição\n",
    "2. Treinando o modelo Word2Vec para processar coluna com a descrição para vetores (Embeddings)"
   ]
  },
  {
   "cell_type": "code",
   "execution_count": 44,
   "id": "38a5aca5",
   "metadata": {},
   "outputs": [],
   "source": [
    "df_clean['tokenized_Descricao_text'] = df_clean['DescricaoInstrumento'].apply(lambda x: simple_preprocess(x))\n",
    "word2vec_model = Word2Vec(sentences=df_clean['tokenized_Descricao_text'], vector_size=100, window=5, min_count=1, workers=4)"
   ]
  },
  {
   "cell_type": "code",
   "execution_count": 45,
   "id": "66c7a931",
   "metadata": {},
   "outputs": [
    {
     "data": {
      "text/html": [
       "<div>\n",
       "<style scoped>\n",
       "    .dataframe tbody tr th:only-of-type {\n",
       "        vertical-align: middle;\n",
       "    }\n",
       "\n",
       "    .dataframe tbody tr th {\n",
       "        vertical-align: top;\n",
       "    }\n",
       "\n",
       "    .dataframe thead th {\n",
       "        text-align: right;\n",
       "    }\n",
       "</style>\n",
       "<table border=\"1\" class=\"dataframe\">\n",
       "  <thead>\n",
       "    <tr style=\"text-align: right;\">\n",
       "      <th></th>\n",
       "      <th>TipoInformacao</th>\n",
       "      <th>TipoInstrumento</th>\n",
       "      <th>DescricaoInstrumento</th>\n",
       "      <th>MaturidadeOriginal</th>\n",
       "      <th>SetorInstitucionalCon</th>\n",
       "      <th>TerritorioCon</th>\n",
       "      <th>encoded_label_territorio</th>\n",
       "      <th>encoded_label_setor</th>\n",
       "      <th>tokenized_Descricao_text</th>\n",
       "    </tr>\n",
       "  </thead>\n",
       "  <tbody>\n",
       "    <tr>\n",
       "      <th>0</th>\n",
       "      <td>ativo</td>\n",
       "      <td>Depósitos transferíveis</td>\n",
       "      <td>BST Futuros  2.90%</td>\n",
       "      <td>A vista</td>\n",
       "      <td>S122</td>\n",
       "      <td>PRT</td>\n",
       "      <td>0</td>\n",
       "      <td>0</td>\n",
       "      <td>[bst, futuros]</td>\n",
       "    </tr>\n",
       "    <tr>\n",
       "      <th>1</th>\n",
       "      <td>ativo</td>\n",
       "      <td>Depósitos transferíveis</td>\n",
       "      <td>BPI EUR 0.00%</td>\n",
       "      <td>A vista</td>\n",
       "      <td>S122</td>\n",
       "      <td>PRT</td>\n",
       "      <td>0</td>\n",
       "      <td>0</td>\n",
       "      <td>[bpi, eur]</td>\n",
       "    </tr>\n",
       "    <tr>\n",
       "      <th>2</th>\n",
       "      <td>ativo</td>\n",
       "      <td>Depósitos transferíveis</td>\n",
       "      <td>BST Futuros  2.65%</td>\n",
       "      <td>A vista</td>\n",
       "      <td>S122</td>\n",
       "      <td>PRT</td>\n",
       "      <td>0</td>\n",
       "      <td>0</td>\n",
       "      <td>[bst, futuros]</td>\n",
       "    </tr>\n",
       "    <tr>\n",
       "      <th>3</th>\n",
       "      <td>ativo</td>\n",
       "      <td>Depósitos transferíveis</td>\n",
       "      <td>BST EUR 3.15%</td>\n",
       "      <td>A vista</td>\n",
       "      <td>S122</td>\n",
       "      <td>PRT</td>\n",
       "      <td>0</td>\n",
       "      <td>0</td>\n",
       "      <td>[bst, eur]</td>\n",
       "    </tr>\n",
       "    <tr>\n",
       "      <th>4</th>\n",
       "      <td>ativo</td>\n",
       "      <td>Depósitos transferíveis</td>\n",
       "      <td>BST EUR 2.65%</td>\n",
       "      <td>A vista</td>\n",
       "      <td>S122</td>\n",
       "      <td>PRT</td>\n",
       "      <td>0</td>\n",
       "      <td>0</td>\n",
       "      <td>[bst, eur]</td>\n",
       "    </tr>\n",
       "    <tr>\n",
       "      <th>...</th>\n",
       "      <td>...</td>\n",
       "      <td>...</td>\n",
       "      <td>...</td>\n",
       "      <td>...</td>\n",
       "      <td>...</td>\n",
       "      <td>...</td>\n",
       "      <td>...</td>\n",
       "      <td>...</td>\n",
       "      <td>...</td>\n",
       "    </tr>\n",
       "    <tr>\n",
       "      <th>42402</th>\n",
       "      <td>passivo</td>\n",
       "      <td>Empréstimos</td>\n",
       "      <td>Empréstimo Vic Management 0,01%</td>\n",
       "      <td>Não aplicável</td>\n",
       "      <td>S11</td>\n",
       "      <td>PRT</td>\n",
       "      <td>0</td>\n",
       "      <td>2</td>\n",
       "      <td>[empréstimo, vic, management]</td>\n",
       "    </tr>\n",
       "    <tr>\n",
       "      <th>42403</th>\n",
       "      <td>passivo</td>\n",
       "      <td>Títulos de dívida</td>\n",
       "      <td>Outros Passivos</td>\n",
       "      <td>De 2 a 5 anos</td>\n",
       "      <td>S122</td>\n",
       "      <td>BEL</td>\n",
       "      <td>10</td>\n",
       "      <td>0</td>\n",
       "      <td>[outros, passivos]</td>\n",
       "    </tr>\n",
       "    <tr>\n",
       "      <th>42404</th>\n",
       "      <td>passivo</td>\n",
       "      <td>Empréstimos</td>\n",
       "      <td>Empréstimo Vic One Pest Sup 0,01%</td>\n",
       "      <td>Não aplicável</td>\n",
       "      <td>S11</td>\n",
       "      <td>PRT</td>\n",
       "      <td>0</td>\n",
       "      <td>2</td>\n",
       "      <td>[empréstimo, vic, one, pest, sup]</td>\n",
       "    </tr>\n",
       "    <tr>\n",
       "      <th>42405</th>\n",
       "      <td>passivo</td>\n",
       "      <td>Empréstimos</td>\n",
       "      <td>Empréstimo Vic Management 0,01%</td>\n",
       "      <td>Não aplicável</td>\n",
       "      <td>S11</td>\n",
       "      <td>PRT</td>\n",
       "      <td>0</td>\n",
       "      <td>2</td>\n",
       "      <td>[empréstimo, vic, management]</td>\n",
       "    </tr>\n",
       "    <tr>\n",
       "      <th>42406</th>\n",
       "      <td>passivo</td>\n",
       "      <td>Empréstimos</td>\n",
       "      <td>Empréstimo Vic One 0,01%</td>\n",
       "      <td>Não aplicável</td>\n",
       "      <td>S11</td>\n",
       "      <td>PRT</td>\n",
       "      <td>0</td>\n",
       "      <td>2</td>\n",
       "      <td>[empréstimo, vic, one]</td>\n",
       "    </tr>\n",
       "  </tbody>\n",
       "</table>\n",
       "<p>42407 rows × 9 columns</p>\n",
       "</div>"
      ],
      "text/plain": [
       "      TipoInformacao          TipoInstrumento  \\\n",
       "0              ativo  Depósitos transferíveis   \n",
       "1              ativo  Depósitos transferíveis   \n",
       "2              ativo  Depósitos transferíveis   \n",
       "3              ativo  Depósitos transferíveis   \n",
       "4              ativo  Depósitos transferíveis   \n",
       "...              ...                      ...   \n",
       "42402        passivo              Empréstimos   \n",
       "42403        passivo        Títulos de dívida   \n",
       "42404        passivo              Empréstimos   \n",
       "42405        passivo              Empréstimos   \n",
       "42406        passivo              Empréstimos   \n",
       "\n",
       "                    DescricaoInstrumento MaturidadeOriginal  \\\n",
       "0                     BST Futuros  2.90%            A vista   \n",
       "1                          BPI EUR 0.00%            A vista   \n",
       "2                     BST Futuros  2.65%            A vista   \n",
       "3                          BST EUR 3.15%            A vista   \n",
       "4                          BST EUR 2.65%            A vista   \n",
       "...                                  ...                ...   \n",
       "42402    Empréstimo Vic Management 0,01%      Não aplicável   \n",
       "42403                    Outros Passivos      De 2 a 5 anos   \n",
       "42404  Empréstimo Vic One Pest Sup 0,01%      Não aplicável   \n",
       "42405    Empréstimo Vic Management 0,01%      Não aplicável   \n",
       "42406           Empréstimo Vic One 0,01%      Não aplicável   \n",
       "\n",
       "      SetorInstitucionalCon TerritorioCon  encoded_label_territorio  \\\n",
       "0                      S122           PRT                         0   \n",
       "1                      S122           PRT                         0   \n",
       "2                      S122           PRT                         0   \n",
       "3                      S122           PRT                         0   \n",
       "4                      S122           PRT                         0   \n",
       "...                     ...           ...                       ...   \n",
       "42402                   S11           PRT                         0   \n",
       "42403                  S122           BEL                        10   \n",
       "42404                   S11           PRT                         0   \n",
       "42405                   S11           PRT                         0   \n",
       "42406                   S11           PRT                         0   \n",
       "\n",
       "       encoded_label_setor           tokenized_Descricao_text  \n",
       "0                        0                     [bst, futuros]  \n",
       "1                        0                         [bpi, eur]  \n",
       "2                        0                     [bst, futuros]  \n",
       "3                        0                         [bst, eur]  \n",
       "4                        0                         [bst, eur]  \n",
       "...                    ...                                ...  \n",
       "42402                    2      [empréstimo, vic, management]  \n",
       "42403                    0                 [outros, passivos]  \n",
       "42404                    2  [empréstimo, vic, one, pest, sup]  \n",
       "42405                    2      [empréstimo, vic, management]  \n",
       "42406                    2             [empréstimo, vic, one]  \n",
       "\n",
       "[42407 rows x 9 columns]"
      ]
     },
     "execution_count": 45,
     "metadata": {},
     "output_type": "execute_result"
    }
   ],
   "source": [
    "df_clean"
   ]
  },
  {
   "cell_type": "code",
   "execution_count": 46,
   "id": "78151db6",
   "metadata": {},
   "outputs": [],
   "source": [
    "def compute_avg_embedding(tokens, unknown_embedding=[0]*word2vec_model.vector_size):\n",
    "    embeddings = [word2vec_model.wv[token] for token in tokens if token in word2vec_model.wv]\n",
    "    if embeddings:  # Embeddings found\n",
    "        return np.array(embeddings).mean(axis=0)  # Return average embedding as a NumPy array\n",
    "    else:  # No embeddings found\n",
    "        return np.array(unknown_embedding)"
   ]
  },
  {
   "cell_type": "code",
   "execution_count": 47,
   "id": "1b5f5ece",
   "metadata": {},
   "outputs": [],
   "source": [
    "df_clean['avg_embedding'] = df_clean['tokenized_Descricao_text'].apply(compute_avg_embedding)\n",
    "X = df_clean['avg_embedding'].apply(pd.Series).to_numpy()\n",
    "y1 = df_clean['encoded_label_territorio']\n",
    "y2 = df_clean['encoded_label_setor']\n",
    "embed_data = pd.DataFrame(X)"
   ]
  },
  {
   "cell_type": "code",
   "execution_count": 48,
   "id": "53f94fd6",
   "metadata": {},
   "outputs": [
    {
     "data": {
      "text/html": [
       "<div>\n",
       "<style scoped>\n",
       "    .dataframe tbody tr th:only-of-type {\n",
       "        vertical-align: middle;\n",
       "    }\n",
       "\n",
       "    .dataframe tbody tr th {\n",
       "        vertical-align: top;\n",
       "    }\n",
       "\n",
       "    .dataframe thead th {\n",
       "        text-align: right;\n",
       "    }\n",
       "</style>\n",
       "<table border=\"1\" class=\"dataframe\">\n",
       "  <thead>\n",
       "    <tr style=\"text-align: right;\">\n",
       "      <th></th>\n",
       "      <th>TipoInformacao</th>\n",
       "      <th>TipoInstrumento</th>\n",
       "      <th>DescricaoInstrumento</th>\n",
       "      <th>MaturidadeOriginal</th>\n",
       "      <th>SetorInstitucionalCon</th>\n",
       "      <th>TerritorioCon</th>\n",
       "      <th>encoded_label_territorio</th>\n",
       "      <th>encoded_label_setor</th>\n",
       "      <th>tokenized_Descricao_text</th>\n",
       "      <th>avg_embedding</th>\n",
       "    </tr>\n",
       "  </thead>\n",
       "  <tbody>\n",
       "    <tr>\n",
       "      <th>0</th>\n",
       "      <td>ativo</td>\n",
       "      <td>Depósitos transferíveis</td>\n",
       "      <td>BST Futuros  2.90%</td>\n",
       "      <td>A vista</td>\n",
       "      <td>S122</td>\n",
       "      <td>PRT</td>\n",
       "      <td>0</td>\n",
       "      <td>0</td>\n",
       "      <td>[bst, futuros]</td>\n",
       "      <td>[0.16835219, 0.2564944, 0.17026035, 0.07354168...</td>\n",
       "    </tr>\n",
       "    <tr>\n",
       "      <th>1</th>\n",
       "      <td>ativo</td>\n",
       "      <td>Depósitos transferíveis</td>\n",
       "      <td>BPI EUR 0.00%</td>\n",
       "      <td>A vista</td>\n",
       "      <td>S122</td>\n",
       "      <td>PRT</td>\n",
       "      <td>0</td>\n",
       "      <td>0</td>\n",
       "      <td>[bpi, eur]</td>\n",
       "      <td>[-0.33069888, 0.53979915, -0.01237967, -0.0759...</td>\n",
       "    </tr>\n",
       "    <tr>\n",
       "      <th>2</th>\n",
       "      <td>ativo</td>\n",
       "      <td>Depósitos transferíveis</td>\n",
       "      <td>BST Futuros  2.65%</td>\n",
       "      <td>A vista</td>\n",
       "      <td>S122</td>\n",
       "      <td>PRT</td>\n",
       "      <td>0</td>\n",
       "      <td>0</td>\n",
       "      <td>[bst, futuros]</td>\n",
       "      <td>[0.16835219, 0.2564944, 0.17026035, 0.07354168...</td>\n",
       "    </tr>\n",
       "  </tbody>\n",
       "</table>\n",
       "</div>"
      ],
      "text/plain": [
       "  TipoInformacao          TipoInstrumento DescricaoInstrumento  \\\n",
       "0          ativo  Depósitos transferíveis   BST Futuros  2.90%   \n",
       "1          ativo  Depósitos transferíveis        BPI EUR 0.00%   \n",
       "2          ativo  Depósitos transferíveis   BST Futuros  2.65%   \n",
       "\n",
       "  MaturidadeOriginal SetorInstitucionalCon TerritorioCon  \\\n",
       "0            A vista                  S122           PRT   \n",
       "1            A vista                  S122           PRT   \n",
       "2            A vista                  S122           PRT   \n",
       "\n",
       "   encoded_label_territorio  encoded_label_setor tokenized_Descricao_text  \\\n",
       "0                         0                    0           [bst, futuros]   \n",
       "1                         0                    0               [bpi, eur]   \n",
       "2                         0                    0           [bst, futuros]   \n",
       "\n",
       "                                       avg_embedding  \n",
       "0  [0.16835219, 0.2564944, 0.17026035, 0.07354168...  \n",
       "1  [-0.33069888, 0.53979915, -0.01237967, -0.0759...  \n",
       "2  [0.16835219, 0.2564944, 0.17026035, 0.07354168...  "
      ]
     },
     "execution_count": 48,
     "metadata": {},
     "output_type": "execute_result"
    }
   ],
   "source": [
    "df_clean.head(3)"
   ]
  },
  {
   "cell_type": "markdown",
   "id": "cd3f972f",
   "metadata": {},
   "source": [
    "### Train Test Split"
   ]
  },
  {
   "cell_type": "markdown",
   "id": "f3cbdf99",
   "metadata": {},
   "source": [
    "Separando os dados em treino e test. Vamos ter dois targets. Um para o setor e outro para o território"
   ]
  },
  {
   "cell_type": "code",
   "execution_count": 49,
   "id": "408efd82",
   "metadata": {},
   "outputs": [],
   "source": [
    "# Stratified split with 'TerritorioCon' as the stratification factor\n",
    "#df_train, df_test = train_test_split(embed_data, test_size=0.2, random_state=42)\n",
    "X_train_1, X_test_1, y_train_1, y_test_1 = train_test_split(X, y1, test_size=0.1, random_state=41)\n",
    "X_train_2, X_test_2, y_train_2, y_test_2 = train_test_split(X, y2, test_size=0.1, random_state=41)"
   ]
  },
  {
   "cell_type": "markdown",
   "id": "64a59811",
   "metadata": {},
   "source": [
    "# Train "
   ]
  },
  {
   "cell_type": "markdown",
   "id": "8b4f7ebf",
   "metadata": {},
   "source": [
    "## Train the Model Territorio"
   ]
  },
  {
   "cell_type": "code",
   "execution_count": 50,
   "id": "5374b995",
   "metadata": {},
   "outputs": [
    {
     "name": "stderr",
     "output_type": "stream",
     "text": [
      "/Users/enderson.santos/anaconda3/lib/python3.10/site-packages/xgboost/sklearn.py:835: UserWarning: `early_stopping_rounds` in `fit` method is deprecated for better compatibility with scikit-learn, use `early_stopping_rounds` in constructor or`set_params` instead.\n",
      "  warnings.warn(\n"
     ]
    },
    {
     "name": "stdout",
     "output_type": "stream",
     "text": [
      "[0]\tvalidation_0-mlogloss:2.16960\n",
      "[1]\tvalidation_0-mlogloss:4.89598\n",
      "[2]\tvalidation_0-mlogloss:2.11399\n",
      "[3]\tvalidation_0-mlogloss:1.97298\n",
      "[4]\tvalidation_0-mlogloss:1.86315\n",
      "[5]\tvalidation_0-mlogloss:1.76872\n",
      "[6]\tvalidation_0-mlogloss:1.72518\n",
      "[7]\tvalidation_0-mlogloss:1.70945\n",
      "[8]\tvalidation_0-mlogloss:1.65475\n",
      "[9]\tvalidation_0-mlogloss:1.65110\n",
      "[10]\tvalidation_0-mlogloss:1.50772\n",
      "[11]\tvalidation_0-mlogloss:1.45096\n",
      "[12]\tvalidation_0-mlogloss:1.43801\n",
      "[13]\tvalidation_0-mlogloss:1.44121\n",
      "[14]\tvalidation_0-mlogloss:1.41552\n",
      "[15]\tvalidation_0-mlogloss:1.33467\n",
      "[16]\tvalidation_0-mlogloss:1.30881\n",
      "[17]\tvalidation_0-mlogloss:1.26058\n",
      "[18]\tvalidation_0-mlogloss:1.25432\n",
      "[19]\tvalidation_0-mlogloss:1.31544\n",
      "[20]\tvalidation_0-mlogloss:1.23050\n",
      "[21]\tvalidation_0-mlogloss:1.20639\n",
      "[22]\tvalidation_0-mlogloss:1.18532\n",
      "[23]\tvalidation_0-mlogloss:1.16648\n",
      "[24]\tvalidation_0-mlogloss:1.13963\n",
      "[25]\tvalidation_0-mlogloss:1.10693\n",
      "[26]\tvalidation_0-mlogloss:1.04904\n",
      "[27]\tvalidation_0-mlogloss:0.99640\n",
      "[28]\tvalidation_0-mlogloss:0.97368\n",
      "[29]\tvalidation_0-mlogloss:0.95863\n",
      "[30]\tvalidation_0-mlogloss:0.93905\n",
      "[31]\tvalidation_0-mlogloss:0.92335\n",
      "[32]\tvalidation_0-mlogloss:0.90850\n",
      "[33]\tvalidation_0-mlogloss:0.90027\n",
      "[34]\tvalidation_0-mlogloss:0.88757\n",
      "[35]\tvalidation_0-mlogloss:0.87022\n",
      "[36]\tvalidation_0-mlogloss:0.86188\n",
      "[37]\tvalidation_0-mlogloss:0.85404\n",
      "[38]\tvalidation_0-mlogloss:0.84563\n",
      "[39]\tvalidation_0-mlogloss:0.83365\n",
      "[40]\tvalidation_0-mlogloss:0.82530\n",
      "[41]\tvalidation_0-mlogloss:0.81674\n",
      "[42]\tvalidation_0-mlogloss:0.80751\n",
      "[43]\tvalidation_0-mlogloss:0.80132\n",
      "[44]\tvalidation_0-mlogloss:0.79491\n",
      "[45]\tvalidation_0-mlogloss:0.78703\n",
      "[46]\tvalidation_0-mlogloss:0.78011\n",
      "[47]\tvalidation_0-mlogloss:0.76797\n",
      "[48]\tvalidation_0-mlogloss:0.76083\n",
      "[49]\tvalidation_0-mlogloss:0.74916\n",
      "[50]\tvalidation_0-mlogloss:0.73926\n",
      "[51]\tvalidation_0-mlogloss:0.73182\n",
      "[52]\tvalidation_0-mlogloss:0.72685\n",
      "[53]\tvalidation_0-mlogloss:0.71963\n",
      "[54]\tvalidation_0-mlogloss:0.71468\n",
      "[55]\tvalidation_0-mlogloss:0.70815\n",
      "[56]\tvalidation_0-mlogloss:0.69968\n",
      "[57]\tvalidation_0-mlogloss:0.69296\n",
      "[58]\tvalidation_0-mlogloss:0.68771\n",
      "[59]\tvalidation_0-mlogloss:0.67827\n",
      "[60]\tvalidation_0-mlogloss:0.67146\n",
      "[61]\tvalidation_0-mlogloss:0.66772\n",
      "[62]\tvalidation_0-mlogloss:0.66249\n",
      "[63]\tvalidation_0-mlogloss:0.65852\n",
      "[64]\tvalidation_0-mlogloss:0.65443\n",
      "[65]\tvalidation_0-mlogloss:0.65066\n",
      "[66]\tvalidation_0-mlogloss:0.64387\n",
      "[67]\tvalidation_0-mlogloss:0.63742\n",
      "[68]\tvalidation_0-mlogloss:0.63134\n",
      "[69]\tvalidation_0-mlogloss:0.62689\n",
      "[70]\tvalidation_0-mlogloss:0.62297\n",
      "[71]\tvalidation_0-mlogloss:0.61929\n",
      "[72]\tvalidation_0-mlogloss:0.61612\n",
      "[73]\tvalidation_0-mlogloss:0.61341\n",
      "[74]\tvalidation_0-mlogloss:0.61039\n",
      "[75]\tvalidation_0-mlogloss:0.60546\n",
      "[76]\tvalidation_0-mlogloss:0.60188\n",
      "[77]\tvalidation_0-mlogloss:0.59830\n",
      "[78]\tvalidation_0-mlogloss:0.59503\n",
      "[79]\tvalidation_0-mlogloss:0.59094\n",
      "[80]\tvalidation_0-mlogloss:0.58705\n",
      "[81]\tvalidation_0-mlogloss:0.58384\n",
      "[82]\tvalidation_0-mlogloss:0.57997\n",
      "[83]\tvalidation_0-mlogloss:0.57597\n",
      "[84]\tvalidation_0-mlogloss:0.57208\n",
      "[85]\tvalidation_0-mlogloss:0.56974\n",
      "[86]\tvalidation_0-mlogloss:0.56747\n",
      "[87]\tvalidation_0-mlogloss:0.56432\n",
      "[88]\tvalidation_0-mlogloss:0.56207\n",
      "[89]\tvalidation_0-mlogloss:0.55966\n",
      "[90]\tvalidation_0-mlogloss:0.55736\n",
      "[91]\tvalidation_0-mlogloss:0.55390\n",
      "[92]\tvalidation_0-mlogloss:0.55239\n",
      "[93]\tvalidation_0-mlogloss:0.54964\n",
      "[94]\tvalidation_0-mlogloss:0.54632\n",
      "[95]\tvalidation_0-mlogloss:0.54410\n",
      "[96]\tvalidation_0-mlogloss:0.54240\n",
      "[97]\tvalidation_0-mlogloss:0.54065\n",
      "[98]\tvalidation_0-mlogloss:0.53845\n",
      "[99]\tvalidation_0-mlogloss:0.53587\n"
     ]
    },
    {
     "data": {
      "text/html": [
       "<style>#sk-container-id-3 {color: black;background-color: white;}#sk-container-id-3 pre{padding: 0;}#sk-container-id-3 div.sk-toggleable {background-color: white;}#sk-container-id-3 label.sk-toggleable__label {cursor: pointer;display: block;width: 100%;margin-bottom: 0;padding: 0.3em;box-sizing: border-box;text-align: center;}#sk-container-id-3 label.sk-toggleable__label-arrow:before {content: \"▸\";float: left;margin-right: 0.25em;color: #696969;}#sk-container-id-3 label.sk-toggleable__label-arrow:hover:before {color: black;}#sk-container-id-3 div.sk-estimator:hover label.sk-toggleable__label-arrow:before {color: black;}#sk-container-id-3 div.sk-toggleable__content {max-height: 0;max-width: 0;overflow: hidden;text-align: left;background-color: #f0f8ff;}#sk-container-id-3 div.sk-toggleable__content pre {margin: 0.2em;color: black;border-radius: 0.25em;background-color: #f0f8ff;}#sk-container-id-3 input.sk-toggleable__control:checked~div.sk-toggleable__content {max-height: 200px;max-width: 100%;overflow: auto;}#sk-container-id-3 input.sk-toggleable__control:checked~label.sk-toggleable__label-arrow:before {content: \"▾\";}#sk-container-id-3 div.sk-estimator input.sk-toggleable__control:checked~label.sk-toggleable__label {background-color: #d4ebff;}#sk-container-id-3 div.sk-label input.sk-toggleable__control:checked~label.sk-toggleable__label {background-color: #d4ebff;}#sk-container-id-3 input.sk-hidden--visually {border: 0;clip: rect(1px 1px 1px 1px);clip: rect(1px, 1px, 1px, 1px);height: 1px;margin: -1px;overflow: hidden;padding: 0;position: absolute;width: 1px;}#sk-container-id-3 div.sk-estimator {font-family: monospace;background-color: #f0f8ff;border: 1px dotted black;border-radius: 0.25em;box-sizing: border-box;margin-bottom: 0.5em;}#sk-container-id-3 div.sk-estimator:hover {background-color: #d4ebff;}#sk-container-id-3 div.sk-parallel-item::after {content: \"\";width: 100%;border-bottom: 1px solid gray;flex-grow: 1;}#sk-container-id-3 div.sk-label:hover label.sk-toggleable__label {background-color: #d4ebff;}#sk-container-id-3 div.sk-serial::before {content: \"\";position: absolute;border-left: 1px solid gray;box-sizing: border-box;top: 0;bottom: 0;left: 50%;z-index: 0;}#sk-container-id-3 div.sk-serial {display: flex;flex-direction: column;align-items: center;background-color: white;padding-right: 0.2em;padding-left: 0.2em;position: relative;}#sk-container-id-3 div.sk-item {position: relative;z-index: 1;}#sk-container-id-3 div.sk-parallel {display: flex;align-items: stretch;justify-content: center;background-color: white;position: relative;}#sk-container-id-3 div.sk-item::before, #sk-container-id-3 div.sk-parallel-item::before {content: \"\";position: absolute;border-left: 1px solid gray;box-sizing: border-box;top: 0;bottom: 0;left: 50%;z-index: -1;}#sk-container-id-3 div.sk-parallel-item {display: flex;flex-direction: column;z-index: 1;position: relative;background-color: white;}#sk-container-id-3 div.sk-parallel-item:first-child::after {align-self: flex-end;width: 50%;}#sk-container-id-3 div.sk-parallel-item:last-child::after {align-self: flex-start;width: 50%;}#sk-container-id-3 div.sk-parallel-item:only-child::after {width: 0;}#sk-container-id-3 div.sk-dashed-wrapped {border: 1px dashed gray;margin: 0 0.4em 0.5em 0.4em;box-sizing: border-box;padding-bottom: 0.4em;background-color: white;}#sk-container-id-3 div.sk-label label {font-family: monospace;font-weight: bold;display: inline-block;line-height: 1.2em;}#sk-container-id-3 div.sk-label-container {text-align: center;}#sk-container-id-3 div.sk-container {/* jupyter's `normalize.less` sets `[hidden] { display: none; }` but bootstrap.min.css set `[hidden] { display: none !important; }` so we also need the `!important` here to be able to override the default hidden behavior on the sphinx rendered scikit-learn.org. See: https://github.com/scikit-learn/scikit-learn/issues/21755 */display: inline-block !important;position: relative;}#sk-container-id-3 div.sk-text-repr-fallback {display: none;}</style><div id=\"sk-container-id-3\" class=\"sk-top-container\"><div class=\"sk-text-repr-fallback\"><pre>XGBClassifier(base_score=None, booster=None, callbacks=None,\n",
       "              colsample_bylevel=None, colsample_bynode=None,\n",
       "              colsample_bytree=None, early_stopping_rounds=None,\n",
       "              enable_categorical=False, eval_metric=None, feature_types=None,\n",
       "              gamma=None, gpu_id=None, grow_policy=None, importance_type=None,\n",
       "              interaction_constraints=None, learning_rate=None, max_bin=None,\n",
       "              max_cat_threshold=None, max_cat_to_onehot=None,\n",
       "              max_delta_step=None, max_depth=4, max_leaves=None,\n",
       "              min_child_weight=None, missing=nan, monotone_constraints=None,\n",
       "              n_estimators=100, n_jobs=None, num_parallel_tree=None,\n",
       "              objective=&#x27;multi:softprob&#x27;, predictor=None, ...)</pre><b>In a Jupyter environment, please rerun this cell to show the HTML representation or trust the notebook. <br />On GitHub, the HTML representation is unable to render, please try loading this page with nbviewer.org.</b></div><div class=\"sk-container\" hidden><div class=\"sk-item\"><div class=\"sk-estimator sk-toggleable\"><input class=\"sk-toggleable__control sk-hidden--visually\" id=\"sk-estimator-id-3\" type=\"checkbox\" checked><label for=\"sk-estimator-id-3\" class=\"sk-toggleable__label sk-toggleable__label-arrow\">XGBClassifier</label><div class=\"sk-toggleable__content\"><pre>XGBClassifier(base_score=None, booster=None, callbacks=None,\n",
       "              colsample_bylevel=None, colsample_bynode=None,\n",
       "              colsample_bytree=None, early_stopping_rounds=None,\n",
       "              enable_categorical=False, eval_metric=None, feature_types=None,\n",
       "              gamma=None, gpu_id=None, grow_policy=None, importance_type=None,\n",
       "              interaction_constraints=None, learning_rate=None, max_bin=None,\n",
       "              max_cat_threshold=None, max_cat_to_onehot=None,\n",
       "              max_delta_step=None, max_depth=4, max_leaves=None,\n",
       "              min_child_weight=None, missing=nan, monotone_constraints=None,\n",
       "              n_estimators=100, n_jobs=None, num_parallel_tree=None,\n",
       "              objective=&#x27;multi:softprob&#x27;, predictor=None, ...)</pre></div></div></div></div></div>"
      ],
      "text/plain": [
       "XGBClassifier(base_score=None, booster=None, callbacks=None,\n",
       "              colsample_bylevel=None, colsample_bynode=None,\n",
       "              colsample_bytree=None, early_stopping_rounds=None,\n",
       "              enable_categorical=False, eval_metric=None, feature_types=None,\n",
       "              gamma=None, gpu_id=None, grow_policy=None, importance_type=None,\n",
       "              interaction_constraints=None, learning_rate=None, max_bin=None,\n",
       "              max_cat_threshold=None, max_cat_to_onehot=None,\n",
       "              max_delta_step=None, max_depth=4, max_leaves=None,\n",
       "              min_child_weight=None, missing=nan, monotone_constraints=None,\n",
       "              n_estimators=100, n_jobs=None, num_parallel_tree=None,\n",
       "              objective='multi:softprob', predictor=None, ...)"
      ]
     },
     "execution_count": 50,
     "metadata": {},
     "output_type": "execute_result"
    }
   ],
   "source": [
    "clf_ter = XGBClassifier(random_state=42, max_depth=4)\n",
    "clf_ter.fit(X_train_1, y_train_1, early_stopping_rounds=10, \n",
    "        eval_set=[(X_test_1, y_test_1)])"
   ]
  },
  {
   "cell_type": "markdown",
   "id": "e6feda97",
   "metadata": {},
   "source": [
    "## Evaluate "
   ]
  },
  {
   "cell_type": "code",
   "execution_count": 51,
   "id": "cf2fe7a9",
   "metadata": {},
   "outputs": [],
   "source": [
    "y_pred_test = clf_ter.predict(X_test_1)\n",
    "y_pred_train = clf_ter.predict(X_train_1)"
   ]
  },
  {
   "cell_type": "code",
   "execution_count": 52,
   "id": "819a96c2",
   "metadata": {},
   "outputs": [],
   "source": [
    "pred_test_str = map_numbers_to_categories(y_pred_test, inverted_mapping_ter)\n",
    "pred_train_str = map_numbers_to_categories(y_pred_train, inverted_mapping_ter)"
   ]
  },
  {
   "cell_type": "code",
   "execution_count": 53,
   "id": "351a39bc",
   "metadata": {},
   "outputs": [
    {
     "name": "stdout",
     "output_type": "stream",
     "text": [
      "Accuracy Test: 0.8908276349917472\n",
      "Accuracy Train: 0.9267672797778127\n"
     ]
    }
   ],
   "source": [
    "# Evaluate accuracy\n",
    "accuracy_test = accuracy_score(y_test_1.to_list(), y_pred_test)\n",
    "accuracy_train = accuracy_score(y_train_1.to_list(), y_pred_train)\n",
    "print(\"Accuracy Test:\", accuracy_test)\n",
    "print(\"Accuracy Train:\", accuracy_train)"
   ]
  },
  {
   "cell_type": "code",
   "execution_count": 54,
   "id": "aeeefadd",
   "metadata": {},
   "outputs": [
    {
     "name": "stdout",
     "output_type": "stream",
     "text": [
      "Classification Report:\n",
      "              precision    recall  f1-score   support\n",
      "\n",
      "           0       0.87      0.95      0.91      1277\n",
      "           1       0.88      0.91      0.89       533\n",
      "           2       0.90      0.82      0.86       231\n",
      "           3       0.87      0.76      0.81       283\n",
      "           4       0.89      0.86      0.87       260\n",
      "           5       0.87      0.86      0.86       339\n",
      "           6       0.92      0.88      0.90       171\n",
      "           7       0.96      0.96      0.96        23\n",
      "           8       0.96      0.85      0.90        27\n",
      "           9       0.88      0.93      0.90        56\n",
      "          10       1.00      0.91      0.95        32\n",
      "          11       0.90      0.86      0.88       326\n",
      "          12       0.89      0.91      0.90       201\n",
      "          13       0.96      0.94      0.95       161\n",
      "          14       0.95      0.95      0.95        37\n",
      "          15       0.98      0.92      0.95        53\n",
      "          16       1.00      0.85      0.92        13\n",
      "          17       1.00      1.00      1.00         5\n",
      "          18       1.00      1.00      1.00        10\n",
      "          19       1.00      1.00      1.00        31\n",
      "          20       1.00      0.83      0.91         6\n",
      "          21       0.97      0.97      0.97        33\n",
      "          22       0.90      0.90      0.90        21\n",
      "          23       1.00      0.81      0.90        16\n",
      "          25       0.00      0.00      0.00         1\n",
      "          26       1.00      1.00      1.00         2\n",
      "          27       0.82      0.50      0.62        18\n",
      "          28       1.00      1.00      1.00         1\n",
      "          29       1.00      1.00      1.00         5\n",
      "          30       1.00      1.00      1.00         1\n",
      "          31       1.00      0.50      0.67         2\n",
      "          32       1.00      1.00      1.00         2\n",
      "          33       1.00      0.91      0.95        11\n",
      "          36       1.00      1.00      1.00         9\n",
      "          38       1.00      1.00      1.00         1\n",
      "          39       1.00      1.00      1.00         1\n",
      "          41       1.00      0.50      0.67         4\n",
      "          43       0.00      0.00      0.00         1\n",
      "          45       1.00      1.00      1.00         3\n",
      "          46       1.00      1.00      1.00         1\n",
      "          49       1.00      0.33      0.50         6\n",
      "          51       0.00      0.00      0.00         0\n",
      "          52       0.25      0.14      0.18         7\n",
      "          55       1.00      0.50      0.67         6\n",
      "          59       0.00      0.00      0.00         1\n",
      "          61       0.00      0.00      0.00         1\n",
      "          62       0.00      0.00      0.00         1\n",
      "          63       1.00      1.00      1.00         1\n",
      "          64       1.00      1.00      1.00         2\n",
      "          66       1.00      1.00      1.00         1\n",
      "          67       1.00      1.00      1.00         1\n",
      "          69       1.00      1.00      1.00         2\n",
      "          70       0.00      0.00      0.00         0\n",
      "          75       1.00      1.00      1.00         1\n",
      "          81       1.00      1.00      1.00         1\n",
      "          82       0.00      0.00      0.00         2\n",
      "\n",
      "    accuracy                           0.89      4241\n",
      "   macro avg       0.81      0.75      0.77      4241\n",
      "weighted avg       0.89      0.89      0.89      4241\n",
      "\n"
     ]
    },
    {
     "name": "stderr",
     "output_type": "stream",
     "text": [
      "/Users/enderson.santos/anaconda3/lib/python3.10/site-packages/sklearn/metrics/_classification.py:1344: UndefinedMetricWarning: Precision and F-score are ill-defined and being set to 0.0 in labels with no predicted samples. Use `zero_division` parameter to control this behavior.\n",
      "  _warn_prf(average, modifier, msg_start, len(result))\n",
      "/Users/enderson.santos/anaconda3/lib/python3.10/site-packages/sklearn/metrics/_classification.py:1344: UndefinedMetricWarning: Recall and F-score are ill-defined and being set to 0.0 in labels with no true samples. Use `zero_division` parameter to control this behavior.\n",
      "  _warn_prf(average, modifier, msg_start, len(result))\n",
      "/Users/enderson.santos/anaconda3/lib/python3.10/site-packages/sklearn/metrics/_classification.py:1344: UndefinedMetricWarning: Precision and F-score are ill-defined and being set to 0.0 in labels with no predicted samples. Use `zero_division` parameter to control this behavior.\n",
      "  _warn_prf(average, modifier, msg_start, len(result))\n",
      "/Users/enderson.santos/anaconda3/lib/python3.10/site-packages/sklearn/metrics/_classification.py:1344: UndefinedMetricWarning: Recall and F-score are ill-defined and being set to 0.0 in labels with no true samples. Use `zero_division` parameter to control this behavior.\n",
      "  _warn_prf(average, modifier, msg_start, len(result))\n",
      "/Users/enderson.santos/anaconda3/lib/python3.10/site-packages/sklearn/metrics/_classification.py:1344: UndefinedMetricWarning: Precision and F-score are ill-defined and being set to 0.0 in labels with no predicted samples. Use `zero_division` parameter to control this behavior.\n",
      "  _warn_prf(average, modifier, msg_start, len(result))\n",
      "/Users/enderson.santos/anaconda3/lib/python3.10/site-packages/sklearn/metrics/_classification.py:1344: UndefinedMetricWarning: Recall and F-score are ill-defined and being set to 0.0 in labels with no true samples. Use `zero_division` parameter to control this behavior.\n",
      "  _warn_prf(average, modifier, msg_start, len(result))\n"
     ]
    }
   ],
   "source": [
    "print(\"Classification Report:\")\n",
    "print(classification_report(y_test_1.to_list(), y_pred_test))"
   ]
  },
  {
   "cell_type": "markdown",
   "id": "353b222f",
   "metadata": {},
   "source": [
    "## Train Model Sector"
   ]
  },
  {
   "cell_type": "code",
   "execution_count": 55,
   "id": "0b5c89e0",
   "metadata": {},
   "outputs": [
    {
     "name": "stderr",
     "output_type": "stream",
     "text": [
      "/Users/enderson.santos/anaconda3/lib/python3.10/site-packages/xgboost/sklearn.py:835: UserWarning: `early_stopping_rounds` in `fit` method is deprecated for better compatibility with scikit-learn, use `early_stopping_rounds` in constructor or`set_params` instead.\n",
      "  warnings.warn(\n"
     ]
    },
    {
     "name": "stdout",
     "output_type": "stream",
     "text": [
      "[0]\tvalidation_0-mlogloss:1.54527\n",
      "[1]\tvalidation_0-mlogloss:1.27229\n",
      "[2]\tvalidation_0-mlogloss:1.08452\n",
      "[3]\tvalidation_0-mlogloss:0.95495\n",
      "[4]\tvalidation_0-mlogloss:0.85527\n",
      "[5]\tvalidation_0-mlogloss:0.77815\n",
      "[6]\tvalidation_0-mlogloss:0.71438\n",
      "[7]\tvalidation_0-mlogloss:0.66678\n",
      "[8]\tvalidation_0-mlogloss:0.62487\n",
      "[9]\tvalidation_0-mlogloss:0.59196\n",
      "[10]\tvalidation_0-mlogloss:0.56465\n",
      "[11]\tvalidation_0-mlogloss:0.54287\n",
      "[12]\tvalidation_0-mlogloss:0.51913\n",
      "[13]\tvalidation_0-mlogloss:0.50235\n",
      "[14]\tvalidation_0-mlogloss:0.48463\n",
      "[15]\tvalidation_0-mlogloss:0.46672\n",
      "[16]\tvalidation_0-mlogloss:0.45122\n",
      "[17]\tvalidation_0-mlogloss:0.43783\n",
      "[18]\tvalidation_0-mlogloss:0.42691\n",
      "[19]\tvalidation_0-mlogloss:0.41645\n",
      "[20]\tvalidation_0-mlogloss:0.40615\n",
      "[21]\tvalidation_0-mlogloss:0.39824\n",
      "[22]\tvalidation_0-mlogloss:0.39045\n",
      "[23]\tvalidation_0-mlogloss:0.38362\n",
      "[24]\tvalidation_0-mlogloss:0.37253\n",
      "[25]\tvalidation_0-mlogloss:0.36586\n",
      "[26]\tvalidation_0-mlogloss:0.36061\n",
      "[27]\tvalidation_0-mlogloss:0.35347\n",
      "[28]\tvalidation_0-mlogloss:0.34915\n",
      "[29]\tvalidation_0-mlogloss:0.34143\n",
      "[30]\tvalidation_0-mlogloss:0.33645\n",
      "[31]\tvalidation_0-mlogloss:0.33185\n",
      "[32]\tvalidation_0-mlogloss:0.32840\n",
      "[33]\tvalidation_0-mlogloss:0.32254\n",
      "[34]\tvalidation_0-mlogloss:0.31784\n",
      "[35]\tvalidation_0-mlogloss:0.31345\n",
      "[36]\tvalidation_0-mlogloss:0.31007\n",
      "[37]\tvalidation_0-mlogloss:0.30527\n",
      "[38]\tvalidation_0-mlogloss:0.30088\n",
      "[39]\tvalidation_0-mlogloss:0.29586\n",
      "[40]\tvalidation_0-mlogloss:0.29292\n",
      "[41]\tvalidation_0-mlogloss:0.29044\n",
      "[42]\tvalidation_0-mlogloss:0.28851\n",
      "[43]\tvalidation_0-mlogloss:0.28533\n",
      "[44]\tvalidation_0-mlogloss:0.28278\n",
      "[45]\tvalidation_0-mlogloss:0.28026\n",
      "[46]\tvalidation_0-mlogloss:0.27724\n",
      "[47]\tvalidation_0-mlogloss:0.27492\n",
      "[48]\tvalidation_0-mlogloss:0.27348\n",
      "[49]\tvalidation_0-mlogloss:0.27143\n",
      "[50]\tvalidation_0-mlogloss:0.26913\n",
      "[51]\tvalidation_0-mlogloss:0.26742\n",
      "[52]\tvalidation_0-mlogloss:0.26532\n",
      "[53]\tvalidation_0-mlogloss:0.26330\n",
      "[54]\tvalidation_0-mlogloss:0.26156\n",
      "[55]\tvalidation_0-mlogloss:0.25885\n",
      "[56]\tvalidation_0-mlogloss:0.25651\n",
      "[57]\tvalidation_0-mlogloss:0.25410\n",
      "[58]\tvalidation_0-mlogloss:0.25188\n",
      "[59]\tvalidation_0-mlogloss:0.25031\n",
      "[60]\tvalidation_0-mlogloss:0.24833\n",
      "[61]\tvalidation_0-mlogloss:0.24746\n",
      "[62]\tvalidation_0-mlogloss:0.24634\n",
      "[63]\tvalidation_0-mlogloss:0.24470\n",
      "[64]\tvalidation_0-mlogloss:0.24341\n",
      "[65]\tvalidation_0-mlogloss:0.24265\n",
      "[66]\tvalidation_0-mlogloss:0.24131\n",
      "[67]\tvalidation_0-mlogloss:0.23938\n",
      "[68]\tvalidation_0-mlogloss:0.23828\n",
      "[69]\tvalidation_0-mlogloss:0.23685\n",
      "[70]\tvalidation_0-mlogloss:0.23625\n",
      "[71]\tvalidation_0-mlogloss:0.23568\n",
      "[72]\tvalidation_0-mlogloss:0.23454\n",
      "[73]\tvalidation_0-mlogloss:0.23386\n",
      "[74]\tvalidation_0-mlogloss:0.23315\n",
      "[75]\tvalidation_0-mlogloss:0.23259\n",
      "[76]\tvalidation_0-mlogloss:0.23112\n",
      "[77]\tvalidation_0-mlogloss:0.23012\n",
      "[78]\tvalidation_0-mlogloss:0.22913\n",
      "[79]\tvalidation_0-mlogloss:0.22868\n",
      "[80]\tvalidation_0-mlogloss:0.22820\n",
      "[81]\tvalidation_0-mlogloss:0.22765\n",
      "[82]\tvalidation_0-mlogloss:0.22712\n",
      "[83]\tvalidation_0-mlogloss:0.22696\n",
      "[84]\tvalidation_0-mlogloss:0.22613\n",
      "[85]\tvalidation_0-mlogloss:0.22567\n",
      "[86]\tvalidation_0-mlogloss:0.22465\n",
      "[87]\tvalidation_0-mlogloss:0.22404\n",
      "[88]\tvalidation_0-mlogloss:0.22345\n",
      "[89]\tvalidation_0-mlogloss:0.22262\n",
      "[90]\tvalidation_0-mlogloss:0.22216\n",
      "[91]\tvalidation_0-mlogloss:0.22161\n",
      "[92]\tvalidation_0-mlogloss:0.22112\n",
      "[93]\tvalidation_0-mlogloss:0.22074\n",
      "[94]\tvalidation_0-mlogloss:0.22060\n",
      "[95]\tvalidation_0-mlogloss:0.22016\n",
      "[96]\tvalidation_0-mlogloss:0.21980\n",
      "[97]\tvalidation_0-mlogloss:0.21942\n",
      "[98]\tvalidation_0-mlogloss:0.21892\n",
      "[99]\tvalidation_0-mlogloss:0.21867\n"
     ]
    },
    {
     "data": {
      "text/html": [
       "<style>#sk-container-id-4 {color: black;background-color: white;}#sk-container-id-4 pre{padding: 0;}#sk-container-id-4 div.sk-toggleable {background-color: white;}#sk-container-id-4 label.sk-toggleable__label {cursor: pointer;display: block;width: 100%;margin-bottom: 0;padding: 0.3em;box-sizing: border-box;text-align: center;}#sk-container-id-4 label.sk-toggleable__label-arrow:before {content: \"▸\";float: left;margin-right: 0.25em;color: #696969;}#sk-container-id-4 label.sk-toggleable__label-arrow:hover:before {color: black;}#sk-container-id-4 div.sk-estimator:hover label.sk-toggleable__label-arrow:before {color: black;}#sk-container-id-4 div.sk-toggleable__content {max-height: 0;max-width: 0;overflow: hidden;text-align: left;background-color: #f0f8ff;}#sk-container-id-4 div.sk-toggleable__content pre {margin: 0.2em;color: black;border-radius: 0.25em;background-color: #f0f8ff;}#sk-container-id-4 input.sk-toggleable__control:checked~div.sk-toggleable__content {max-height: 200px;max-width: 100%;overflow: auto;}#sk-container-id-4 input.sk-toggleable__control:checked~label.sk-toggleable__label-arrow:before {content: \"▾\";}#sk-container-id-4 div.sk-estimator input.sk-toggleable__control:checked~label.sk-toggleable__label {background-color: #d4ebff;}#sk-container-id-4 div.sk-label input.sk-toggleable__control:checked~label.sk-toggleable__label {background-color: #d4ebff;}#sk-container-id-4 input.sk-hidden--visually {border: 0;clip: rect(1px 1px 1px 1px);clip: rect(1px, 1px, 1px, 1px);height: 1px;margin: -1px;overflow: hidden;padding: 0;position: absolute;width: 1px;}#sk-container-id-4 div.sk-estimator {font-family: monospace;background-color: #f0f8ff;border: 1px dotted black;border-radius: 0.25em;box-sizing: border-box;margin-bottom: 0.5em;}#sk-container-id-4 div.sk-estimator:hover {background-color: #d4ebff;}#sk-container-id-4 div.sk-parallel-item::after {content: \"\";width: 100%;border-bottom: 1px solid gray;flex-grow: 1;}#sk-container-id-4 div.sk-label:hover label.sk-toggleable__label {background-color: #d4ebff;}#sk-container-id-4 div.sk-serial::before {content: \"\";position: absolute;border-left: 1px solid gray;box-sizing: border-box;top: 0;bottom: 0;left: 50%;z-index: 0;}#sk-container-id-4 div.sk-serial {display: flex;flex-direction: column;align-items: center;background-color: white;padding-right: 0.2em;padding-left: 0.2em;position: relative;}#sk-container-id-4 div.sk-item {position: relative;z-index: 1;}#sk-container-id-4 div.sk-parallel {display: flex;align-items: stretch;justify-content: center;background-color: white;position: relative;}#sk-container-id-4 div.sk-item::before, #sk-container-id-4 div.sk-parallel-item::before {content: \"\";position: absolute;border-left: 1px solid gray;box-sizing: border-box;top: 0;bottom: 0;left: 50%;z-index: -1;}#sk-container-id-4 div.sk-parallel-item {display: flex;flex-direction: column;z-index: 1;position: relative;background-color: white;}#sk-container-id-4 div.sk-parallel-item:first-child::after {align-self: flex-end;width: 50%;}#sk-container-id-4 div.sk-parallel-item:last-child::after {align-self: flex-start;width: 50%;}#sk-container-id-4 div.sk-parallel-item:only-child::after {width: 0;}#sk-container-id-4 div.sk-dashed-wrapped {border: 1px dashed gray;margin: 0 0.4em 0.5em 0.4em;box-sizing: border-box;padding-bottom: 0.4em;background-color: white;}#sk-container-id-4 div.sk-label label {font-family: monospace;font-weight: bold;display: inline-block;line-height: 1.2em;}#sk-container-id-4 div.sk-label-container {text-align: center;}#sk-container-id-4 div.sk-container {/* jupyter's `normalize.less` sets `[hidden] { display: none; }` but bootstrap.min.css set `[hidden] { display: none !important; }` so we also need the `!important` here to be able to override the default hidden behavior on the sphinx rendered scikit-learn.org. See: https://github.com/scikit-learn/scikit-learn/issues/21755 */display: inline-block !important;position: relative;}#sk-container-id-4 div.sk-text-repr-fallback {display: none;}</style><div id=\"sk-container-id-4\" class=\"sk-top-container\"><div class=\"sk-text-repr-fallback\"><pre>XGBClassifier(base_score=None, booster=None, callbacks=None,\n",
       "              colsample_bylevel=None, colsample_bynode=None,\n",
       "              colsample_bytree=None, early_stopping_rounds=None,\n",
       "              enable_categorical=False, eval_metric=None, feature_types=None,\n",
       "              gamma=None, gpu_id=None, grow_policy=None, importance_type=None,\n",
       "              interaction_constraints=None, learning_rate=None, max_bin=None,\n",
       "              max_cat_threshold=None, max_cat_to_onehot=None,\n",
       "              max_delta_step=None, max_depth=None, max_leaves=None,\n",
       "              min_child_weight=None, missing=nan, monotone_constraints=None,\n",
       "              n_estimators=100, n_jobs=None, num_parallel_tree=None,\n",
       "              objective=&#x27;multi:softprob&#x27;, predictor=None, ...)</pre><b>In a Jupyter environment, please rerun this cell to show the HTML representation or trust the notebook. <br />On GitHub, the HTML representation is unable to render, please try loading this page with nbviewer.org.</b></div><div class=\"sk-container\" hidden><div class=\"sk-item\"><div class=\"sk-estimator sk-toggleable\"><input class=\"sk-toggleable__control sk-hidden--visually\" id=\"sk-estimator-id-4\" type=\"checkbox\" checked><label for=\"sk-estimator-id-4\" class=\"sk-toggleable__label sk-toggleable__label-arrow\">XGBClassifier</label><div class=\"sk-toggleable__content\"><pre>XGBClassifier(base_score=None, booster=None, callbacks=None,\n",
       "              colsample_bylevel=None, colsample_bynode=None,\n",
       "              colsample_bytree=None, early_stopping_rounds=None,\n",
       "              enable_categorical=False, eval_metric=None, feature_types=None,\n",
       "              gamma=None, gpu_id=None, grow_policy=None, importance_type=None,\n",
       "              interaction_constraints=None, learning_rate=None, max_bin=None,\n",
       "              max_cat_threshold=None, max_cat_to_onehot=None,\n",
       "              max_delta_step=None, max_depth=None, max_leaves=None,\n",
       "              min_child_weight=None, missing=nan, monotone_constraints=None,\n",
       "              n_estimators=100, n_jobs=None, num_parallel_tree=None,\n",
       "              objective=&#x27;multi:softprob&#x27;, predictor=None, ...)</pre></div></div></div></div></div>"
      ],
      "text/plain": [
       "XGBClassifier(base_score=None, booster=None, callbacks=None,\n",
       "              colsample_bylevel=None, colsample_bynode=None,\n",
       "              colsample_bytree=None, early_stopping_rounds=None,\n",
       "              enable_categorical=False, eval_metric=None, feature_types=None,\n",
       "              gamma=None, gpu_id=None, grow_policy=None, importance_type=None,\n",
       "              interaction_constraints=None, learning_rate=None, max_bin=None,\n",
       "              max_cat_threshold=None, max_cat_to_onehot=None,\n",
       "              max_delta_step=None, max_depth=None, max_leaves=None,\n",
       "              min_child_weight=None, missing=nan, monotone_constraints=None,\n",
       "              n_estimators=100, n_jobs=None, num_parallel_tree=None,\n",
       "              objective='multi:softprob', predictor=None, ...)"
      ]
     },
     "execution_count": 55,
     "metadata": {},
     "output_type": "execute_result"
    }
   ],
   "source": [
    "clf_sec = XGBClassifier(random_state=42)\n",
    "clf_sec.fit(X_train_2, y_train_2, early_stopping_rounds=10, \n",
    "        eval_set=[(X_test_2, y_test_2)])"
   ]
  },
  {
   "cell_type": "code",
   "execution_count": 56,
   "id": "9f5bd825",
   "metadata": {},
   "outputs": [],
   "source": [
    "y_pred_test = clf_sec.predict(X_test_2)\n",
    "y_pred_train = clf_sec.predict(X_train_2)"
   ]
  },
  {
   "cell_type": "code",
   "execution_count": 57,
   "id": "c12ffa19",
   "metadata": {},
   "outputs": [],
   "source": [
    "pred_test_str = map_numbers_to_categories(y_pred_test, inverted_mapping_sec)\n",
    "pred_train_str = map_numbers_to_categories(y_pred_train, inverted_mapping_sec)"
   ]
  },
  {
   "cell_type": "code",
   "execution_count": 58,
   "id": "8c33b1fa",
   "metadata": {},
   "outputs": [
    {
     "name": "stdout",
     "output_type": "stream",
     "text": [
      "Accuracy Test: 0.9318556944116954\n",
      "Accuracy Train: 0.9611958287481004\n"
     ]
    }
   ],
   "source": [
    "# Evaluate accuracy\n",
    "accuracy_test = accuracy_score(y_test_2.to_list(), y_pred_test)\n",
    "accuracy_train = accuracy_score(y_train_2.to_list(), y_pred_train)\n",
    "print(\"Accuracy Test:\", accuracy_test)\n",
    "print(\"Accuracy Train:\", accuracy_train)"
   ]
  },
  {
   "cell_type": "code",
   "execution_count": 59,
   "id": "2d06100e",
   "metadata": {},
   "outputs": [
    {
     "name": "stdout",
     "output_type": "stream",
     "text": [
      "Classification Report:\n",
      "              precision    recall  f1-score   support\n",
      "\n",
      "           0       0.96      0.96      0.96      1248\n",
      "           1       0.84      0.71      0.77       133\n",
      "           2       0.93      0.97      0.95      1522\n",
      "           3       0.80      0.71      0.76       298\n",
      "           4       0.95      0.99      0.97       332\n",
      "           5       0.80      0.75      0.77       138\n",
      "           6       1.00      1.00      1.00         2\n",
      "           7       0.79      0.75      0.77        20\n",
      "           8       0.98      0.97      0.98       533\n",
      "           9       1.00      1.00      1.00         5\n",
      "          10       0.75      0.75      0.75         4\n",
      "          11       0.00      0.00      0.00         1\n",
      "          13       1.00      0.60      0.75         5\n",
      "\n",
      "    accuracy                           0.93      4241\n",
      "   macro avg       0.83      0.78      0.80      4241\n",
      "weighted avg       0.93      0.93      0.93      4241\n",
      "\n"
     ]
    },
    {
     "name": "stderr",
     "output_type": "stream",
     "text": [
      "/Users/enderson.santos/anaconda3/lib/python3.10/site-packages/sklearn/metrics/_classification.py:1344: UndefinedMetricWarning: Precision and F-score are ill-defined and being set to 0.0 in labels with no predicted samples. Use `zero_division` parameter to control this behavior.\n",
      "  _warn_prf(average, modifier, msg_start, len(result))\n",
      "/Users/enderson.santos/anaconda3/lib/python3.10/site-packages/sklearn/metrics/_classification.py:1344: UndefinedMetricWarning: Precision and F-score are ill-defined and being set to 0.0 in labels with no predicted samples. Use `zero_division` parameter to control this behavior.\n",
      "  _warn_prf(average, modifier, msg_start, len(result))\n",
      "/Users/enderson.santos/anaconda3/lib/python3.10/site-packages/sklearn/metrics/_classification.py:1344: UndefinedMetricWarning: Precision and F-score are ill-defined and being set to 0.0 in labels with no predicted samples. Use `zero_division` parameter to control this behavior.\n",
      "  _warn_prf(average, modifier, msg_start, len(result))\n"
     ]
    }
   ],
   "source": [
    "print(\"Classification Report:\")\n",
    "print(classification_report(y_test_2.to_list(), y_pred_test))"
   ]
  },
  {
   "cell_type": "markdown",
   "id": "afb06da3",
   "metadata": {},
   "source": [
    "# Adding More Features"
   ]
  },
  {
   "cell_type": "code",
   "execution_count": 60,
   "id": "a371a5e2",
   "metadata": {},
   "outputs": [],
   "source": [
    "new_features = [\"TipoInformacao\", \"TipoInstrumento\", \"MaturidadeOriginal\"]\n",
    "df_to_get_dummies = df_clean[new_features]\n",
    "dummies = pd.get_dummies(df_to_get_dummies)\n",
    "\n",
    "new_df_to_train = pd.concat([embed_data, dummies], axis=1)"
   ]
  },
  {
   "cell_type": "code",
   "execution_count": 61,
   "id": "b508efd3",
   "metadata": {},
   "outputs": [],
   "source": [
    "# Stratified split with 'TerritorioCon' as the stratification factor\n",
    "#df_train, df_test = train_test_split(embed_data, test_size=0.2, random_state=42)\n",
    "X_train_1, X_test_1, y_train_1, y_test_1 = train_test_split(new_df_to_train, y1, test_size=0.1, random_state=41)\n",
    "X_train_2, X_test_2, y_train_2, y_test_2 = train_test_split(new_df_to_train, y2, test_size=0.1, random_state=41)"
   ]
  },
  {
   "cell_type": "markdown",
   "id": "d624341d",
   "metadata": {},
   "source": [
    "# Train "
   ]
  },
  {
   "cell_type": "markdown",
   "id": "49976b1f",
   "metadata": {},
   "source": [
    "## Train the Model Territorio"
   ]
  },
  {
   "cell_type": "code",
   "execution_count": 62,
   "id": "9e4820e7",
   "metadata": {},
   "outputs": [
    {
     "name": "stderr",
     "output_type": "stream",
     "text": [
      "/Users/enderson.santos/anaconda3/lib/python3.10/site-packages/xgboost/sklearn.py:835: UserWarning: `early_stopping_rounds` in `fit` method is deprecated for better compatibility with scikit-learn, use `early_stopping_rounds` in constructor or`set_params` instead.\n",
      "  warnings.warn(\n"
     ]
    },
    {
     "name": "stdout",
     "output_type": "stream",
     "text": [
      "[0]\tvalidation_0-mlogloss:2.05335\n",
      "[1]\tvalidation_0-mlogloss:4.17862\n",
      "[2]\tvalidation_0-mlogloss:1.92321\n",
      "[3]\tvalidation_0-mlogloss:1.78229\n",
      "[4]\tvalidation_0-mlogloss:1.78718\n",
      "[5]\tvalidation_0-mlogloss:1.61107\n",
      "[6]\tvalidation_0-mlogloss:1.54960\n",
      "[7]\tvalidation_0-mlogloss:1.44530\n",
      "[8]\tvalidation_0-mlogloss:1.39426\n",
      "[9]\tvalidation_0-mlogloss:1.36035\n",
      "[10]\tvalidation_0-mlogloss:1.32658\n",
      "[11]\tvalidation_0-mlogloss:1.30044\n",
      "[12]\tvalidation_0-mlogloss:1.28253\n",
      "[13]\tvalidation_0-mlogloss:1.27907\n",
      "[14]\tvalidation_0-mlogloss:1.24767\n",
      "[15]\tvalidation_0-mlogloss:1.22779\n",
      "[16]\tvalidation_0-mlogloss:1.21329\n",
      "[17]\tvalidation_0-mlogloss:1.21376\n",
      "[18]\tvalidation_0-mlogloss:1.22120\n",
      "[19]\tvalidation_0-mlogloss:1.21425\n",
      "[20]\tvalidation_0-mlogloss:1.20189\n",
      "[21]\tvalidation_0-mlogloss:1.18621\n",
      "[22]\tvalidation_0-mlogloss:1.17919\n",
      "[23]\tvalidation_0-mlogloss:1.15385\n",
      "[24]\tvalidation_0-mlogloss:1.14404\n",
      "[25]\tvalidation_0-mlogloss:1.13033\n",
      "[26]\tvalidation_0-mlogloss:1.11902\n",
      "[27]\tvalidation_0-mlogloss:1.11353\n",
      "[28]\tvalidation_0-mlogloss:1.11345\n",
      "[29]\tvalidation_0-mlogloss:1.09470\n",
      "[30]\tvalidation_0-mlogloss:1.08433\n",
      "[31]\tvalidation_0-mlogloss:1.15371\n",
      "[32]\tvalidation_0-mlogloss:1.05036\n",
      "[33]\tvalidation_0-mlogloss:1.03778\n",
      "[34]\tvalidation_0-mlogloss:1.02921\n",
      "[35]\tvalidation_0-mlogloss:1.01444\n",
      "[36]\tvalidation_0-mlogloss:1.00556\n",
      "[37]\tvalidation_0-mlogloss:0.99472\n",
      "[38]\tvalidation_0-mlogloss:0.98695\n",
      "[39]\tvalidation_0-mlogloss:0.97658\n",
      "[40]\tvalidation_0-mlogloss:0.96126\n",
      "[41]\tvalidation_0-mlogloss:0.94530\n",
      "[42]\tvalidation_0-mlogloss:0.93891\n",
      "[43]\tvalidation_0-mlogloss:0.92204\n",
      "[44]\tvalidation_0-mlogloss:0.89509\n",
      "[45]\tvalidation_0-mlogloss:0.87843\n",
      "[46]\tvalidation_0-mlogloss:0.87242\n",
      "[47]\tvalidation_0-mlogloss:0.86262\n",
      "[48]\tvalidation_0-mlogloss:0.85858\n",
      "[49]\tvalidation_0-mlogloss:0.85567\n",
      "[50]\tvalidation_0-mlogloss:0.85100\n",
      "[51]\tvalidation_0-mlogloss:0.84857\n",
      "[52]\tvalidation_0-mlogloss:0.84397\n",
      "[53]\tvalidation_0-mlogloss:0.83897\n",
      "[54]\tvalidation_0-mlogloss:0.83498\n",
      "[55]\tvalidation_0-mlogloss:0.82767\n",
      "[56]\tvalidation_0-mlogloss:0.82276\n",
      "[57]\tvalidation_0-mlogloss:0.81897\n",
      "[58]\tvalidation_0-mlogloss:0.81473\n",
      "[59]\tvalidation_0-mlogloss:0.81304\n",
      "[60]\tvalidation_0-mlogloss:0.80802\n",
      "[61]\tvalidation_0-mlogloss:0.80233\n",
      "[62]\tvalidation_0-mlogloss:0.79885\n",
      "[63]\tvalidation_0-mlogloss:0.79642\n",
      "[64]\tvalidation_0-mlogloss:0.79357\n",
      "[65]\tvalidation_0-mlogloss:0.78678\n",
      "[66]\tvalidation_0-mlogloss:0.77936\n",
      "[67]\tvalidation_0-mlogloss:0.78339\n",
      "[68]\tvalidation_0-mlogloss:0.78202\n",
      "[69]\tvalidation_0-mlogloss:0.77861\n",
      "[70]\tvalidation_0-mlogloss:0.77528\n",
      "[71]\tvalidation_0-mlogloss:0.76965\n",
      "[72]\tvalidation_0-mlogloss:0.76322\n",
      "[73]\tvalidation_0-mlogloss:0.75212\n",
      "[74]\tvalidation_0-mlogloss:0.74156\n",
      "[75]\tvalidation_0-mlogloss:0.72231\n",
      "[76]\tvalidation_0-mlogloss:0.70189\n",
      "[77]\tvalidation_0-mlogloss:0.68602\n",
      "[78]\tvalidation_0-mlogloss:0.67757\n",
      "[79]\tvalidation_0-mlogloss:0.66619\n",
      "[80]\tvalidation_0-mlogloss:0.66148\n",
      "[81]\tvalidation_0-mlogloss:0.66227\n",
      "[82]\tvalidation_0-mlogloss:0.64928\n",
      "[83]\tvalidation_0-mlogloss:0.64285\n",
      "[84]\tvalidation_0-mlogloss:0.63880\n",
      "[85]\tvalidation_0-mlogloss:0.63314\n",
      "[86]\tvalidation_0-mlogloss:0.63034\n",
      "[87]\tvalidation_0-mlogloss:0.62752\n",
      "[88]\tvalidation_0-mlogloss:0.62355\n",
      "[89]\tvalidation_0-mlogloss:0.61928\n",
      "[90]\tvalidation_0-mlogloss:0.61279\n",
      "[91]\tvalidation_0-mlogloss:0.60630\n",
      "[92]\tvalidation_0-mlogloss:0.60225\n",
      "[93]\tvalidation_0-mlogloss:0.59890\n",
      "[94]\tvalidation_0-mlogloss:0.59706\n",
      "[95]\tvalidation_0-mlogloss:0.59414\n",
      "[96]\tvalidation_0-mlogloss:0.59013\n",
      "[97]\tvalidation_0-mlogloss:0.58717\n",
      "[98]\tvalidation_0-mlogloss:0.58509\n",
      "[99]\tvalidation_0-mlogloss:0.58271\n"
     ]
    },
    {
     "data": {
      "text/html": [
       "<style>#sk-container-id-5 {color: black;background-color: white;}#sk-container-id-5 pre{padding: 0;}#sk-container-id-5 div.sk-toggleable {background-color: white;}#sk-container-id-5 label.sk-toggleable__label {cursor: pointer;display: block;width: 100%;margin-bottom: 0;padding: 0.3em;box-sizing: border-box;text-align: center;}#sk-container-id-5 label.sk-toggleable__label-arrow:before {content: \"▸\";float: left;margin-right: 0.25em;color: #696969;}#sk-container-id-5 label.sk-toggleable__label-arrow:hover:before {color: black;}#sk-container-id-5 div.sk-estimator:hover label.sk-toggleable__label-arrow:before {color: black;}#sk-container-id-5 div.sk-toggleable__content {max-height: 0;max-width: 0;overflow: hidden;text-align: left;background-color: #f0f8ff;}#sk-container-id-5 div.sk-toggleable__content pre {margin: 0.2em;color: black;border-radius: 0.25em;background-color: #f0f8ff;}#sk-container-id-5 input.sk-toggleable__control:checked~div.sk-toggleable__content {max-height: 200px;max-width: 100%;overflow: auto;}#sk-container-id-5 input.sk-toggleable__control:checked~label.sk-toggleable__label-arrow:before {content: \"▾\";}#sk-container-id-5 div.sk-estimator input.sk-toggleable__control:checked~label.sk-toggleable__label {background-color: #d4ebff;}#sk-container-id-5 div.sk-label input.sk-toggleable__control:checked~label.sk-toggleable__label {background-color: #d4ebff;}#sk-container-id-5 input.sk-hidden--visually {border: 0;clip: rect(1px 1px 1px 1px);clip: rect(1px, 1px, 1px, 1px);height: 1px;margin: -1px;overflow: hidden;padding: 0;position: absolute;width: 1px;}#sk-container-id-5 div.sk-estimator {font-family: monospace;background-color: #f0f8ff;border: 1px dotted black;border-radius: 0.25em;box-sizing: border-box;margin-bottom: 0.5em;}#sk-container-id-5 div.sk-estimator:hover {background-color: #d4ebff;}#sk-container-id-5 div.sk-parallel-item::after {content: \"\";width: 100%;border-bottom: 1px solid gray;flex-grow: 1;}#sk-container-id-5 div.sk-label:hover label.sk-toggleable__label {background-color: #d4ebff;}#sk-container-id-5 div.sk-serial::before {content: \"\";position: absolute;border-left: 1px solid gray;box-sizing: border-box;top: 0;bottom: 0;left: 50%;z-index: 0;}#sk-container-id-5 div.sk-serial {display: flex;flex-direction: column;align-items: center;background-color: white;padding-right: 0.2em;padding-left: 0.2em;position: relative;}#sk-container-id-5 div.sk-item {position: relative;z-index: 1;}#sk-container-id-5 div.sk-parallel {display: flex;align-items: stretch;justify-content: center;background-color: white;position: relative;}#sk-container-id-5 div.sk-item::before, #sk-container-id-5 div.sk-parallel-item::before {content: \"\";position: absolute;border-left: 1px solid gray;box-sizing: border-box;top: 0;bottom: 0;left: 50%;z-index: -1;}#sk-container-id-5 div.sk-parallel-item {display: flex;flex-direction: column;z-index: 1;position: relative;background-color: white;}#sk-container-id-5 div.sk-parallel-item:first-child::after {align-self: flex-end;width: 50%;}#sk-container-id-5 div.sk-parallel-item:last-child::after {align-self: flex-start;width: 50%;}#sk-container-id-5 div.sk-parallel-item:only-child::after {width: 0;}#sk-container-id-5 div.sk-dashed-wrapped {border: 1px dashed gray;margin: 0 0.4em 0.5em 0.4em;box-sizing: border-box;padding-bottom: 0.4em;background-color: white;}#sk-container-id-5 div.sk-label label {font-family: monospace;font-weight: bold;display: inline-block;line-height: 1.2em;}#sk-container-id-5 div.sk-label-container {text-align: center;}#sk-container-id-5 div.sk-container {/* jupyter's `normalize.less` sets `[hidden] { display: none; }` but bootstrap.min.css set `[hidden] { display: none !important; }` so we also need the `!important` here to be able to override the default hidden behavior on the sphinx rendered scikit-learn.org. See: https://github.com/scikit-learn/scikit-learn/issues/21755 */display: inline-block !important;position: relative;}#sk-container-id-5 div.sk-text-repr-fallback {display: none;}</style><div id=\"sk-container-id-5\" class=\"sk-top-container\"><div class=\"sk-text-repr-fallback\"><pre>XGBClassifier(base_score=None, booster=None, callbacks=None,\n",
       "              colsample_bylevel=None, colsample_bynode=None,\n",
       "              colsample_bytree=None, early_stopping_rounds=None,\n",
       "              enable_categorical=False, eval_metric=None, feature_types=None,\n",
       "              gamma=None, gpu_id=None, grow_policy=None, importance_type=None,\n",
       "              interaction_constraints=None, learning_rate=None, max_bin=None,\n",
       "              max_cat_threshold=None, max_cat_to_onehot=None,\n",
       "              max_delta_step=None, max_depth=4, max_leaves=None,\n",
       "              min_child_weight=None, missing=nan, monotone_constraints=None,\n",
       "              n_estimators=100, n_jobs=None, num_parallel_tree=None,\n",
       "              objective=&#x27;multi:softprob&#x27;, predictor=None, ...)</pre><b>In a Jupyter environment, please rerun this cell to show the HTML representation or trust the notebook. <br />On GitHub, the HTML representation is unable to render, please try loading this page with nbviewer.org.</b></div><div class=\"sk-container\" hidden><div class=\"sk-item\"><div class=\"sk-estimator sk-toggleable\"><input class=\"sk-toggleable__control sk-hidden--visually\" id=\"sk-estimator-id-5\" type=\"checkbox\" checked><label for=\"sk-estimator-id-5\" class=\"sk-toggleable__label sk-toggleable__label-arrow\">XGBClassifier</label><div class=\"sk-toggleable__content\"><pre>XGBClassifier(base_score=None, booster=None, callbacks=None,\n",
       "              colsample_bylevel=None, colsample_bynode=None,\n",
       "              colsample_bytree=None, early_stopping_rounds=None,\n",
       "              enable_categorical=False, eval_metric=None, feature_types=None,\n",
       "              gamma=None, gpu_id=None, grow_policy=None, importance_type=None,\n",
       "              interaction_constraints=None, learning_rate=None, max_bin=None,\n",
       "              max_cat_threshold=None, max_cat_to_onehot=None,\n",
       "              max_delta_step=None, max_depth=4, max_leaves=None,\n",
       "              min_child_weight=None, missing=nan, monotone_constraints=None,\n",
       "              n_estimators=100, n_jobs=None, num_parallel_tree=None,\n",
       "              objective=&#x27;multi:softprob&#x27;, predictor=None, ...)</pre></div></div></div></div></div>"
      ],
      "text/plain": [
       "XGBClassifier(base_score=None, booster=None, callbacks=None,\n",
       "              colsample_bylevel=None, colsample_bynode=None,\n",
       "              colsample_bytree=None, early_stopping_rounds=None,\n",
       "              enable_categorical=False, eval_metric=None, feature_types=None,\n",
       "              gamma=None, gpu_id=None, grow_policy=None, importance_type=None,\n",
       "              interaction_constraints=None, learning_rate=None, max_bin=None,\n",
       "              max_cat_threshold=None, max_cat_to_onehot=None,\n",
       "              max_delta_step=None, max_depth=4, max_leaves=None,\n",
       "              min_child_weight=None, missing=nan, monotone_constraints=None,\n",
       "              n_estimators=100, n_jobs=None, num_parallel_tree=None,\n",
       "              objective='multi:softprob', predictor=None, ...)"
      ]
     },
     "execution_count": 62,
     "metadata": {},
     "output_type": "execute_result"
    }
   ],
   "source": [
    "clf_ter = XGBClassifier(random_state=42, max_depth=4)\n",
    "clf_ter.fit(X_train_1, y_train_1, early_stopping_rounds=10, \n",
    "        eval_set=[(X_test_1, y_test_1)])"
   ]
  },
  {
   "cell_type": "markdown",
   "id": "28084e91",
   "metadata": {},
   "source": [
    "## Evaluate "
   ]
  },
  {
   "cell_type": "code",
   "execution_count": 63,
   "id": "2de5ba67",
   "metadata": {},
   "outputs": [],
   "source": [
    "y_pred_test = clf_ter.predict(X_test_1)\n",
    "y_pred_train = clf_ter.predict(X_train_1)"
   ]
  },
  {
   "cell_type": "code",
   "execution_count": 64,
   "id": "4588a3cb",
   "metadata": {},
   "outputs": [],
   "source": [
    "pred_test_str = map_numbers_to_categories(y_pred_test, inverted_mapping_ter)\n",
    "pred_train_str = map_numbers_to_categories(y_pred_train, inverted_mapping_ter)"
   ]
  },
  {
   "cell_type": "code",
   "execution_count": 65,
   "id": "e3af9e4e",
   "metadata": {},
   "outputs": [
    {
     "name": "stdout",
     "output_type": "stream",
     "text": [
      "Accuracy Test: 0.8922423956614006\n",
      "Accuracy Train: 0.9303306607975685\n"
     ]
    }
   ],
   "source": [
    "# Evaluate accuracy\n",
    "accuracy_test = accuracy_score(y_test_1.to_list(), y_pred_test)\n",
    "accuracy_train = accuracy_score(y_train_1.to_list(), y_pred_train)\n",
    "print(\"Accuracy Test:\", accuracy_test)\n",
    "print(\"Accuracy Train:\", accuracy_train)"
   ]
  },
  {
   "cell_type": "code",
   "execution_count": 66,
   "id": "e739612b",
   "metadata": {},
   "outputs": [
    {
     "name": "stdout",
     "output_type": "stream",
     "text": [
      "Classification Report:\n",
      "              precision    recall  f1-score   support\n",
      "\n",
      "           0       0.92      0.92      0.92      1277\n",
      "           1       0.89      0.93      0.91       533\n",
      "           2       0.87      0.84      0.85       231\n",
      "           3       0.70      0.78      0.74       283\n",
      "           4       0.90      0.86      0.88       260\n",
      "           5       0.87      0.87      0.87       339\n",
      "           6       0.89      0.87      0.88       171\n",
      "           7       0.96      0.96      0.96        23\n",
      "           8       1.00      0.85      0.92        27\n",
      "           9       0.87      0.95      0.91        56\n",
      "          10       1.00      0.91      0.95        32\n",
      "          11       0.86      0.88      0.87       326\n",
      "          12       0.90      0.91      0.90       201\n",
      "          13       0.97      0.97      0.97       161\n",
      "          14       1.00      0.95      0.97        37\n",
      "          15       1.00      0.94      0.97        53\n",
      "          16       1.00      0.85      0.92        13\n",
      "          17       1.00      1.00      1.00         5\n",
      "          18       1.00      1.00      1.00        10\n",
      "          19       1.00      1.00      1.00        31\n",
      "          20       1.00      0.83      0.91         6\n",
      "          21       0.94      0.97      0.96        33\n",
      "          22       1.00      0.90      0.95        21\n",
      "          23       1.00      0.81      0.90        16\n",
      "          25       0.00      0.00      0.00         1\n",
      "          26       1.00      1.00      1.00         2\n",
      "          27       0.75      0.50      0.60        18\n",
      "          28       1.00      1.00      1.00         1\n",
      "          29       1.00      1.00      1.00         5\n",
      "          30       1.00      1.00      1.00         1\n",
      "          31       1.00      0.50      0.67         2\n",
      "          32       1.00      1.00      1.00         2\n",
      "          33       1.00      0.91      0.95        11\n",
      "          36       1.00      1.00      1.00         9\n",
      "          38       1.00      1.00      1.00         1\n",
      "          39       1.00      1.00      1.00         1\n",
      "          41       1.00      0.50      0.67         4\n",
      "          43       0.00      0.00      0.00         1\n",
      "          45       1.00      1.00      1.00         3\n",
      "          46       1.00      1.00      1.00         1\n",
      "          49       1.00      0.33      0.50         6\n",
      "          52       1.00      0.71      0.83         7\n",
      "          55       1.00      0.50      0.67         6\n",
      "          59       0.00      0.00      0.00         1\n",
      "          61       0.00      0.00      0.00         1\n",
      "          62       0.00      0.00      0.00         1\n",
      "          63       1.00      1.00      1.00         1\n",
      "          64       1.00      1.00      1.00         2\n",
      "          66       1.00      1.00      1.00         1\n",
      "          67       1.00      1.00      1.00         1\n",
      "          69       1.00      1.00      1.00         2\n",
      "          75       0.00      0.00      0.00         1\n",
      "          81       1.00      1.00      1.00         1\n",
      "          82       0.00      0.00      0.00         2\n",
      "\n",
      "    accuracy                           0.89      4241\n",
      "   macro avg       0.84      0.77      0.80      4241\n",
      "weighted avg       0.89      0.89      0.89      4241\n",
      "\n"
     ]
    },
    {
     "name": "stderr",
     "output_type": "stream",
     "text": [
      "/Users/enderson.santos/anaconda3/lib/python3.10/site-packages/sklearn/metrics/_classification.py:1344: UndefinedMetricWarning: Precision and F-score are ill-defined and being set to 0.0 in labels with no predicted samples. Use `zero_division` parameter to control this behavior.\n",
      "  _warn_prf(average, modifier, msg_start, len(result))\n",
      "/Users/enderson.santos/anaconda3/lib/python3.10/site-packages/sklearn/metrics/_classification.py:1344: UndefinedMetricWarning: Precision and F-score are ill-defined and being set to 0.0 in labels with no predicted samples. Use `zero_division` parameter to control this behavior.\n",
      "  _warn_prf(average, modifier, msg_start, len(result))\n",
      "/Users/enderson.santos/anaconda3/lib/python3.10/site-packages/sklearn/metrics/_classification.py:1344: UndefinedMetricWarning: Precision and F-score are ill-defined and being set to 0.0 in labels with no predicted samples. Use `zero_division` parameter to control this behavior.\n",
      "  _warn_prf(average, modifier, msg_start, len(result))\n"
     ]
    }
   ],
   "source": [
    "print(\"Classification Report:\")\n",
    "print(classification_report(y_test_1.to_list(), y_pred_test))"
   ]
  },
  {
   "cell_type": "markdown",
   "id": "5de49961",
   "metadata": {},
   "source": [
    "## Train Model Sector"
   ]
  },
  {
   "cell_type": "code",
   "execution_count": 67,
   "id": "b89ea09d",
   "metadata": {},
   "outputs": [
    {
     "name": "stderr",
     "output_type": "stream",
     "text": [
      "/Users/enderson.santos/anaconda3/lib/python3.10/site-packages/xgboost/sklearn.py:835: UserWarning: `early_stopping_rounds` in `fit` method is deprecated for better compatibility with scikit-learn, use `early_stopping_rounds` in constructor or`set_params` instead.\n",
      "  warnings.warn(\n"
     ]
    },
    {
     "name": "stdout",
     "output_type": "stream",
     "text": [
      "[0]\tvalidation_0-mlogloss:1.48332\n",
      "[1]\tvalidation_0-mlogloss:1.18085\n",
      "[2]\tvalidation_0-mlogloss:0.99302\n",
      "[3]\tvalidation_0-mlogloss:0.85817\n",
      "[4]\tvalidation_0-mlogloss:0.76103\n",
      "[5]\tvalidation_0-mlogloss:0.68454\n",
      "[6]\tvalidation_0-mlogloss:0.62241\n",
      "[7]\tvalidation_0-mlogloss:0.57389\n",
      "[8]\tvalidation_0-mlogloss:0.53241\n",
      "[9]\tvalidation_0-mlogloss:0.50109\n",
      "[10]\tvalidation_0-mlogloss:0.47669\n",
      "[11]\tvalidation_0-mlogloss:0.45674\n",
      "[12]\tvalidation_0-mlogloss:0.43698\n",
      "[13]\tvalidation_0-mlogloss:0.42201\n",
      "[14]\tvalidation_0-mlogloss:0.40803\n",
      "[15]\tvalidation_0-mlogloss:0.39380\n",
      "[16]\tvalidation_0-mlogloss:0.38097\n",
      "[17]\tvalidation_0-mlogloss:0.36940\n",
      "[18]\tvalidation_0-mlogloss:0.35914\n",
      "[19]\tvalidation_0-mlogloss:0.35139\n",
      "[20]\tvalidation_0-mlogloss:0.34465\n",
      "[21]\tvalidation_0-mlogloss:0.33679\n",
      "[22]\tvalidation_0-mlogloss:0.32559\n",
      "[23]\tvalidation_0-mlogloss:0.31869\n",
      "[24]\tvalidation_0-mlogloss:0.31226\n",
      "[25]\tvalidation_0-mlogloss:0.30598\n",
      "[26]\tvalidation_0-mlogloss:0.30258\n",
      "[27]\tvalidation_0-mlogloss:0.29619\n",
      "[28]\tvalidation_0-mlogloss:0.29200\n",
      "[29]\tvalidation_0-mlogloss:0.28702\n",
      "[30]\tvalidation_0-mlogloss:0.28140\n",
      "[31]\tvalidation_0-mlogloss:0.27708\n",
      "[32]\tvalidation_0-mlogloss:0.27175\n",
      "[33]\tvalidation_0-mlogloss:0.26856\n",
      "[34]\tvalidation_0-mlogloss:0.26498\n",
      "[35]\tvalidation_0-mlogloss:0.26220\n",
      "[36]\tvalidation_0-mlogloss:0.26028\n",
      "[37]\tvalidation_0-mlogloss:0.25680\n",
      "[38]\tvalidation_0-mlogloss:0.25436\n",
      "[39]\tvalidation_0-mlogloss:0.25131\n",
      "[40]\tvalidation_0-mlogloss:0.24767\n",
      "[41]\tvalidation_0-mlogloss:0.24539\n",
      "[42]\tvalidation_0-mlogloss:0.24352\n",
      "[43]\tvalidation_0-mlogloss:0.24088\n",
      "[44]\tvalidation_0-mlogloss:0.23830\n",
      "[45]\tvalidation_0-mlogloss:0.23579\n",
      "[46]\tvalidation_0-mlogloss:0.23340\n",
      "[47]\tvalidation_0-mlogloss:0.23102\n",
      "[48]\tvalidation_0-mlogloss:0.22816\n",
      "[49]\tvalidation_0-mlogloss:0.22605\n",
      "[50]\tvalidation_0-mlogloss:0.22489\n",
      "[51]\tvalidation_0-mlogloss:0.22315\n",
      "[52]\tvalidation_0-mlogloss:0.22134\n",
      "[53]\tvalidation_0-mlogloss:0.21965\n",
      "[54]\tvalidation_0-mlogloss:0.21686\n",
      "[55]\tvalidation_0-mlogloss:0.21502\n",
      "[56]\tvalidation_0-mlogloss:0.21425\n",
      "[57]\tvalidation_0-mlogloss:0.21318\n",
      "[58]\tvalidation_0-mlogloss:0.21179\n",
      "[59]\tvalidation_0-mlogloss:0.21120\n",
      "[60]\tvalidation_0-mlogloss:0.20938\n",
      "[61]\tvalidation_0-mlogloss:0.20812\n",
      "[62]\tvalidation_0-mlogloss:0.20676\n",
      "[63]\tvalidation_0-mlogloss:0.20601\n",
      "[64]\tvalidation_0-mlogloss:0.20550\n",
      "[65]\tvalidation_0-mlogloss:0.20446\n",
      "[66]\tvalidation_0-mlogloss:0.20304\n",
      "[67]\tvalidation_0-mlogloss:0.20170\n",
      "[68]\tvalidation_0-mlogloss:0.20015\n",
      "[69]\tvalidation_0-mlogloss:0.19906\n",
      "[70]\tvalidation_0-mlogloss:0.19787\n",
      "[71]\tvalidation_0-mlogloss:0.19680\n",
      "[72]\tvalidation_0-mlogloss:0.19628\n",
      "[73]\tvalidation_0-mlogloss:0.19543\n",
      "[74]\tvalidation_0-mlogloss:0.19416\n",
      "[75]\tvalidation_0-mlogloss:0.19362\n",
      "[76]\tvalidation_0-mlogloss:0.19302\n",
      "[77]\tvalidation_0-mlogloss:0.19231\n",
      "[78]\tvalidation_0-mlogloss:0.19170\n",
      "[79]\tvalidation_0-mlogloss:0.19117\n",
      "[80]\tvalidation_0-mlogloss:0.19072\n",
      "[81]\tvalidation_0-mlogloss:0.19004\n",
      "[82]\tvalidation_0-mlogloss:0.18925\n",
      "[83]\tvalidation_0-mlogloss:0.18820\n",
      "[84]\tvalidation_0-mlogloss:0.18789\n",
      "[85]\tvalidation_0-mlogloss:0.18778\n",
      "[86]\tvalidation_0-mlogloss:0.18697\n",
      "[87]\tvalidation_0-mlogloss:0.18625\n",
      "[88]\tvalidation_0-mlogloss:0.18574\n",
      "[89]\tvalidation_0-mlogloss:0.18487\n",
      "[90]\tvalidation_0-mlogloss:0.18384\n",
      "[91]\tvalidation_0-mlogloss:0.18339\n",
      "[92]\tvalidation_0-mlogloss:0.18270\n",
      "[93]\tvalidation_0-mlogloss:0.18223\n",
      "[94]\tvalidation_0-mlogloss:0.18188\n",
      "[95]\tvalidation_0-mlogloss:0.18145\n",
      "[96]\tvalidation_0-mlogloss:0.18105\n",
      "[97]\tvalidation_0-mlogloss:0.18031\n",
      "[98]\tvalidation_0-mlogloss:0.18018\n",
      "[99]\tvalidation_0-mlogloss:0.18012\n"
     ]
    },
    {
     "data": {
      "text/html": [
       "<style>#sk-container-id-6 {color: black;background-color: white;}#sk-container-id-6 pre{padding: 0;}#sk-container-id-6 div.sk-toggleable {background-color: white;}#sk-container-id-6 label.sk-toggleable__label {cursor: pointer;display: block;width: 100%;margin-bottom: 0;padding: 0.3em;box-sizing: border-box;text-align: center;}#sk-container-id-6 label.sk-toggleable__label-arrow:before {content: \"▸\";float: left;margin-right: 0.25em;color: #696969;}#sk-container-id-6 label.sk-toggleable__label-arrow:hover:before {color: black;}#sk-container-id-6 div.sk-estimator:hover label.sk-toggleable__label-arrow:before {color: black;}#sk-container-id-6 div.sk-toggleable__content {max-height: 0;max-width: 0;overflow: hidden;text-align: left;background-color: #f0f8ff;}#sk-container-id-6 div.sk-toggleable__content pre {margin: 0.2em;color: black;border-radius: 0.25em;background-color: #f0f8ff;}#sk-container-id-6 input.sk-toggleable__control:checked~div.sk-toggleable__content {max-height: 200px;max-width: 100%;overflow: auto;}#sk-container-id-6 input.sk-toggleable__control:checked~label.sk-toggleable__label-arrow:before {content: \"▾\";}#sk-container-id-6 div.sk-estimator input.sk-toggleable__control:checked~label.sk-toggleable__label {background-color: #d4ebff;}#sk-container-id-6 div.sk-label input.sk-toggleable__control:checked~label.sk-toggleable__label {background-color: #d4ebff;}#sk-container-id-6 input.sk-hidden--visually {border: 0;clip: rect(1px 1px 1px 1px);clip: rect(1px, 1px, 1px, 1px);height: 1px;margin: -1px;overflow: hidden;padding: 0;position: absolute;width: 1px;}#sk-container-id-6 div.sk-estimator {font-family: monospace;background-color: #f0f8ff;border: 1px dotted black;border-radius: 0.25em;box-sizing: border-box;margin-bottom: 0.5em;}#sk-container-id-6 div.sk-estimator:hover {background-color: #d4ebff;}#sk-container-id-6 div.sk-parallel-item::after {content: \"\";width: 100%;border-bottom: 1px solid gray;flex-grow: 1;}#sk-container-id-6 div.sk-label:hover label.sk-toggleable__label {background-color: #d4ebff;}#sk-container-id-6 div.sk-serial::before {content: \"\";position: absolute;border-left: 1px solid gray;box-sizing: border-box;top: 0;bottom: 0;left: 50%;z-index: 0;}#sk-container-id-6 div.sk-serial {display: flex;flex-direction: column;align-items: center;background-color: white;padding-right: 0.2em;padding-left: 0.2em;position: relative;}#sk-container-id-6 div.sk-item {position: relative;z-index: 1;}#sk-container-id-6 div.sk-parallel {display: flex;align-items: stretch;justify-content: center;background-color: white;position: relative;}#sk-container-id-6 div.sk-item::before, #sk-container-id-6 div.sk-parallel-item::before {content: \"\";position: absolute;border-left: 1px solid gray;box-sizing: border-box;top: 0;bottom: 0;left: 50%;z-index: -1;}#sk-container-id-6 div.sk-parallel-item {display: flex;flex-direction: column;z-index: 1;position: relative;background-color: white;}#sk-container-id-6 div.sk-parallel-item:first-child::after {align-self: flex-end;width: 50%;}#sk-container-id-6 div.sk-parallel-item:last-child::after {align-self: flex-start;width: 50%;}#sk-container-id-6 div.sk-parallel-item:only-child::after {width: 0;}#sk-container-id-6 div.sk-dashed-wrapped {border: 1px dashed gray;margin: 0 0.4em 0.5em 0.4em;box-sizing: border-box;padding-bottom: 0.4em;background-color: white;}#sk-container-id-6 div.sk-label label {font-family: monospace;font-weight: bold;display: inline-block;line-height: 1.2em;}#sk-container-id-6 div.sk-label-container {text-align: center;}#sk-container-id-6 div.sk-container {/* jupyter's `normalize.less` sets `[hidden] { display: none; }` but bootstrap.min.css set `[hidden] { display: none !important; }` so we also need the `!important` here to be able to override the default hidden behavior on the sphinx rendered scikit-learn.org. See: https://github.com/scikit-learn/scikit-learn/issues/21755 */display: inline-block !important;position: relative;}#sk-container-id-6 div.sk-text-repr-fallback {display: none;}</style><div id=\"sk-container-id-6\" class=\"sk-top-container\"><div class=\"sk-text-repr-fallback\"><pre>XGBClassifier(base_score=None, booster=None, callbacks=None,\n",
       "              colsample_bylevel=None, colsample_bynode=None,\n",
       "              colsample_bytree=None, early_stopping_rounds=None,\n",
       "              enable_categorical=False, eval_metric=None, feature_types=None,\n",
       "              gamma=None, gpu_id=None, grow_policy=None, importance_type=None,\n",
       "              interaction_constraints=None, learning_rate=None, max_bin=None,\n",
       "              max_cat_threshold=None, max_cat_to_onehot=None,\n",
       "              max_delta_step=None, max_depth=None, max_leaves=None,\n",
       "              min_child_weight=None, missing=nan, monotone_constraints=None,\n",
       "              n_estimators=100, n_jobs=None, num_parallel_tree=None,\n",
       "              objective=&#x27;multi:softprob&#x27;, predictor=None, ...)</pre><b>In a Jupyter environment, please rerun this cell to show the HTML representation or trust the notebook. <br />On GitHub, the HTML representation is unable to render, please try loading this page with nbviewer.org.</b></div><div class=\"sk-container\" hidden><div class=\"sk-item\"><div class=\"sk-estimator sk-toggleable\"><input class=\"sk-toggleable__control sk-hidden--visually\" id=\"sk-estimator-id-6\" type=\"checkbox\" checked><label for=\"sk-estimator-id-6\" class=\"sk-toggleable__label sk-toggleable__label-arrow\">XGBClassifier</label><div class=\"sk-toggleable__content\"><pre>XGBClassifier(base_score=None, booster=None, callbacks=None,\n",
       "              colsample_bylevel=None, colsample_bynode=None,\n",
       "              colsample_bytree=None, early_stopping_rounds=None,\n",
       "              enable_categorical=False, eval_metric=None, feature_types=None,\n",
       "              gamma=None, gpu_id=None, grow_policy=None, importance_type=None,\n",
       "              interaction_constraints=None, learning_rate=None, max_bin=None,\n",
       "              max_cat_threshold=None, max_cat_to_onehot=None,\n",
       "              max_delta_step=None, max_depth=None, max_leaves=None,\n",
       "              min_child_weight=None, missing=nan, monotone_constraints=None,\n",
       "              n_estimators=100, n_jobs=None, num_parallel_tree=None,\n",
       "              objective=&#x27;multi:softprob&#x27;, predictor=None, ...)</pre></div></div></div></div></div>"
      ],
      "text/plain": [
       "XGBClassifier(base_score=None, booster=None, callbacks=None,\n",
       "              colsample_bylevel=None, colsample_bynode=None,\n",
       "              colsample_bytree=None, early_stopping_rounds=None,\n",
       "              enable_categorical=False, eval_metric=None, feature_types=None,\n",
       "              gamma=None, gpu_id=None, grow_policy=None, importance_type=None,\n",
       "              interaction_constraints=None, learning_rate=None, max_bin=None,\n",
       "              max_cat_threshold=None, max_cat_to_onehot=None,\n",
       "              max_delta_step=None, max_depth=None, max_leaves=None,\n",
       "              min_child_weight=None, missing=nan, monotone_constraints=None,\n",
       "              n_estimators=100, n_jobs=None, num_parallel_tree=None,\n",
       "              objective='multi:softprob', predictor=None, ...)"
      ]
     },
     "execution_count": 67,
     "metadata": {},
     "output_type": "execute_result"
    }
   ],
   "source": [
    "clf_sec = XGBClassifier(random_state=42)\n",
    "clf_sec.fit(X_train_2, y_train_2, early_stopping_rounds=10, \n",
    "        eval_set=[(X_test_2, y_test_2)])"
   ]
  },
  {
   "cell_type": "code",
   "execution_count": 68,
   "id": "2a33cd23",
   "metadata": {},
   "outputs": [],
   "source": [
    "y_pred_test = clf_sec.predict(X_test_2)\n",
    "y_pred_train = clf_sec.predict(X_train_2)"
   ]
  },
  {
   "cell_type": "code",
   "execution_count": 69,
   "id": "f242ceeb",
   "metadata": {},
   "outputs": [],
   "source": [
    "pred_test_str = map_numbers_to_categories(y_pred_test, inverted_mapping_sec)\n",
    "pred_train_str = map_numbers_to_categories(y_pred_train, inverted_mapping_sec)"
   ]
  },
  {
   "cell_type": "code",
   "execution_count": 70,
   "id": "15009ec9",
   "metadata": {},
   "outputs": [
    {
     "name": "stdout",
     "output_type": "stream",
     "text": [
      "Accuracy Test: 0.9450601273284602\n",
      "Accuracy Train: 0.9670911282293141\n"
     ]
    }
   ],
   "source": [
    "# Evaluate accuracy\n",
    "accuracy_test = accuracy_score(y_test_2.to_list(), y_pred_test)\n",
    "accuracy_train = accuracy_score(y_train_2.to_list(), y_pred_train)\n",
    "print(\"Accuracy Test:\", accuracy_test)\n",
    "print(\"Accuracy Train:\", accuracy_train)"
   ]
  },
  {
   "cell_type": "code",
   "execution_count": 71,
   "id": "19623bd8",
   "metadata": {},
   "outputs": [
    {
     "name": "stdout",
     "output_type": "stream",
     "text": [
      "Classification Report:\n",
      "              precision    recall  f1-score   support\n",
      "\n",
      "           0       0.96      0.97      0.96      1248\n",
      "           1       0.87      0.73      0.79       133\n",
      "           2       0.94      0.98      0.96      1522\n",
      "           3       0.83      0.72      0.77       298\n",
      "           4       0.98      0.99      0.99       332\n",
      "           5       0.82      0.78      0.80       138\n",
      "           6       1.00      1.00      1.00         2\n",
      "           7       0.79      0.75      0.77        20\n",
      "           8       1.00      0.99      1.00       533\n",
      "           9       1.00      1.00      1.00         5\n",
      "          10       1.00      1.00      1.00         4\n",
      "          11       0.00      0.00      0.00         1\n",
      "          13       1.00      0.80      0.89         5\n",
      "\n",
      "    accuracy                           0.95      4241\n",
      "   macro avg       0.86      0.82      0.84      4241\n",
      "weighted avg       0.94      0.95      0.94      4241\n",
      "\n"
     ]
    },
    {
     "name": "stderr",
     "output_type": "stream",
     "text": [
      "/Users/enderson.santos/anaconda3/lib/python3.10/site-packages/sklearn/metrics/_classification.py:1344: UndefinedMetricWarning: Precision and F-score are ill-defined and being set to 0.0 in labels with no predicted samples. Use `zero_division` parameter to control this behavior.\n",
      "  _warn_prf(average, modifier, msg_start, len(result))\n",
      "/Users/enderson.santos/anaconda3/lib/python3.10/site-packages/sklearn/metrics/_classification.py:1344: UndefinedMetricWarning: Precision and F-score are ill-defined and being set to 0.0 in labels with no predicted samples. Use `zero_division` parameter to control this behavior.\n",
      "  _warn_prf(average, modifier, msg_start, len(result))\n",
      "/Users/enderson.santos/anaconda3/lib/python3.10/site-packages/sklearn/metrics/_classification.py:1344: UndefinedMetricWarning: Precision and F-score are ill-defined and being set to 0.0 in labels with no predicted samples. Use `zero_division` parameter to control this behavior.\n",
      "  _warn_prf(average, modifier, msg_start, len(result))\n"
     ]
    }
   ],
   "source": [
    "print(\"Classification Report:\")\n",
    "print(classification_report(y_test_2.to_list(), y_pred_test))"
   ]
  },
  {
   "cell_type": "markdown",
   "id": "dcd2ef02",
   "metadata": {},
   "source": [
    "# Training with the whole data"
   ]
  },
  {
   "cell_type": "markdown",
   "id": "5d71f6e0",
   "metadata": {},
   "source": [
    "Vamos treinar agora o modelo com os dados todos. São exatamente os mesmos passos aplicados aos dados todos"
   ]
  },
  {
   "cell_type": "code",
   "execution_count": 18,
   "id": "3bf09bec",
   "metadata": {},
   "outputs": [],
   "source": [
    "df = pd.read_excel('../../data/01.Dataset FI_06032024.xlsx', sheet_name=2)"
   ]
  },
  {
   "cell_type": "code",
   "execution_count": 19,
   "id": "83501138",
   "metadata": {},
   "outputs": [],
   "source": [
    "df_clean = df.copy(\"../data_missing/sampled_indices.csv\")"
   ]
  },
  {
   "cell_type": "code",
   "execution_count": 20,
   "id": "47ba4f5b",
   "metadata": {},
   "outputs": [],
   "source": [
    "data_eval = df_clean.sample(1000, random_state=42)\n",
    "not_sampled_mask = ~df_clean.index.isin(data_eval)  # Create a boolean mask for non-sampled rows\n",
    "df_clean = df_clean[not_sampled_mask]\n",
    "\n",
    "\n",
    "data_pred = df_clean.sample(1000, random_state=42)\n",
    "not_sampled_mask = ~df_clean.index.isin(data_pred)\n",
    "df_clean = df_clean[not_sampled_mask]"
   ]
  },
  {
   "cell_type": "code",
   "execution_count": 21,
   "id": "4f3e2d79",
   "metadata": {},
   "outputs": [],
   "source": [
    "df_clean.to_csv(\"../data_train/data_train.csv\")\n",
    "data_eval.to_csv(\"../data_train/data_eval.csv\")\n",
    "data_pred.to_csv(\"../data_missing/data_pred.csv\")"
   ]
  },
  {
   "cell_type": "code",
   "execution_count": 22,
   "id": "4aade01d",
   "metadata": {},
   "outputs": [],
   "source": [
    "# Get unique categories from 'TerritorioCon' column\n",
    "unique_categories_ter = df_clean['TerritorioCon'].unique()\n",
    "category_mapping_ter = dict(zip(unique_categories_ter, range(len(unique_categories_ter))))\n",
    "inverted_mapping_ter = {value: key for key, value in category_mapping_ter.items()}\n",
    "\n",
    "unique_categories_sec = df_clean[\"SetorInstitucionalCon\"].unique()\n",
    "category_mapping_sec = dict(zip(unique_categories_sec, range(len(unique_categories_sec))))\n",
    "inverted_mapping_sec = {value: key for key, value in category_mapping_sec.items()}\n",
    "\n",
    "df_clean[\"encoded_label_territorio\"] = df_clean[\"TerritorioCon\"].apply(encode_target, args=[category_mapping_ter])\n",
    "df_clean[\"encoded_label_setor\"] = df_clean['SetorInstitucionalCon'].apply(encode_target, args=[category_mapping_sec])"
   ]
  },
  {
   "cell_type": "code",
   "execution_count": 23,
   "id": "417dc947",
   "metadata": {},
   "outputs": [],
   "source": [
    "df_clean['tokenized_Descricao_text'] = df_clean['DescricaoInstrumento'].apply(lambda x: simple_preprocess(x))\n",
    "word2vec_model = Word2Vec(sentences=df_clean['tokenized_Descricao_text'], vector_size=100, window=5, min_count=1, workers=4)"
   ]
  },
  {
   "cell_type": "code",
   "execution_count": 24,
   "id": "c0423919",
   "metadata": {},
   "outputs": [],
   "source": [
    "df_clean['tokenized_Descricao_text'] = df_clean['DescricaoInstrumento'].apply(lambda x: simple_preprocess(x))\n",
    "word2vec_model = Word2Vec(sentences=df_clean['tokenized_Descricao_text'], vector_size=100, window=5, min_count=1, workers=4)\n",
    "\n",
    "df_clean['avg_embedding'] = df_clean['tokenized_Descricao_text'].apply(compute_avg_embedding)\n",
    "X = df_clean['avg_embedding'].apply(pd.Series).to_numpy()\n",
    "y1 = df_clean['encoded_label_territorio']\n",
    "y2 = df_clean['encoded_label_setor']\n",
    "embed_data = pd.DataFrame(X)"
   ]
  },
  {
   "cell_type": "code",
   "execution_count": 25,
   "id": "faeaa100",
   "metadata": {},
   "outputs": [],
   "source": [
    "X_train_1, X_test_1, y_train_1, y_test_1 = train_test_split(X, y1, test_size=0.2, random_state=42)\n",
    "X_train_2, X_test_2, y_train_2, y_test_2 = train_test_split(X, y2, test_size=0.2, random_state=42)"
   ]
  },
  {
   "cell_type": "code",
   "execution_count": 26,
   "id": "422967b3",
   "metadata": {},
   "outputs": [
    {
     "data": {
      "text/html": [
       "<style>#sk-container-id-1 {color: black;background-color: white;}#sk-container-id-1 pre{padding: 0;}#sk-container-id-1 div.sk-toggleable {background-color: white;}#sk-container-id-1 label.sk-toggleable__label {cursor: pointer;display: block;width: 100%;margin-bottom: 0;padding: 0.3em;box-sizing: border-box;text-align: center;}#sk-container-id-1 label.sk-toggleable__label-arrow:before {content: \"▸\";float: left;margin-right: 0.25em;color: #696969;}#sk-container-id-1 label.sk-toggleable__label-arrow:hover:before {color: black;}#sk-container-id-1 div.sk-estimator:hover label.sk-toggleable__label-arrow:before {color: black;}#sk-container-id-1 div.sk-toggleable__content {max-height: 0;max-width: 0;overflow: hidden;text-align: left;background-color: #f0f8ff;}#sk-container-id-1 div.sk-toggleable__content pre {margin: 0.2em;color: black;border-radius: 0.25em;background-color: #f0f8ff;}#sk-container-id-1 input.sk-toggleable__control:checked~div.sk-toggleable__content {max-height: 200px;max-width: 100%;overflow: auto;}#sk-container-id-1 input.sk-toggleable__control:checked~label.sk-toggleable__label-arrow:before {content: \"▾\";}#sk-container-id-1 div.sk-estimator input.sk-toggleable__control:checked~label.sk-toggleable__label {background-color: #d4ebff;}#sk-container-id-1 div.sk-label input.sk-toggleable__control:checked~label.sk-toggleable__label {background-color: #d4ebff;}#sk-container-id-1 input.sk-hidden--visually {border: 0;clip: rect(1px 1px 1px 1px);clip: rect(1px, 1px, 1px, 1px);height: 1px;margin: -1px;overflow: hidden;padding: 0;position: absolute;width: 1px;}#sk-container-id-1 div.sk-estimator {font-family: monospace;background-color: #f0f8ff;border: 1px dotted black;border-radius: 0.25em;box-sizing: border-box;margin-bottom: 0.5em;}#sk-container-id-1 div.sk-estimator:hover {background-color: #d4ebff;}#sk-container-id-1 div.sk-parallel-item::after {content: \"\";width: 100%;border-bottom: 1px solid gray;flex-grow: 1;}#sk-container-id-1 div.sk-label:hover label.sk-toggleable__label {background-color: #d4ebff;}#sk-container-id-1 div.sk-serial::before {content: \"\";position: absolute;border-left: 1px solid gray;box-sizing: border-box;top: 0;bottom: 0;left: 50%;z-index: 0;}#sk-container-id-1 div.sk-serial {display: flex;flex-direction: column;align-items: center;background-color: white;padding-right: 0.2em;padding-left: 0.2em;position: relative;}#sk-container-id-1 div.sk-item {position: relative;z-index: 1;}#sk-container-id-1 div.sk-parallel {display: flex;align-items: stretch;justify-content: center;background-color: white;position: relative;}#sk-container-id-1 div.sk-item::before, #sk-container-id-1 div.sk-parallel-item::before {content: \"\";position: absolute;border-left: 1px solid gray;box-sizing: border-box;top: 0;bottom: 0;left: 50%;z-index: -1;}#sk-container-id-1 div.sk-parallel-item {display: flex;flex-direction: column;z-index: 1;position: relative;background-color: white;}#sk-container-id-1 div.sk-parallel-item:first-child::after {align-self: flex-end;width: 50%;}#sk-container-id-1 div.sk-parallel-item:last-child::after {align-self: flex-start;width: 50%;}#sk-container-id-1 div.sk-parallel-item:only-child::after {width: 0;}#sk-container-id-1 div.sk-dashed-wrapped {border: 1px dashed gray;margin: 0 0.4em 0.5em 0.4em;box-sizing: border-box;padding-bottom: 0.4em;background-color: white;}#sk-container-id-1 div.sk-label label {font-family: monospace;font-weight: bold;display: inline-block;line-height: 1.2em;}#sk-container-id-1 div.sk-label-container {text-align: center;}#sk-container-id-1 div.sk-container {/* jupyter's `normalize.less` sets `[hidden] { display: none; }` but bootstrap.min.css set `[hidden] { display: none !important; }` so we also need the `!important` here to be able to override the default hidden behavior on the sphinx rendered scikit-learn.org. See: https://github.com/scikit-learn/scikit-learn/issues/21755 */display: inline-block !important;position: relative;}#sk-container-id-1 div.sk-text-repr-fallback {display: none;}</style><div id=\"sk-container-id-1\" class=\"sk-top-container\"><div class=\"sk-text-repr-fallback\"><pre>XGBClassifier(base_score=None, booster=None, callbacks=None,\n",
       "              colsample_bylevel=None, colsample_bynode=None,\n",
       "              colsample_bytree=None, early_stopping_rounds=None,\n",
       "              enable_categorical=False, eval_metric=None, feature_types=None,\n",
       "              gamma=None, gpu_id=None, grow_policy=None, importance_type=None,\n",
       "              interaction_constraints=None, learning_rate=None, max_bin=None,\n",
       "              max_cat_threshold=None, max_cat_to_onehot=None,\n",
       "              max_delta_step=None, max_depth=5, max_leaves=None,\n",
       "              min_child_weight=None, missing=nan, monotone_constraints=None,\n",
       "              n_estimators=100, n_jobs=None, num_parallel_tree=None,\n",
       "              objective=&#x27;multi:softprob&#x27;, predictor=None, ...)</pre><b>In a Jupyter environment, please rerun this cell to show the HTML representation or trust the notebook. <br />On GitHub, the HTML representation is unable to render, please try loading this page with nbviewer.org.</b></div><div class=\"sk-container\" hidden><div class=\"sk-item\"><div class=\"sk-estimator sk-toggleable\"><input class=\"sk-toggleable__control sk-hidden--visually\" id=\"sk-estimator-id-1\" type=\"checkbox\" checked><label for=\"sk-estimator-id-1\" class=\"sk-toggleable__label sk-toggleable__label-arrow\">XGBClassifier</label><div class=\"sk-toggleable__content\"><pre>XGBClassifier(base_score=None, booster=None, callbacks=None,\n",
       "              colsample_bylevel=None, colsample_bynode=None,\n",
       "              colsample_bytree=None, early_stopping_rounds=None,\n",
       "              enable_categorical=False, eval_metric=None, feature_types=None,\n",
       "              gamma=None, gpu_id=None, grow_policy=None, importance_type=None,\n",
       "              interaction_constraints=None, learning_rate=None, max_bin=None,\n",
       "              max_cat_threshold=None, max_cat_to_onehot=None,\n",
       "              max_delta_step=None, max_depth=5, max_leaves=None,\n",
       "              min_child_weight=None, missing=nan, monotone_constraints=None,\n",
       "              n_estimators=100, n_jobs=None, num_parallel_tree=None,\n",
       "              objective=&#x27;multi:softprob&#x27;, predictor=None, ...)</pre></div></div></div></div></div>"
      ],
      "text/plain": [
       "XGBClassifier(base_score=None, booster=None, callbacks=None,\n",
       "              colsample_bylevel=None, colsample_bynode=None,\n",
       "              colsample_bytree=None, early_stopping_rounds=None,\n",
       "              enable_categorical=False, eval_metric=None, feature_types=None,\n",
       "              gamma=None, gpu_id=None, grow_policy=None, importance_type=None,\n",
       "              interaction_constraints=None, learning_rate=None, max_bin=None,\n",
       "              max_cat_threshold=None, max_cat_to_onehot=None,\n",
       "              max_delta_step=None, max_depth=5, max_leaves=None,\n",
       "              min_child_weight=None, missing=nan, monotone_constraints=None,\n",
       "              n_estimators=100, n_jobs=None, num_parallel_tree=None,\n",
       "              objective='multi:softprob', predictor=None, ...)"
      ]
     },
     "execution_count": 26,
     "metadata": {},
     "output_type": "execute_result"
    }
   ],
   "source": [
    "clf_ter = XGBClassifier(random_state=42, max_depth=5)\n",
    "clf_ter.fit(X, y1)"
   ]
  },
  {
   "cell_type": "code",
   "execution_count": 27,
   "id": "90f7199d",
   "metadata": {},
   "outputs": [
    {
     "data": {
      "text/html": [
       "<style>#sk-container-id-2 {color: black;background-color: white;}#sk-container-id-2 pre{padding: 0;}#sk-container-id-2 div.sk-toggleable {background-color: white;}#sk-container-id-2 label.sk-toggleable__label {cursor: pointer;display: block;width: 100%;margin-bottom: 0;padding: 0.3em;box-sizing: border-box;text-align: center;}#sk-container-id-2 label.sk-toggleable__label-arrow:before {content: \"▸\";float: left;margin-right: 0.25em;color: #696969;}#sk-container-id-2 label.sk-toggleable__label-arrow:hover:before {color: black;}#sk-container-id-2 div.sk-estimator:hover label.sk-toggleable__label-arrow:before {color: black;}#sk-container-id-2 div.sk-toggleable__content {max-height: 0;max-width: 0;overflow: hidden;text-align: left;background-color: #f0f8ff;}#sk-container-id-2 div.sk-toggleable__content pre {margin: 0.2em;color: black;border-radius: 0.25em;background-color: #f0f8ff;}#sk-container-id-2 input.sk-toggleable__control:checked~div.sk-toggleable__content {max-height: 200px;max-width: 100%;overflow: auto;}#sk-container-id-2 input.sk-toggleable__control:checked~label.sk-toggleable__label-arrow:before {content: \"▾\";}#sk-container-id-2 div.sk-estimator input.sk-toggleable__control:checked~label.sk-toggleable__label {background-color: #d4ebff;}#sk-container-id-2 div.sk-label input.sk-toggleable__control:checked~label.sk-toggleable__label {background-color: #d4ebff;}#sk-container-id-2 input.sk-hidden--visually {border: 0;clip: rect(1px 1px 1px 1px);clip: rect(1px, 1px, 1px, 1px);height: 1px;margin: -1px;overflow: hidden;padding: 0;position: absolute;width: 1px;}#sk-container-id-2 div.sk-estimator {font-family: monospace;background-color: #f0f8ff;border: 1px dotted black;border-radius: 0.25em;box-sizing: border-box;margin-bottom: 0.5em;}#sk-container-id-2 div.sk-estimator:hover {background-color: #d4ebff;}#sk-container-id-2 div.sk-parallel-item::after {content: \"\";width: 100%;border-bottom: 1px solid gray;flex-grow: 1;}#sk-container-id-2 div.sk-label:hover label.sk-toggleable__label {background-color: #d4ebff;}#sk-container-id-2 div.sk-serial::before {content: \"\";position: absolute;border-left: 1px solid gray;box-sizing: border-box;top: 0;bottom: 0;left: 50%;z-index: 0;}#sk-container-id-2 div.sk-serial {display: flex;flex-direction: column;align-items: center;background-color: white;padding-right: 0.2em;padding-left: 0.2em;position: relative;}#sk-container-id-2 div.sk-item {position: relative;z-index: 1;}#sk-container-id-2 div.sk-parallel {display: flex;align-items: stretch;justify-content: center;background-color: white;position: relative;}#sk-container-id-2 div.sk-item::before, #sk-container-id-2 div.sk-parallel-item::before {content: \"\";position: absolute;border-left: 1px solid gray;box-sizing: border-box;top: 0;bottom: 0;left: 50%;z-index: -1;}#sk-container-id-2 div.sk-parallel-item {display: flex;flex-direction: column;z-index: 1;position: relative;background-color: white;}#sk-container-id-2 div.sk-parallel-item:first-child::after {align-self: flex-end;width: 50%;}#sk-container-id-2 div.sk-parallel-item:last-child::after {align-self: flex-start;width: 50%;}#sk-container-id-2 div.sk-parallel-item:only-child::after {width: 0;}#sk-container-id-2 div.sk-dashed-wrapped {border: 1px dashed gray;margin: 0 0.4em 0.5em 0.4em;box-sizing: border-box;padding-bottom: 0.4em;background-color: white;}#sk-container-id-2 div.sk-label label {font-family: monospace;font-weight: bold;display: inline-block;line-height: 1.2em;}#sk-container-id-2 div.sk-label-container {text-align: center;}#sk-container-id-2 div.sk-container {/* jupyter's `normalize.less` sets `[hidden] { display: none; }` but bootstrap.min.css set `[hidden] { display: none !important; }` so we also need the `!important` here to be able to override the default hidden behavior on the sphinx rendered scikit-learn.org. See: https://github.com/scikit-learn/scikit-learn/issues/21755 */display: inline-block !important;position: relative;}#sk-container-id-2 div.sk-text-repr-fallback {display: none;}</style><div id=\"sk-container-id-2\" class=\"sk-top-container\"><div class=\"sk-text-repr-fallback\"><pre>XGBClassifier(base_score=None, booster=None, callbacks=None,\n",
       "              colsample_bylevel=None, colsample_bynode=None,\n",
       "              colsample_bytree=None, early_stopping_rounds=None,\n",
       "              enable_categorical=False, eval_metric=None, feature_types=None,\n",
       "              gamma=None, gpu_id=None, grow_policy=None, importance_type=None,\n",
       "              interaction_constraints=None, learning_rate=None, max_bin=None,\n",
       "              max_cat_threshold=None, max_cat_to_onehot=None,\n",
       "              max_delta_step=None, max_depth=5, max_leaves=None,\n",
       "              min_child_weight=None, missing=nan, monotone_constraints=None,\n",
       "              n_estimators=100, n_jobs=None, num_parallel_tree=None,\n",
       "              objective=&#x27;multi:softprob&#x27;, predictor=None, ...)</pre><b>In a Jupyter environment, please rerun this cell to show the HTML representation or trust the notebook. <br />On GitHub, the HTML representation is unable to render, please try loading this page with nbviewer.org.</b></div><div class=\"sk-container\" hidden><div class=\"sk-item\"><div class=\"sk-estimator sk-toggleable\"><input class=\"sk-toggleable__control sk-hidden--visually\" id=\"sk-estimator-id-2\" type=\"checkbox\" checked><label for=\"sk-estimator-id-2\" class=\"sk-toggleable__label sk-toggleable__label-arrow\">XGBClassifier</label><div class=\"sk-toggleable__content\"><pre>XGBClassifier(base_score=None, booster=None, callbacks=None,\n",
       "              colsample_bylevel=None, colsample_bynode=None,\n",
       "              colsample_bytree=None, early_stopping_rounds=None,\n",
       "              enable_categorical=False, eval_metric=None, feature_types=None,\n",
       "              gamma=None, gpu_id=None, grow_policy=None, importance_type=None,\n",
       "              interaction_constraints=None, learning_rate=None, max_bin=None,\n",
       "              max_cat_threshold=None, max_cat_to_onehot=None,\n",
       "              max_delta_step=None, max_depth=5, max_leaves=None,\n",
       "              min_child_weight=None, missing=nan, monotone_constraints=None,\n",
       "              n_estimators=100, n_jobs=None, num_parallel_tree=None,\n",
       "              objective=&#x27;multi:softprob&#x27;, predictor=None, ...)</pre></div></div></div></div></div>"
      ],
      "text/plain": [
       "XGBClassifier(base_score=None, booster=None, callbacks=None,\n",
       "              colsample_bylevel=None, colsample_bynode=None,\n",
       "              colsample_bytree=None, early_stopping_rounds=None,\n",
       "              enable_categorical=False, eval_metric=None, feature_types=None,\n",
       "              gamma=None, gpu_id=None, grow_policy=None, importance_type=None,\n",
       "              interaction_constraints=None, learning_rate=None, max_bin=None,\n",
       "              max_cat_threshold=None, max_cat_to_onehot=None,\n",
       "              max_delta_step=None, max_depth=5, max_leaves=None,\n",
       "              min_child_weight=None, missing=nan, monotone_constraints=None,\n",
       "              n_estimators=100, n_jobs=None, num_parallel_tree=None,\n",
       "              objective='multi:softprob', predictor=None, ...)"
      ]
     },
     "execution_count": 27,
     "metadata": {},
     "output_type": "execute_result"
    }
   ],
   "source": [
    "clf_sec = XGBClassifier(random_state=42, max_depth=5)\n",
    "clf_sec.fit(X, y2)"
   ]
  },
  {
   "cell_type": "markdown",
   "id": "2931db7c",
   "metadata": {},
   "source": [
    "Função que permite usar o modelo e retornar as previsões para novas entradas"
   ]
  },
  {
   "cell_type": "code",
   "execution_count": 28,
   "id": "28969268",
   "metadata": {},
   "outputs": [],
   "source": [
    "def return_embeedings(string, word2vec_model,simple_preprocess, clf_t, clf_s, inverted_mapping_t, inverted_mapping_s):\n",
    "    case = pd.DataFrame({'DescricaoInstrumento': [string]})\n",
    "    case['tokenized_Descricao_text'] = case['DescricaoInstrumento'].apply(lambda x: simple_preprocess(x))\n",
    "    case['avg_embedding'] = case['tokenized_Descricao_text'].apply(compute_avg_embedding)\n",
    "    \n",
    "    X = case['avg_embedding'].apply(pd.Series).to_numpy()\n",
    "    \n",
    "    prediction_t = clf_t.predict(X)\n",
    "    str_pred_t = map_numbers_to_categories(prediction_t, inverted_mapping_t)\n",
    "    \n",
    "    prediction_s = clf_s.predict(X)\n",
    "    str_pred_s = map_numbers_to_categories(prediction_s, inverted_mapping_s)\n",
    "    \n",
    "    return str_pred_t, str_pred_s"
   ]
  },
  {
   "cell_type": "code",
   "execution_count": 29,
   "id": "27411e13",
   "metadata": {},
   "outputs": [],
   "source": [
    "str_to_try = 'HEATHROW FUNDING LTD 1.50% 12/10/2027'\n",
    "str_pred_t, str_pred_s = return_embeedings(str_to_try, word2vec_model, simple_preprocess, clf_ter, clf_sec, inverted_mapping_ter, inverted_mapping_sec)"
   ]
  },
  {
   "cell_type": "code",
   "execution_count": 30,
   "id": "6521cf8c",
   "metadata": {},
   "outputs": [
    {
     "ename": "NameError",
     "evalue": "name 'sampled_indices' is not defined",
     "output_type": "error",
     "traceback": [
      "\u001b[0;31m---------------------------------------------------------------------------\u001b[0m",
      "\u001b[0;31mNameError\u001b[0m                                 Traceback (most recent call last)",
      "Cell \u001b[0;32mIn[30], line 4\u001b[0m\n\u001b[1;32m      1\u001b[0m all_str_ter \u001b[38;5;241m=\u001b[39m []\n\u001b[1;32m      2\u001b[0m all_str_sec \u001b[38;5;241m=\u001b[39m []\n\u001b[0;32m----> 4\u001b[0m \u001b[38;5;28;01mfor\u001b[39;00m i \u001b[38;5;129;01min\u001b[39;00m \u001b[38;5;28mrange\u001b[39m(\u001b[38;5;28mlen\u001b[39m(\u001b[43msampled_indices\u001b[49m)):\n\u001b[1;32m      6\u001b[0m     string \u001b[38;5;241m=\u001b[39m sampled_indices\u001b[38;5;241m.\u001b[39mDescricaoInstrumento\u001b[38;5;241m.\u001b[39miloc[i]\n\u001b[1;32m      7\u001b[0m     str_pred_t, str_pred_s \u001b[38;5;241m=\u001b[39m return_embeedings(string, word2vec_model, simple_preprocess, clf_ter, clf_sec, inverted_mapping_ter, inverted_mapping_sec)\n",
      "\u001b[0;31mNameError\u001b[0m: name 'sampled_indices' is not defined"
     ]
    }
   ],
   "source": [
    "all_str_ter = []\n",
    "all_str_sec = []\n",
    "\n",
    "for i in range(len(sampled_indices)):\n",
    "\n",
    "    string = sampled_indices.DescricaoInstrumento.iloc[i]\n",
    "    str_pred_t, str_pred_s = return_embeedings(string, word2vec_model, simple_preprocess, clf_ter, clf_sec, inverted_mapping_ter, inverted_mapping_sec)\n",
    "    \n",
    "    all_str_ter.append(str_pred_t[0])\n",
    "    all_str_sec.append(str_pred_s[0])\n",
    "    \n",
    "sampled_indices[\"sec_pred\"] = all_str_sec  \n",
    "sampled_indices[\"ter_pred\"] = all_str_ter"
   ]
  },
  {
   "cell_type": "markdown",
   "id": "dbbb27cc",
   "metadata": {},
   "source": [
    "## Gradio App"
   ]
  },
  {
   "cell_type": "markdown",
   "id": "8372267c",
   "metadata": {},
   "source": [
    "Criando um aplicativo gradio para demostrar o trabalho"
   ]
  },
  {
   "cell_type": "code",
   "execution_count": 31,
   "id": "d652da08",
   "metadata": {
    "scrolled": false
   },
   "outputs": [
    {
     "name": "stdout",
     "output_type": "stream",
     "text": [
      "Running on local URL:  http://127.0.0.1:7860\n",
      "\n",
      "To create a public link, set `share=True` in `launch()`.\n"
     ]
    },
    {
     "data": {
      "text/html": [
       "<div><iframe src=\"http://127.0.0.1:7860/\" width=\"100%\" height=\"500\" allow=\"autoplay; camera; microphone; clipboard-read; clipboard-write;\" frameborder=\"0\" allowfullscreen></iframe></div>"
      ],
      "text/plain": [
       "<IPython.core.display.HTML object>"
      ]
     },
     "metadata": {},
     "output_type": "display_data"
    },
    {
     "data": {
      "text/plain": []
     },
     "execution_count": 31,
     "metadata": {},
     "output_type": "execute_result"
    }
   ],
   "source": [
    "def return_embeedings_(string):\n",
    "    case = pd.DataFrame({'DescricaoInstrumento': [string]})\n",
    "    case['tokenized_Descricao_text'] = case['DescricaoInstrumento'].apply(lambda x: simple_preprocess(x))\n",
    "    case['avg_embedding'] = case['tokenized_Descricao_text'].apply(compute_avg_embedding)\n",
    "\n",
    "    X = case['avg_embedding'].apply(pd.Series).to_numpy()\n",
    "\n",
    "    try:\n",
    "        prediction_t = clf_ter.predict(X)\n",
    "        str_pred_t = map_numbers_to_categories(prediction_t, inverted_mapping_ter)\n",
    "\n",
    "        prediction_s = clf_sec.predict(X)\n",
    "        str_pred_s = map_numbers_to_categories(prediction_s, inverted_mapping_sec)\n",
    "\n",
    "        return str(str_pred_t[0]), str(str_pred_s[0])\n",
    "           \n",
    "    except Exception as e:\n",
    "        return \"An error occurred: \" + str(e)\n",
    "\n",
    "    \n",
    "examples = [\n",
    "    [\"HEATHROW FUNDING LTD 1.50% 12/10/2027\"],\n",
    "    [\"FORTUM 1.625% A:27/02/2026\"],\n",
    "    [\"BAC FLOAT 25/4/24\"],\n",
    "    [\"DP DP 4M 0% 16/12/21CGD 0.00% 2020-12-16\"],\n",
    "]\n",
    "\n",
    "# Create the Gradio app\n",
    "iface = gr.Interface(\n",
    "    # Argument 1: function (Required)\n",
    "    fn=return_embeedings_,  # The function you want to expose as an interface\n",
    "\n",
    "    # Argument 2: input components (Required)\n",
    "    inputs=[gr.Textbox(lines=5, placeholder=\"Enter a text description\")],  # Defines user input\n",
    "\n",
    "    # Argument 3: examples (Optional)\n",
    "    examples=examples,  # List of example text descriptions (or tuples with predictions)\n",
    "\n",
    "    # Argument 4: output components (Required)\n",
    "    outputs=[\n",
    "        gr.Textbox(label=\"Prediction Territory\"),\n",
    "        gr.Textbox(label=\"Prediction Sector\"),\n",
    "    ],  # Defines how to display the output\n",
    ")\n",
    "\n",
    "# Launch the app\n",
    "iface.launch()"
   ]
  },
  {
   "cell_type": "markdown",
   "id": "e001a6e3",
   "metadata": {},
   "source": [
    "## Saving and reading models"
   ]
  },
  {
   "cell_type": "code",
   "execution_count": 236,
   "id": "3487b312",
   "metadata": {},
   "outputs": [],
   "source": [
    "with open('model_data.pkl', 'wb') as f:\n",
    "    pickle.dump(inverted_mapping_ter, f)\n",
    "    pickle.dump(inverted_mapping_sec, f)\n",
    "    pickle.dump(word2vec_model, f)\n",
    "    pickle.dump(clf_sec, f)\n",
    "    pickle.dump(clf_ter, f)"
   ]
  },
  {
   "cell_type": "code",
   "execution_count": 238,
   "id": "5fed197e",
   "metadata": {},
   "outputs": [],
   "source": [
    "with open('model_data.pkl', 'rb') as f:\n",
    "    # Load the data objects in the same order they were saved\n",
    "    inverted_mapping_ter = pickle.load(f)\n",
    "    inverted_mapping_sec = pickle.load(f)\n",
    "    word2vec_model = pickle.load(f)\n",
    "    clf_sec = pickle.load(f)\n",
    "    clf_ter = pickle.load(f)"
   ]
  }
 ],
 "metadata": {
  "kernelspec": {
   "display_name": "Python 3 (ipykernel)",
   "language": "python",
   "name": "python3"
  },
  "language_info": {
   "codemirror_mode": {
    "name": "ipython",
    "version": 3
   },
   "file_extension": ".py",
   "mimetype": "text/x-python",
   "name": "python",
   "nbconvert_exporter": "python",
   "pygments_lexer": "ipython3",
   "version": "3.10.9"
  }
 },
 "nbformat": 4,
 "nbformat_minor": 5
}
